{
 "cells": [
  {
   "cell_type": "markdown",
   "metadata": {
    "ein.tags": [
     "worksheet-0"
    ]
   },
   "source": [
    "# Forecasting Passenger Traffic "
   ]
  },
  {
   "cell_type": "markdown",
   "metadata": {
    "ein.tags": [
     "worksheet-0"
    ]
   },
   "source": [
    "# Problem Statement"
   ]
  },
  {
   "cell_type": "markdown",
   "metadata": {
    "ein.tags": [
     "worksheet-0"
    ]
   },
   "source": [
    "Given an airport's total monthly passenger counts for a period of NN months, forecast its passenger count for the next 12 months. "
   ]
  },
  {
   "cell_type": "markdown",
   "metadata": {
    "ein.tags": [
     "worksheet-0"
    ]
   },
   "source": [
    "## Input Format"
   ]
  },
  {
   "cell_type": "markdown",
   "metadata": {
    "ein.tags": [
     "worksheet-0"
    ]
   },
   "source": [
    "The first line contains an integer, $N$, denoting the number of months of passenger data. The $N$ subsequent lines each contain the monthly passenger counts in the form of 2 tab-separated values:\n",
    "\n",
    "    1. The first value is $MonthNum_X$, where $X$ is an an integer denoting the month number.\n",
    "    2. The second value is an integer denoting the number of passengers for that month.\n"
   ]
  },
  {
   "cell_type": "markdown",
   "metadata": {
    "ein.tags": [
     "worksheet-0"
    ]
   },
   "source": [
    "## Scoring"
   ]
  },
  {
   "cell_type": "markdown",
   "metadata": {
    "ein.tags": [
     "worksheet-0"
    ]
   },
   "source": [
    "The final score obtained upon submitting your code is solely dependent on the hidden test case. We will compute the mean of the magnitude of the percentage difference by comparing your expected answers with the actual sessions for each of the missing records in all test cases (samples included).\n",
    "\n",
    "$d = MAE \\times 100$\n",
    "\n",
    "$d$ is the *mean absolute error* times 100. If $d$ is over 40 you get a score of 0"
   ]
  },
  {
   "cell_type": "markdown",
   "metadata": {
    "ein.tags": [
     "worksheet-0"
    ]
   },
   "source": [
    "## Constraints"
   ]
  },
  {
   "cell_type": "markdown",
   "metadata": {
    "ein.tags": [
     "worksheet-0"
    ]
   },
   "source": [
    "$N < 150$"
   ]
  },
  {
   "cell_type": "markdown",
   "metadata": {
    "ein.tags": [
     "worksheet-0"
    ]
   },
   "source": [
    "## Output"
   ]
  },
  {
   "cell_type": "markdown",
   "metadata": {
    "ein.tags": [
     "worksheet-0"
    ]
   },
   "source": [
    "For each $i$ from 1 to 12, print the forecasted passenger count for month $N + i$. In other words, project the next twelve months after the data set ends."
   ]
  },
  {
   "cell_type": "code",
   "execution_count": 1,
   "metadata": {
    "autoscroll": "json-false",
    "collapsed": false,
    "ein.tags": [
     "worksheet-0"
    ]
   },
   "outputs": [],
   "source": [
    "SAMPLE_INPUT = \"\"\"60\n",
    "MonthNum_1  1226800\n",
    "MonthNum_2  926891\n",
    "MonthNum_3  782725\n",
    "MonthNum_4  1023038\n",
    "MonthNum_5  1126293\n",
    "MonthNum_6  692565\n",
    "MonthNum_7  1165880\n",
    "MonthNum_8  1207156\n",
    "MonthNum_9  1129954\n",
    "MonthNum_10 745100\n",
    "MonthNum_11 1059346\n",
    "MonthNum_12 1168555\n",
    "MonthNum_13 1317458\n",
    "MonthNum_14 528045\n",
    "MonthNum_15 1220238\n",
    "MonthNum_16 874557\n",
    "MonthNum_17 1033389\n",
    "MonthNum_18 1034165\n",
    "MonthNum_19 812094\n",
    "MonthNum_20 1351419\n",
    "MonthNum_21 801822\n",
    "MonthNum_22 1044266\n",
    "MonthNum_23 722871\n",
    "MonthNum_24 742100\n",
    "MonthNum_25 839471\n",
    "MonthNum_26 1201199\n",
    "MonthNum_27 796265\n",
    "MonthNum_28 953887\n",
    "MonthNum_29 1124602\n",
    "MonthNum_30 1070181\n",
    "MonthNum_31 1160366\n",
    "MonthNum_32 1131150\n",
    "MonthNum_33 1151813\n",
    "MonthNum_34 1065316\n",
    "MonthNum_35 914800\n",
    "MonthNum_36 1093034\n",
    "MonthNum_37 937898\n",
    "MonthNum_38 991612\n",
    "MonthNum_39 865649\n",
    "MonthNum_40 990565\n",
    "MonthNum_41 965414\n",
    "MonthNum_42 949248\n",
    "MonthNum_43 1168905\n",
    "MonthNum_44 593112\n",
    "MonthNum_45 1156922\n",
    "MonthNum_46 870095\n",
    "MonthNum_47 1023262\n",
    "MonthNum_48 788327\n",
    "MonthNum_49 543605\n",
    "MonthNum_50 510786\n",
    "MonthNum_51 734714\n",
    "MonthNum_52 1133025\n",
    "MonthNum_53 1461091\n",
    "MonthNum_54 635481\n",
    "MonthNum_55 1104107\n",
    "MonthNum_56 844960\n",
    "MonthNum_57 1271967\n",
    "MonthNum_58 574319\n",
    "MonthNum_59 1063900\n",
    "MonthNum_60 724737\"\"\""
   ]
  },
  {
   "cell_type": "markdown",
   "metadata": {
    "ein.tags": [
     "worksheet-0"
    ]
   },
   "source": [
    "# a look at the data"
   ]
  },
  {
   "cell_type": "code",
   "execution_count": 70,
   "metadata": {
    "autoscroll": "json-false",
    "collapsed": false,
    "ein.tags": [
     "worksheet-0"
    ]
   },
   "outputs": [],
   "source": [
    "# python standard library\n",
    "from io import StringIO\n",
    "\n",
    "# third party\n",
    "import matplotlib\n",
    "import pandas\n",
    "import seaborn"
   ]
  },
  {
   "cell_type": "code",
   "execution_count": 71,
   "metadata": {
    "autoscroll": "json-false",
    "collapsed": false,
    "ein.tags": [
     "worksheet-0"
    ]
   },
   "outputs": [],
   "source": [
    "%matplotlib inline"
   ]
  },
  {
   "cell_type": "code",
   "execution_count": 67,
   "metadata": {
    "autoscroll": "json-false",
    "collapsed": false,
    "ein.tags": [
     "worksheet-0"
    ]
   },
   "outputs": [],
   "source": [
    "lines = SAMPLE_INPUT.split('\\n')[1:]\n",
    "lines = '\\n'.join(lines)\n",
    "line_stream = StringIO(unicode(lines))\n"
   ]
  },
  {
   "cell_type": "code",
   "execution_count": 68,
   "metadata": {
    "autoscroll": "json-false",
    "collapsed": false,
    "ein.tags": [
     "worksheet-0"
    ]
   },
   "outputs": [],
   "source": [
    "data = pandas.read_csv(line_stream, sep='\\s+', header=None, names='month passengers'.split())\n",
    "#del(data['month'])"
   ]
  },
  {
   "cell_type": "code",
   "execution_count": 69,
   "metadata": {
    "autoscroll": "json-false",
    "collapsed": false,
    "ein.tags": [
     "worksheet-0"
    ]
   },
   "outputs": [
    {
     "data": {
      "text/plain": [
       "          month  passengers\n0    MonthNum_1     1226800\n1    MonthNum_2      926891\n2    MonthNum_3      782725\n3    MonthNum_4     1023038\n4    MonthNum_5     1126293\n5    MonthNum_6      692565\n6    MonthNum_7     1165880\n7    MonthNum_8     1207156\n8    MonthNum_9     1129954\n9   MonthNum_10      745100\n10  MonthNum_11     1059346\n11  MonthNum_12     1168555\n12  MonthNum_13     1317458\n13  MonthNum_14      528045\n14  MonthNum_15     1220238\n15  MonthNum_16      874557\n16  MonthNum_17     1033389\n17  MonthNum_18     1034165\n18  MonthNum_19      812094\n19  MonthNum_20     1351419\n20  MonthNum_21      801822\n21  MonthNum_22     1044266\n22  MonthNum_23      722871\n23  MonthNum_24      742100\n24  MonthNum_25      839471\n25  MonthNum_26     1201199\n26  MonthNum_27      796265\n27  MonthNum_28      953887\n28  MonthNum_29     1124602\n29  MonthNum_30     1070181\n30  MonthNum_31     1160366\n31  MonthNum_32     1131150\n32  MonthNum_33     1151813\n33  MonthNum_34     1065316\n34  MonthNum_35      914800\n35  MonthNum_36     1093034\n36  MonthNum_37      937898\n37  MonthNum_38      991612\n38  MonthNum_39      865649\n39  MonthNum_40      990565\n40  MonthNum_41      965414\n41  MonthNum_42      949248\n42  MonthNum_43     1168905\n43  MonthNum_44      593112\n44  MonthNum_45     1156922\n45  MonthNum_46      870095\n46  MonthNum_47     1023262\n47  MonthNum_48      788327\n48  MonthNum_49      543605\n49  MonthNum_50      510786\n50  MonthNum_51      734714\n51  MonthNum_52     1133025\n52  MonthNum_53     1461091\n53  MonthNum_54      635481\n54  MonthNum_55     1104107\n55  MonthNum_56      844960\n56  MonthNum_57     1271967\n57  MonthNum_58      574319\n58  MonthNum_59     1063900\n59  MonthNum_60      724737"
      ]
     },
     "execution_count": 69,
     "metadata": {},
     "output_type": "execute_result"
    }
   ],
   "source": []
  }
 ],
 "metadata": {},
 "nbformat": 4,
 "nbformat_minor": 0
}
