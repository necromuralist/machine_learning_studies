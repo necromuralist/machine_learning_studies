{
 "cells": [
  {
   "cell_type": "markdown",
   "metadata": {
    "ein.tags": [
     "worksheet-0"
    ]
   },
   "source": [
    "# Data Exploration"
   ]
  },
  {
   "cell_type": "code",
   "execution_count": 18,
   "metadata": {
    "autoscroll": "json-false",
    "collapsed": false,
    "ein.tags": [
     "worksheet-0"
    ]
   },
   "outputs": [],
   "source": [
    "# third party\n",
    "import pandas\n",
    "import matplotlib.pyplot as plot\n",
    "import seaborn\n",
    "from tabulate import tabulate"
   ]
  },
  {
   "cell_type": "code",
   "execution_count": 3,
   "metadata": {
    "autoscroll": "json-false",
    "collapsed": false,
    "ein.tags": [
     "worksheet-0"
    ]
   },
   "outputs": [],
   "source": [
    "%matplotlib inline"
   ]
  },
  {
   "cell_type": "code",
   "execution_count": 5,
   "metadata": {
    "autoscroll": "json-false",
    "collapsed": false,
    "ein.tags": [
     "worksheet-0"
    ]
   },
   "outputs": [],
   "source": [
    "train_data = pandas.read_csv('train.csv')"
   ]
  },
  {
   "cell_type": "code",
   "execution_count": 7,
   "metadata": {
    "autoscroll": "json-false",
    "collapsed": false,
    "ein.tags": [
     "worksheet-0"
    ]
   },
   "outputs": [
    {
     "data": {
      "text/plain": [
       "(891, 12)"
      ]
     },
     "execution_count": 7,
     "metadata": {},
     "output_type": "execute_result"
    }
   ],
   "source": [
    "train_data.shape"
   ]
  },
  {
   "cell_type": "code",
   "execution_count": 40,
   "metadata": {
    "autoscroll": "json-false",
    "collapsed": false,
    "ein.tags": [
     "worksheet-0"
    ]
   },
   "outputs": [
    {
     "name": "stdout",
     "output_type": "stream",
     "text": [
      "['Name' 'Sex' 'Ticket' 'Cabin' 'Embarked']\n"
     ]
    }
   ],
   "source": [
    "describe_strings = train_data.describe(include=[object])\n",
    "print(describe_strings.columns.values)\n",
    "columns = list(describe_strings.columns.values)\n",
    "columns = ['Statistics'] + columns"
   ]
  },
  {
   "cell_type": "code",
   "execution_count": 41,
   "metadata": {
    "autoscroll": "json-false",
    "collapsed": false,
    "ein.tags": [
     "worksheet-0"
    ]
   },
   "outputs": [
    {
     "name": "stdout",
     "output_type": "stream",
     "text": [
      "Statistics    Name                       Sex    Ticket    Cabin        Embarked\n",
      "------------  -------------------------  -----  --------  -----------  ----------\n",
      "count         891                        891    891       204          889\n",
      "unique        891                        2      681       147          3\n",
      "top           Graham, Mr. George Edward  male   CA. 2343  C23 C25 C27  S\n",
      "freq          1                          577    7         4            644\n"
     ]
    }
   ],
   "source": [
    "print(tabulate(describe_strings, headers=columns)) "
   ]
  },
  {
   "cell_type": "code",
   "execution_count": 42,
   "metadata": {
    "autoscroll": "json-false",
    "collapsed": false,
    "ein.tags": [
     "worksheet-0"
    ]
   },
   "outputs": [
    {
     "name": "stdout",
     "output_type": "stream",
     "text": [
      "Statistics      PassengerId    Survived      Pclass       Age       SibSp       Parch      Fare\n",
      "------------  -------------  ----------  ----------  --------  ----------  ----------  --------\n",
      "count               891      891         891         714       891         891         891\n",
      "mean                446        0.383838    2.30864    29.6991    0.523008    0.381594   32.2042\n",
      "std                 257.354    0.486592    0.836071   14.5265    1.10274     0.806057   49.6934\n",
      "min                   1        0           1           0.42      0           0           0\n",
      "25%                 223.5      0           2          20.125     0           0           7.9104\n",
      "50%                 446        0           3          28         0           0          14.4542\n",
      "75%                 668.5      1           3          38         1           0          31\n",
      "max                 891        1           3          80         8           6         512.329\n"
     ]
    }
   ],
   "source": [
    "describe_numbers = train_data.describe()\n",
    "number_columns = ['Statistics'] + list(describe_numbers.columns)\n",
    "print(tabulate(describe_numbers, headers=number_columns))"
   ]
  },
  {
   "cell_type": "code",
   "execution_count": 52,
   "metadata": {
    "autoscroll": "json-false",
    "collapsed": false,
    "ein.tags": [
     "worksheet-0"
    ]
   },
   "outputs": [
    {
     "name": "stdout",
     "output_type": "stream",
     "text": [
      "Column      Fraction Available\n",
      "--------  --------------------\n",
      "Age                   0.801347\n",
      "Cabin                 0.228956\n",
      "Embarked              0.997755\n"
     ]
    }
   ],
   "source": [
    "missing_data = [column for column in train_data.columns if train_data[column].hasnans]\n",
    "rows = float(len(train_data.PassengerId))\n",
    "row_data = [(column, len(train_data[column].dropna())/rows) for column in missing_data]\n",
    "print(tabulate(row_data, headers='Column,Fraction Available'.)))"
   ]
  },
  {
   "cell_type": "markdown",
   "metadata": {
    "ein.tags": [
     "worksheet-0"
    ]
   },
   "source": [
    "## Survival Rate"
   ]
  },
  {
   "cell_type": "code",
   "execution_count": 16,
   "metadata": {
    "autoscroll": "json-false",
    "collapsed": false,
    "ein.tags": [
     "worksheet-0"
    ]
   },
   "outputs": [
    {
     "name": "stdout",
     "output_type": "stream",
     "text": [
      "0    549\n",
      "1    342\n",
      "Name: Survived, dtype: int64\n",
      "0    0.616162\n",
      "1    0.383838\n",
      "Name: Survived, dtype: float64\n"
     ]
    }
   ],
   "source": [
    "survived_counts = train_data.Survived.value_counts()\n",
    "survival_rates = survived_counts/len(train_data.PassengerId) \n",
    "print(survived_counts)\n",
    "print(survival_rates)"
   ]
  },
  {
   "cell_type": "code",
   "execution_count": null,
   "metadata": {
    "autoscroll": "json-false",
    "collapsed": false,
    "ein.tags": [
     "worksheet-0"
    ]
   },
   "outputs": [],
   "source": []
  }
 ],
 "metadata": {},
 "nbformat": 4,
 "nbformat_minor": 0
}
