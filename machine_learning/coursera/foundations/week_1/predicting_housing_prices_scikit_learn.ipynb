{
 "cells": [
  {
   "cell_type": "markdown",
   "metadata": {
    "ein.tags": [
     "worksheet-0"
    ]
   },
   "source": [
    "# Load the Data"
   ]
  },
  {
   "cell_type": "code",
   "execution_count": 19,
   "metadata": {
    "autoscroll": "json-false",
    "collapsed": false,
    "ein.tags": [
     "worksheet-0"
    ]
   },
   "outputs": [],
   "source": [
    "# third party\n",
    "import matplotlib.pyplot as plot\n",
    "import pandas\n",
    "import pylab\n",
    "import seaborn"
   ]
  },
  {
   "cell_type": "code",
   "execution_count": 12,
   "metadata": {
    "autoscroll": "json-false",
    "collapsed": false,
    "ein.tags": [
     "worksheet-0"
    ]
   },
   "outputs": [],
   "source": [
    "%matplotlib inline\n",
    "pylab.rcParams['figure.figsize'] = (10, 8)"
   ]
  },
  {
   "cell_type": "code",
   "execution_count": 2,
   "metadata": {
    "autoscroll": "json-false",
    "collapsed": false,
    "ein.tags": [
     "worksheet-0"
    ]
   },
   "outputs": [],
   "source": [
    "data = pandas.read_csv('large_data/home_data.csv')"
   ]
  },
  {
   "cell_type": "markdown",
   "metadata": {
    "ein.tags": [
     "worksheet-0"
    ]
   },
   "source": [
    "# Explore the Data"
   ]
  },
  {
   "cell_type": "code",
   "execution_count": 3,
   "metadata": {
    "autoscroll": "json-false",
    "collapsed": false,
    "ein.tags": [
     "worksheet-0"
    ]
   },
   "outputs": [
    {
     "data": {
      "text/plain": [
       "                 id           price      bedrooms     bathrooms   sqft_living  \\\ncount  2.161300e+04    21613.000000  21613.000000  21613.000000  21613.000000   \nmean   4.580302e+09   540088.141905      3.370842      2.114757   2079.899736   \nstd    2.876566e+09   367127.195968      0.930062      0.770163    918.440897   \nmin    1.000102e+06    75000.000000      0.000000      0.000000    290.000000   \n25%    2.123049e+09   321950.000000      3.000000      1.750000   1427.000000   \n50%    3.904930e+09   450000.000000      3.000000      2.250000   1910.000000   \n75%    7.308900e+09   645000.000000      4.000000      2.500000   2550.000000   \nmax    9.900000e+09  7700000.000000     33.000000      8.000000  13540.000000   \n\n             sqft_lot        floors    waterfront          view     condition  \\\ncount    21613.000000  21613.000000  21613.000000  21613.000000  21613.000000   \nmean     15106.967566      1.494309      0.007542      0.234303      3.409430   \nstd      41420.511515      0.539989      0.086517      0.766318      0.650743   \nmin        520.000000      1.000000      0.000000      0.000000      1.000000   \n25%       5040.000000      1.000000      0.000000      0.000000      3.000000   \n50%       7618.000000      1.500000      0.000000      0.000000      3.000000   \n75%      10688.000000      2.000000      0.000000      0.000000      4.000000   \nmax    1651359.000000      3.500000      1.000000      4.000000      5.000000   \n\n              grade    sqft_above  sqft_basement      yr_built  yr_renovated  \\\ncount  21613.000000  21613.000000   21613.000000  21613.000000  21613.000000   \nmean       7.656873   1788.390691     291.509045   1971.005136     84.402258   \nstd        1.175459    828.090978     442.575043     29.373411    401.679240   \nmin        1.000000    290.000000       0.000000   1900.000000      0.000000   \n25%        7.000000   1190.000000       0.000000   1951.000000      0.000000   \n50%        7.000000   1560.000000       0.000000   1975.000000      0.000000   \n75%        8.000000   2210.000000     560.000000   1997.000000      0.000000   \nmax       13.000000   9410.000000    4820.000000   2015.000000   2015.000000   \n\n            zipcode           lat          long  sqft_living15     sqft_lot15  \ncount  21613.000000  21613.000000  21613.000000   21613.000000   21613.000000  \nmean   98077.939805     47.560053   -122.213896    1986.552492   12768.455652  \nstd       53.505026      0.138564      0.140828     685.391304   27304.179631  \nmin    98001.000000     47.155900   -122.519000     399.000000     651.000000  \n25%    98033.000000     47.471000   -122.328000    1490.000000    5100.000000  \n50%    98065.000000     47.571800   -122.230000    1840.000000    7620.000000  \n75%    98118.000000     47.678000   -122.125000    2360.000000   10083.000000  \nmax    98199.000000     47.777600   -121.315000    6210.000000  871200.000000  "
      ]
     },
     "execution_count": 3,
     "metadata": {},
     "output_type": "execute_result"
    }
   ],
   "source": [
    "data.describe()"
   ]
  },
  {
   "cell_type": "code",
   "execution_count": 4,
   "metadata": {
    "autoscroll": "json-false",
    "collapsed": false,
    "ein.tags": [
     "worksheet-0"
    ]
   },
   "outputs": [
    {
     "data": {
      "text/plain": [
       "(21613, 21)"
      ]
     },
     "execution_count": 4,
     "metadata": {},
     "output_type": "execute_result"
    }
   ],
   "source": [
    "data.shape"
   ]
  },
  {
   "cell_type": "code",
   "execution_count": 14,
   "metadata": {
    "autoscroll": "json-false",
    "collapsed": false,
    "ein.tags": [
     "worksheet-0"
    ]
   },
   "outputs": [
    {
     "data": {
      "text/plain": [
       "<matplotlib.figure.Figure at 0x7f9a33b34e10>"
      ]
     },
     "metadata": {},
     "output_type": "display_data"
    }
   ],
   "source": [
    "axe = seaborn.distplot(data.price)\n",
    "title = axe.set_title('Distribution of housing prices in King County')"
   ]
  },
  {
   "cell_type": "code",
   "execution_count": 26,
   "metadata": {
    "autoscroll": "json-false",
    "collapsed": false,
    "ein.tags": [
     "worksheet-0"
    ]
   },
   "outputs": [
    {
     "data": {
      "text/plain": [
       "<matplotlib.figure.Figure at 0x7f9a33cf8dd0>"
      ]
     },
     "metadata": {},
     "output_type": "display_data"
    },
    {
     "data": {
      "text/plain": [
       "<matplotlib.figure.Figure at 0x7f9a33497ad0>"
      ]
     },
     "metadata": {},
     "output_type": "display_data"
    },
    {
     "data": {
      "text/plain": [
       "<matplotlib.figure.Figure at 0x7f9a32fb1950>"
      ]
     },
     "metadata": {},
     "output_type": "display_data"
    },
    {
     "data": {
      "text/plain": [
       "<matplotlib.figure.Figure at 0x7f9a32a9dd10>"
      ]
     },
     "metadata": {},
     "output_type": "display_data"
    },
    {
     "data": {
      "text/plain": [
       "<matplotlib.figure.Figure at 0x7f9a32bffd10>"
      ]
     },
     "metadata": {},
     "output_type": "display_data"
    },
    {
     "data": {
      "text/plain": [
       "<matplotlib.figure.Figure at 0x7f9a338bed10>"
      ]
     },
     "metadata": {},
     "output_type": "display_data"
    }
   ],
   "source": [
    "for column in (c for c in data.columns if c.startswith('sqft')):\n",
    "    figure = plot.figure()\n",
    "    axe = figure.gca()\n",
    "    datum = data[column]\n",
    "    median = datum.median()\n",
    "    axe = seaborn.distplot(datum, ax=axe)\n",
    "    axe.axvline(median)"
   ]
  },
  {
   "cell_type": "code",
   "execution_count": 27,
   "metadata": {
    "autoscroll": "json-false",
    "collapsed": false,
    "ein.tags": [
     "worksheet-0"
    ]
   },
   "outputs": [
    {
     "data": {
      "text/plain": [
       "<matplotlib.figure.Figure at 0x7f9a33d0ba50>"
      ]
     },
     "metadata": {},
     "output_type": "display_data"
    },
    {
     "data": {
      "text/plain": [
       "<matplotlib.figure.Figure at 0x7f9a32e38810>"
      ]
     },
     "metadata": {},
     "output_type": "display_data"
    },
    {
     "data": {
      "text/plain": [
       "<matplotlib.figure.Figure at 0x7f9a335e5950>"
      ]
     },
     "metadata": {},
     "output_type": "display_data"
    },
    {
     "data": {
      "text/plain": [
       "<matplotlib.figure.Figure at 0x7f9a335d7f10>"
      ]
     },
     "metadata": {},
     "output_type": "display_data"
    },
    {
     "data": {
      "text/plain": [
       "<matplotlib.figure.Figure at 0x7f9a33009190>"
      ]
     },
     "metadata": {},
     "output_type": "display_data"
    },
    {
     "data": {
      "text/plain": [
       "<matplotlib.figure.Figure at 0x7f9a32c0c650>"
      ]
     },
     "metadata": {},
     "output_type": "display_data"
    }
   ],
   "source": [
    "for column in (c for c in data.columns if c.startswith('sqft')):\n",
    "    figure = plot.figure()\n",
    "    axe = figure.gca()\n",
    "    seaborn.boxplot(data[column])"
   ]
  },
  {
   "cell_type": "markdown",
   "metadata": {
    "ein.tags": [
     "worksheet-0"
    ]
   },
   "source": [
    "# Create sqft_living Model"
   ]
  },
  {
   "cell_type": "markdown",
   "metadata": {
    "ein.tags": [
     "worksheet-0"
    ]
   },
   "source": [
    "# Create my_features Model"
   ]
  },
  {
   "cell_type": "markdown",
   "metadata": {
    "ein.tags": [
     "worksheet-0"
    ]
   },
   "source": [
    "# Compare sqft_living to my_features"
   ]
  },
  {
   "cell_type": "markdown",
   "metadata": {
    "ein.tags": [
     "worksheet-0"
    ]
   },
   "source": [
    "# Predict 'bill_gates' price"
   ]
  },
  {
   "cell_type": "markdown",
   "metadata": {
    "ein.tags": [
     "worksheet-0"
    ]
   },
   "source": [
    "# Quiz"
   ]
  },
  {
   "cell_type": "markdown",
   "metadata": {
    "ein.tags": [
     "worksheet-0"
    ]
   },
   "source": [
    "## Find the mean sales price of the most expensive zip code"
   ]
  },
  {
   "cell_type": "markdown",
   "metadata": {
    "ein.tags": [
     "worksheet-0"
    ]
   },
   "source": [
    "## Find houses with sqft_living between 2,000 and 4,000 square feet"
   ]
  },
  {
   "cell_type": "markdown",
   "metadata": {
    "ein.tags": [
     "worksheet-0"
    ]
   },
   "source": [
    "What fraction of the houses fall in this range?"
   ]
  },
  {
   "cell_type": "markdown",
   "metadata": {
    "ein.tags": [
     "worksheet-0"
    ]
   },
   "source": [
    "# Create advanced_features model"
   ]
  },
  {
   "cell_type": "markdown",
   "metadata": {
    "ein.tags": [
     "worksheet-0"
    ]
   },
   "source": [
    "## Compare the three models"
   ]
  }
 ],
 "metadata": {},
 "nbformat": 4,
 "nbformat_minor": 0
}
