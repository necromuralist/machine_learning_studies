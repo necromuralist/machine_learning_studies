{
 "cells": [
  {
   "cell_type": "markdown",
   "metadata": {
    "ein.tags": [
     "worksheet-0"
    ]
   },
   "source": [
    "# Question 1"
   ]
  },
  {
   "cell_type": "code",
   "execution_count": 1,
   "metadata": {
    "autoscroll": "json-false",
    "collapsed": false,
    "ein.tags": [
     "worksheet-0"
    ]
   },
   "outputs": [],
   "source": [
    "import pandas"
   ]
  },
  {
   "cell_type": "code",
   "execution_count": 4,
   "metadata": {
    "autoscroll": "json-false",
    "collapsed": false,
    "ein.tags": [
     "worksheet-0"
    ]
   },
   "outputs": [],
   "source": [
    "data = pandas.read_csv(\"house_data.csv\")"
   ]
  },
  {
   "cell_type": "code",
   "execution_count": 5,
   "metadata": {
    "autoscroll": "json-false",
    "collapsed": false,
    "ein.tags": [
     "worksheet-0"
    ]
   },
   "outputs": [
    {
     "data": {
      "text/plain": [
       "        Price (USD)  Number of rooms  Lot size (sq. ft.)\n",
       "count       4.00000         4.000000                   4\n",
       "mean   462500.00000         2.750000                1835\n",
       "std    110867.78913         0.957427                 170\n",
       "min    350000.00000         2.000000                1600\n",
       "25%    387500.00000         2.000000                1780\n",
       "50%    450000.00000         2.500000                1870\n",
       "75%    525000.00000         3.250000                1925\n",
       "max    600000.00000         4.000000                2000"
      ]
     },
     "execution_count": 5,
     "metadata": {},
     "output_type": "execute_result"
    }
   ],
   "source": [
    "data.describe()"
   ]
  },
  {
   "cell_type": "markdown",
   "metadata": {
    "ein.tags": [
     "worksheet-0"
    ]
   },
   "source": [
    "What are the weights for each feature that would put them on the same scale for a Euclidean distance calculation?"
   ]
  },
  {
   "cell_type": "code",
   "execution_count": 10,
   "metadata": {
    "autoscroll": "json-false",
    "collapsed": false,
    "ein.tags": [
     "worksheet-0"
    ]
   },
   "outputs": [],
   "source": [
    "class Columns(object):\n",
    "    __slots__ = ()\n",
    "    price = \"Price (USD)\"\n",
    "    rooms = \"Number of rooms\"\n",
    "    size = \"Lot size (sq. ft.)\""
   ]
  },
  {
   "cell_type": "code",
   "execution_count": 9,
   "metadata": {
    "autoscroll": "json-false",
    "collapsed": false,
    "ein.tags": [
     "worksheet-0"
    ]
   },
   "outputs": [],
   "source": [
    "def weight(vector):\n",
    "    \"\"\"\n",
    "    Calculates the weight for this vector\n",
    "    :param:\n",
    "     - `vector`: numpy array, pandas.Series, or something similar\n",
    "    \"\"\"\n",
    "    return 1.0/(max(vector) - min(vector))"
   ]
  },
  {
   "cell_type": "code",
   "execution_count": 21,
   "metadata": {
    "autoscroll": "json-false",
    "collapsed": false,
    "ein.tags": [
     "worksheet-0"
    ]
   },
   "outputs": [
    {
     "name": "stdout",
     "output_type": "stream",
     "text": [
      "price weight: 4e-06\n",
      "rooms weight: 0.5\n",
      "size weight: 0.0025\n"
     ]
    }
   ],
   "source": [
    "price_weight = weight(data[Columns.price])\n",
    "room_weight = weight(data[Columns.rooms])\n",
    "size_weight = weight(data[Columns.size])\n",
    "\n",
    "print(\"price weight: {0}\".format(price_weight))\n",
    "print(\"rooms weight: {0}\".format(room_weight))\n",
    "print(\"size weight: {0}\".format(size_weight))"
   ]
  },
  {
   "cell_type": "markdown",
   "metadata": {
    "ein.tags": [
     "worksheet-0"
    ]
   },
   "source": [
    "# Question 2\n",
    "\n",
    "Compute the euclidean distance for the given sentences. Ignore case and punctuation."
   ]
  },
  {
   "cell_type": "code",
   "execution_count": 23,
   "metadata": {
    "autoscroll": "json-false",
    "collapsed": false,
    "ein.tags": [
     "worksheet-0"
    ]
   },
   "outputs": [],
   "source": [
    "def clean(sentence):\n",
    "    \"\"\"\n",
    "    converts sentences to list of words\n",
    "\n",
    "    :param: \n",
    "     - `sentence`: string to break up\n",
    "    :return: list of lower-cased words from sentence with periods stripped\n",
    "    \"\"\"\n",
    "    sentence = sentence.strip('.')\n",
    "    sentence = sentence.lower()\n",
    "    return sentence.split()"
   ]
  },
  {
   "cell_type": "code",
   "execution_count": 27,
   "metadata": {
    "autoscroll": "json-false",
    "collapsed": false,
    "ein.tags": [
     "worksheet-0"
    ]
   },
   "outputs": [
    {
     "name": "stdout",
     "output_type": "stream",
     "text": [
      "['the', 'quick', 'brown', 'fox', 'jumps', 'over', 'the', 'lazy', 'dog']\n",
      "['a', 'quick', 'brown', 'dog', 'outpaces', 'a', 'quick', 'fox']\n"
     ]
    }
   ],
   "source": [
    "sentence_1 = \"The quick brown fox jumps over the lazy dog.\"\n",
    "sentence_2 = \"A quick brown dog outpaces a quick fox.\"\n",
    "sentence_1 = clean(sentence_1)\n",
    "print(sentence_1)\n",
    "sentence_2 = clean(sentence_2)\n",
    "print(sentence_2)"
   ]
  }
 ],
 "metadata": {
  "kernelspec": {
   "display_name": "Python 2",
   "name": "python2"
  },
  "name": "quiz_1.ipynb"
 },
 "nbformat": 4,
 "nbformat_minor": 0
}
