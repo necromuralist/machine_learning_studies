{
 "cells": [
  {
   "cell_type": "markdown",
   "metadata": {
    "ein.tags": [
     "worksheet-0"
    ]
   },
   "source": [
    "# Identifying safe loans with decision trees"
   ]
  },
  {
   "cell_type": "markdown",
   "metadata": {
    "ein.tags": [
     "worksheet-0"
    ]
   },
   "source": [
    "The [LendingClub](https://www.lendingclub.com/) is a peer-to-peer leading company that directly connects borrowers and potential lenders/investors. In this notebook, you will build a classification model to predict whether or not a loan provided by LendingClub is likely to [default](https://en.wikipedia.org/wiki/Default_(finance).\n",
    "\n",
    "In this notebook you will use data from the LendingClub to predict whether a loan will be paid off in full or the loan will be [charged off](https://en.wikipedia.org/wiki/Charge-off) and possibly go into default. In this assignment you will:\n",
    "\n",
    "* Use SFrames to do some feature engineering.\n",
    "* Train a decision-tree on the LendingClub dataset.\n",
    "* Visualize the tree.\n",
    "* Predict whether a loan will default along with prediction probabilities (on a validation set).\n",
    "* Train a complex tree model and compare it to simple tree model.\n",
    "\n",
    "Let's get started!"
   ]
  },
  {
   "cell_type": "markdown",
   "metadata": {
    "ein.tags": [
     "worksheet-0"
    ]
   },
   "source": [
    "## Fire up Graphlab Create"
   ]
  },
  {
   "cell_type": "markdown",
   "metadata": {
    "ein.tags": [
     "worksheet-0"
    ]
   },
   "source": [
    "Make sure you have the latest version of GraphLab Create. If you don't find the decision tree module, then you would need to upgrade GraphLab Create using\n",
    "\n",
    "```\n",
    "   pip install graphlab-create --upgrade\n",
    "```"
   ]
  },
  {
   "cell_type": "code",
   "execution_count": 3,
   "metadata": {
    "autoscroll": "json-false",
    "collapsed": false,
    "ein.tags": [
     "worksheet-0"
    ]
   },
   "outputs": [
    {
     "name": "stderr",
     "output_type": "stream",
     "text": [
      "2016-03-23 22:16:56,497 [ERROR] graphlab.connect.main, 204:  ========================================\n",
      "GraphLab Create requires a license to use. To get a trial, non-commercial,  or commercial license, visit https://dato.com/register.\n",
      "=================================================\n",
      "\n",
      "2016-03-23 22:16:56,502 [ERROR] graphlab.connect.main, 204:  ========================================\n",
      "GraphLab Create requires a license to use. To get a trial, non-commercial,  or commercial license, visit https://dato.com/register.\n",
      "=================================================\n",
      "\n",
      "2016-03-23 22:16:56,506 [ERROR] graphlab.connect.main, 204:  ========================================\n",
      "GraphLab Create requires a license to use. To get a trial, non-commercial,  or commercial license, visit https://dato.com/register.\n",
      "=================================================\n",
      "\n",
      "2016-03-23 22:16:56,513 [ERROR] graphlab.connect.main, 204:  ========================================\n",
      "GraphLab Create requires a license to use. To get a trial, non-commercial,  or commercial license, visit https://dato.com/register.\n",
      "=================================================\n",
      "\n",
      "2016-03-23 22:16:56,517 [ERROR] graphlab.connect.main, 204:  ========================================\n",
      "GraphLab Create requires a license to use. To get a trial, non-commercial,  or commercial license, visit https://dato.com/register.\n",
      "=================================================\n",
      "\n",
      "2016-03-23 22:16:56,523 [ERROR] graphlab.connect.main, 204:  ========================================\n",
      "GraphLab Create requires a license to use. To get a trial, non-commercial,  or commercial license, visit https://dato.com/register.\n",
      "=================================================\n",
      "\n",
      "2016-03-23 22:16:56,526 [ERROR] graphlab.connect.main, 204:  ========================================\n",
      "GraphLab Create requires a license to use. To get a trial, non-commercial,  or commercial license, visit https://dato.com/register.\n",
      "=================================================\n",
      "\n",
      "2016-03-23 22:16:56,555 [ERROR] graphlab.connect.main, 204:  ========================================\n",
      "GraphLab Create requires a license to use. To get a trial, non-commercial,  or commercial license, visit https://dato.com/register.\n",
      "=================================================\n",
      "\n",
      "2016-03-23 22:16:56,563 [ERROR] graphlab.connect.main, 204:  ========================================\n",
      "GraphLab Create requires a license to use. To get a trial, non-commercial,  or commercial license, visit https://dato.com/register.\n",
      "=================================================\n",
      "\n",
      "2016-03-23 22:16:56,567 [ERROR] graphlab.connect.main, 204:  ========================================\n",
      "GraphLab Create requires a license to use. To get a trial, non-commercial,  or commercial license, visit https://dato.com/register.\n",
      "=================================================\n",
      "\n",
      "2016-03-23 22:16:56,599 [ERROR] graphlab.connect.main, 204:  ========================================\n",
      "GraphLab Create requires a license to use. To get a trial, non-commercial,  or commercial license, visit https://dato.com/register.\n",
      "=================================================\n",
      "\n",
      "2016-03-23 22:16:56,604 [ERROR] graphlab.connect.main, 204:  ========================================\n",
      "GraphLab Create requires a license to use. To get a trial, non-commercial,  or commercial license, visit https://dato.com/register.\n",
      "=================================================\n",
      "\n",
      "2016-03-23 22:16:56,608 [ERROR] graphlab.connect.main, 204:  ========================================\n",
      "GraphLab Create requires a license to use. To get a trial, non-commercial,  or commercial license, visit https://dato.com/register.\n",
      "=================================================\n",
      "\n",
      "2016-03-23 22:16:56,614 [ERROR] graphlab.connect.main, 204:  ========================================\n",
      "GraphLab Create requires a license to use. To get a trial, non-commercial,  or commercial license, visit https://dato.com/register.\n",
      "=================================================\n",
      "\n",
      "2016-03-23 22:16:56,617 [ERROR] graphlab.connect.main, 204:  ========================================\n",
      "GraphLab Create requires a license to use. To get a trial, non-commercial,  or commercial license, visit https://dato.com/register.\n",
      "=================================================\n",
      "\n",
      "2016-03-23 22:16:56,620 [ERROR] graphlab.connect.main, 204:  ========================================\n",
      "GraphLab Create requires a license to use. To get a trial, non-commercial,  or commercial license, visit https://dato.com/register.\n",
      "=================================================\n",
      "\n",
      "2016-03-23 22:16:56,628 [ERROR] graphlab.connect.main, 204:  ========================================\n",
      "GraphLab Create requires a license to use. To get a trial, non-commercial,  or commercial license, visit https://dato.com/register.\n",
      "=================================================\n",
      "\n",
      "2016-03-23 22:16:56,633 [ERROR] graphlab.connect.main, 204:  ========================================\n",
      "GraphLab Create requires a license to use. To get a trial, non-commercial,  or commercial license, visit https://dato.com/register.\n",
      "=================================================\n",
      "\n",
      "2016-03-23 22:16:56,637 [ERROR] graphlab.connect.main, 204:  ========================================\n",
      "GraphLab Create requires a license to use. To get a trial, non-commercial,  or commercial license, visit https://dato.com/register.\n",
      "=================================================\n",
      "\n",
      "2016-03-23 22:16:56,642 [ERROR] graphlab.connect.main, 204:  ========================================\n",
      "GraphLab Create requires a license to use. To get a trial, non-commercial,  or commercial license, visit https://dato.com/register.\n",
      "=================================================\n",
      "\n",
      "2016-03-23 22:16:56,649 [ERROR] graphlab.connect.main, 204:  ========================================\n",
      "GraphLab Create requires a license to use. To get a trial, non-commercial,  or commercial license, visit https://dato.com/register.\n",
      "=================================================\n",
      "\n",
      "2016-03-23 22:16:56,652 [ERROR] graphlab.connect.main, 204:  ========================================\n",
      "GraphLab Create requires a license to use. To get a trial, non-commercial,  or commercial license, visit https://dato.com/register.\n",
      "=================================================\n",
      "\n",
      "2016-03-23 22:16:56,655 [ERROR] graphlab.connect.main, 204:  ========================================\n",
      "GraphLab Create requires a license to use. To get a trial, non-commercial,  or commercial license, visit https://dato.com/register.\n",
      "=================================================\n",
      "\n",
      "2016-03-23 22:16:56,657 [ERROR] graphlab.connect.main, 204:  ========================================\n",
      "GraphLab Create requires a license to use. To get a trial, non-commercial,  or commercial license, visit https://dato.com/register.\n",
      "=================================================\n",
      "\n",
      "2016-03-23 22:16:56,660 [ERROR] graphlab.connect.main, 204:  ========================================\n",
      "GraphLab Create requires a license to use. To get a trial, non-commercial,  or commercial license, visit https://dato.com/register.\n",
      "=================================================\n",
      "\n",
      "2016-03-23 22:16:56,664 [ERROR] graphlab.connect.main, 204:  ========================================\n",
      "GraphLab Create requires a license to use. To get a trial, non-commercial,  or commercial license, visit https://dato.com/register.\n",
      "=================================================\n",
      "\n",
      "2016-03-23 22:16:56,673 [ERROR] graphlab.connect.main, 204:  ========================================\n",
      "GraphLab Create requires a license to use. To get a trial, non-commercial,  or commercial license, visit https://dato.com/register.\n",
      "=================================================\n",
      "\n",
      "2016-03-23 22:16:56,678 [ERROR] graphlab.connect.main, 204:  ========================================\n",
      "GraphLab Create requires a license to use. To get a trial, non-commercial,  or commercial license, visit https://dato.com/register.\n",
      "=================================================\n",
      "\n",
      "2016-03-23 22:16:56,684 [ERROR] graphlab.connect.main, 204:  ========================================\n",
      "GraphLab Create requires a license to use. To get a trial, non-commercial,  or commercial license, visit https://dato.com/register.\n",
      "=================================================\n",
      "\n",
      "2016-03-23 22:16:56,687 [ERROR] graphlab.connect.main, 204:  ========================================\n",
      "GraphLab Create requires a license to use. To get a trial, non-commercial,  or commercial license, visit https://dato.com/register.\n",
      "=================================================\n",
      "\n",
      "2016-03-23 22:16:56,690 [ERROR] graphlab.connect.main, 204:  ========================================\n",
      "GraphLab Create requires a license to use. To get a trial, non-commercial,  or commercial license, visit https://dato.com/register.\n",
      "=================================================\n",
      "\n",
      "2016-03-23 22:16:56,693 [ERROR] graphlab.connect.main, 204:  ========================================\n",
      "GraphLab Create requires a license to use. To get a trial, non-commercial,  or commercial license, visit https://dato.com/register.\n",
      "=================================================\n",
      "\n",
      "2016-03-23 22:16:56,697 [ERROR] graphlab.connect.main, 204:  ========================================\n",
      "GraphLab Create requires a license to use. To get a trial, non-commercial,  or commercial license, visit https://dato.com/register.\n",
      "=================================================\n",
      "\n",
      "2016-03-23 22:16:56,703 [ERROR] graphlab.connect.main, 204:  ========================================\n",
      "GraphLab Create requires a license to use. To get a trial, non-commercial,  or commercial license, visit https://dato.com/register.\n",
      "=================================================\n",
      "\n",
      "2016-03-23 22:16:56,709 [ERROR] graphlab.connect.main, 204:  ========================================\n",
      "GraphLab Create requires a license to use. To get a trial, non-commercial,  or commercial license, visit https://dato.com/register.\n",
      "=================================================\n",
      "\n",
      "2016-03-23 22:16:56,713 [ERROR] graphlab.connect.main, 204:  ========================================\n",
      "GraphLab Create requires a license to use. To get a trial, non-commercial,  or commercial license, visit https://dato.com/register.\n",
      "=================================================\n",
      "\n",
      "2016-03-23 22:16:56,741 [ERROR] graphlab.connect.main, 204:  ========================================\n",
      "GraphLab Create requires a license to use. To get a trial, non-commercial,  or commercial license, visit https://dato.com/register.\n",
      "=================================================\n",
      "\n",
      "2016-03-23 22:16:56,852 [ERROR] graphlab.connect.main, 204:  ========================================\n",
      "GraphLab Create requires a license to use. To get a trial, non-commercial,  or commercial license, visit https://dato.com/register.\n",
      "=================================================\n",
      "\n",
      "2016-03-23 22:16:56,866 [ERROR] graphlab.connect.main, 204:  ========================================\n",
      "GraphLab Create requires a license to use. To get a trial, non-commercial,  or commercial license, visit https://dato.com/register.\n",
      "=================================================\n",
      "\n",
      "2016-03-23 22:16:56,876 [ERROR] graphlab.connect.main, 204:  ========================================\n",
      "GraphLab Create requires a license to use. To get a trial, non-commercial,  or commercial license, visit https://dato.com/register.\n",
      "=================================================\n",
      "\n",
      "2016-03-23 22:16:56,888 [ERROR] graphlab.connect.main, 204:  ========================================\n",
      "GraphLab Create requires a license to use. To get a trial, non-commercial,  or commercial license, visit https://dato.com/register.\n",
      "=================================================\n",
      "\n",
      "2016-03-23 22:16:56,939 [ERROR] graphlab.connect.main, 204:  ========================================\n",
      "GraphLab Create requires a license to use. To get a trial, non-commercial,  or commercial license, visit https://dato.com/register.\n",
      "=================================================\n",
      "\n",
      "/home/cronos/.virtualenvs/machinelearning/local/lib/python2.7/site-packages/matplotlib/font_manager.py:273: UserWarning: Matplotlib is building the font cache using fc-list. This may take a moment.\n",
      "  warnings.warn('Matplotlib is building the font cache using fc-list. This may take a moment.')\n",
      "2016-03-23 22:17:13,213 [ERROR] graphlab.connect.main, 204:  ========================================\n",
      "GraphLab Create requires a license to use. To get a trial, non-commercial,  or commercial license, visit https://dato.com/register.\n",
      "=================================================\n",
      "\n",
      "2016-03-23 22:17:13,233 [ERROR] graphlab.connect.main, 204:  ========================================\n",
      "GraphLab Create requires a license to use. To get a trial, non-commercial,  or commercial license, visit https://dato.com/register.\n",
      "=================================================\n",
      "\n",
      "2016-03-23 22:17:13,237 [ERROR] graphlab.connect.main, 204:  ========================================\n",
      "GraphLab Create requires a license to use. To get a trial, non-commercial,  or commercial license, visit https://dato.com/register.\n",
      "=================================================\n",
      "\n",
      "2016-03-23 22:17:13,264 [ERROR] graphlab.connect.main, 204:  ========================================\n",
      "GraphLab Create requires a license to use. To get a trial, non-commercial,  or commercial license, visit https://dato.com/register.\n",
      "=================================================\n",
      "\n",
      "2016-03-23 22:17:13,331 [ERROR] graphlab.connect.main, 204:  ========================================\n",
      "GraphLab Create requires a license to use. To get a trial, non-commercial,  or commercial license, visit https://dato.com/register.\n",
      "=================================================\n",
      "\n",
      "2016-03-23 22:17:13,335 [ERROR] graphlab.connect.main, 204:  ========================================\n",
      "GraphLab Create requires a license to use. To get a trial, non-commercial,  or commercial license, visit https://dato.com/register.\n",
      "=================================================\n",
      "\n",
      "2016-03-23 22:17:13,397 [ERROR] graphlab.connect.main, 204:  ========================================\n",
      "GraphLab Create requires a license to use. To get a trial, non-commercial,  or commercial license, visit https://dato.com/register.\n",
      "=================================================\n",
      "\n",
      "2016-03-23 22:17:13,582 [ERROR] graphlab.connect.main, 204:  ========================================\n",
      "GraphLab Create requires a license to use. To get a trial, non-commercial,  or commercial license, visit https://dato.com/register.\n",
      "=================================================\n",
      "\n",
      "2016-03-23 22:17:13,587 [ERROR] graphlab.connect.main, 204:  ========================================\n",
      "GraphLab Create requires a license to use. To get a trial, non-commercial,  or commercial license, visit https://dato.com/register.\n",
      "=================================================\n",
      "\n",
      "2016-03-23 22:17:13,603 [ERROR] graphlab.connect.main, 204:  ========================================\n",
      "GraphLab Create requires a license to use. To get a trial, non-commercial,  or commercial license, visit https://dato.com/register.\n",
      "=================================================\n",
      "\n",
      "2016-03-23 22:17:13,611 [ERROR] graphlab.connect.main, 204:  ========================================\n",
      "GraphLab Create requires a license to use. To get a trial, non-commercial,  or commercial license, visit https://dato.com/register.\n",
      "=================================================\n",
      "\n",
      "2016-03-23 22:17:13,618 [ERROR] graphlab.connect.main, 204:  ========================================\n",
      "GraphLab Create requires a license to use. To get a trial, non-commercial,  or commercial license, visit https://dato.com/register.\n",
      "=================================================\n",
      "\n",
      "2016-03-23 22:17:13,632 [ERROR] graphlab.connect.main, 204:  ========================================\n",
      "GraphLab Create requires a license to use. To get a trial, non-commercial,  or commercial license, visit https://dato.com/register.\n",
      "=================================================\n",
      "\n",
      "2016-03-23 22:17:13,635 [ERROR] graphlab.connect.main, 204:  ========================================\n",
      "GraphLab Create requires a license to use. To get a trial, non-commercial,  or commercial license, visit https://dato.com/register.\n",
      "=================================================\n",
      "\n",
      "2016-03-23 22:17:13,638 [ERROR] graphlab.connect.main, 204:  ========================================\n",
      "GraphLab Create requires a license to use. To get a trial, non-commercial,  or commercial license, visit https://dato.com/register.\n",
      "=================================================\n",
      "\n",
      "2016-03-23 22:17:13,642 [ERROR] graphlab.connect.main, 204:  ========================================\n",
      "GraphLab Create requires a license to use. To get a trial, non-commercial,  or commercial license, visit https://dato.com/register.\n",
      "=================================================\n",
      "\n",
      "2016-03-23 22:17:13,650 [ERROR] graphlab.connect.main, 204:  ========================================\n",
      "GraphLab Create requires a license to use. To get a trial, non-commercial,  or commercial license, visit https://dato.com/register.\n",
      "=================================================\n",
      "\n",
      "2016-03-23 22:17:13,654 [ERROR] graphlab.connect.main, 204:  ========================================\n",
      "GraphLab Create requires a license to use. To get a trial, non-commercial,  or commercial license, visit https://dato.com/register.\n",
      "=================================================\n",
      "\n"
     ]
    }
   ],
   "source": [
    "import graphlab\n",
    "import seaborn\n",
    "import pandas\n",
    "graphlab.canvas.set_target('ipynb')"
   ]
  },
  {
   "cell_type": "code",
   "execution_count": 4,
   "metadata": {
    "autoscroll": "json-false",
    "collapsed": false,
    "ein.tags": [
     "worksheet-0"
    ]
   },
   "outputs": [],
   "source": [
    "TOLERANCE = 0.001"
   ]
  },
  {
   "cell_type": "code",
   "execution_count": 5,
   "metadata": {
    "autoscroll": "json-false",
    "collapsed": false,
    "ein.tags": [
     "worksheet-0"
    ]
   },
   "outputs": [],
   "source": [
    "%matplotlib inline"
   ]
  },
  {
   "cell_type": "markdown",
   "metadata": {
    "ein.tags": [
     "worksheet-0"
    ]
   },
   "source": [
    "# Load LendingClub dataset"
   ]
  },
  {
   "cell_type": "markdown",
   "metadata": {
    "ein.tags": [
     "worksheet-0"
    ]
   },
   "source": [
    "We will be using a dataset from the [LendingClub](https://www.lendingclub.com/). A parsed and cleaned form of the dataset is availiable [here](https://github.com/learnml/machine-learning-specialization-private). Make sure you **download the dataset** before running the following command."
   ]
  },
  {
   "cell_type": "code",
   "execution_count": 6,
   "metadata": {
    "autoscroll": "json-false",
    "collapsed": false,
    "ein.tags": [
     "worksheet-0"
    ]
   },
   "outputs": [
    {
     "name": "stderr",
     "output_type": "stream",
     "text": [
      "2016-03-23 22:17:14,081 [ERROR] graphlab.connect.main, 204:  ========================================\n",
      "GraphLab Create requires a license to use. To get a trial, non-commercial,  or commercial license, visit https://dato.com/register.\n",
      "=================================================\n",
      "\n"
     ]
    },
    {
     "ename": "InvalidProductKey",
     "evalue": "Product key not found.",
     "output_type": "error",
     "traceback": [
      "\u001b[1;31m---------------------------------------------------------------------------\u001b[0m",
      "\u001b[1;31mInvalidProductKey\u001b[0m                         Traceback (most recent call last)",
      "\u001b[1;32m<ipython-input-6-5f110700c911>\u001b[0m in \u001b[0;36m<module>\u001b[1;34m()\u001b[0m\n\u001b[1;32m----> 1\u001b[1;33m \u001b[0mloans\u001b[0m \u001b[1;33m=\u001b[0m \u001b[0mgraphlab\u001b[0m\u001b[1;33m.\u001b[0m\u001b[0mSFrame\u001b[0m\u001b[1;33m(\u001b[0m\u001b[1;34m'lending-club-data.gl/'\u001b[0m\u001b[1;33m)\u001b[0m\u001b[1;33m\u001b[0m\u001b[0m\n\u001b[0m",
      "\u001b[1;32m/home/cronos/.virtualenvs/machinelearning/local/lib/python2.7/site-packages/graphlab/data_structures/sframe.pyc\u001b[0m in \u001b[0;36m__init__\u001b[1;34m(self, data, format, _proxy)\u001b[0m\n\u001b[0;32m    874\u001b[0m             \u001b[0mself\u001b[0m\u001b[1;33m.\u001b[0m\u001b[0m__proxy__\u001b[0m \u001b[1;33m=\u001b[0m \u001b[0m_proxy\u001b[0m\u001b[1;33m\u001b[0m\u001b[0m\n\u001b[0;32m    875\u001b[0m         \u001b[1;32melse\u001b[0m\u001b[1;33m:\u001b[0m\u001b[1;33m\u001b[0m\u001b[0m\n\u001b[1;32m--> 876\u001b[1;33m             \u001b[0mself\u001b[0m\u001b[1;33m.\u001b[0m\u001b[0m__proxy__\u001b[0m \u001b[1;33m=\u001b[0m \u001b[0mUnitySFrameProxy\u001b[0m\u001b[1;33m(\u001b[0m\u001b[0mglconnect\u001b[0m\u001b[1;33m.\u001b[0m\u001b[0mget_client\u001b[0m\u001b[1;33m(\u001b[0m\u001b[1;33m)\u001b[0m\u001b[1;33m)\u001b[0m\u001b[1;33m\u001b[0m\u001b[0m\n\u001b[0m\u001b[0;32m    877\u001b[0m             \u001b[0m_format\u001b[0m \u001b[1;33m=\u001b[0m \u001b[0mNone\u001b[0m\u001b[1;33m\u001b[0m\u001b[0m\n\u001b[0;32m    878\u001b[0m             \u001b[1;32mif\u001b[0m \u001b[1;33m(\u001b[0m\u001b[0mformat\u001b[0m \u001b[1;33m==\u001b[0m \u001b[1;34m'auto'\u001b[0m\u001b[1;33m)\u001b[0m\u001b[1;33m:\u001b[0m\u001b[1;33m\u001b[0m\u001b[0m\n",
      "\u001b[1;32m/home/cronos/.virtualenvs/machinelearning/local/lib/python2.7/site-packages/graphlab/connect/main.pyc\u001b[0m in \u001b[0;36mget_client\u001b[1;34m()\u001b[0m\n\u001b[0;32m    139\u001b[0m     \"\"\"\n\u001b[0;32m    140\u001b[0m     \u001b[1;32mif\u001b[0m \u001b[1;32mnot\u001b[0m \u001b[0mis_connected\u001b[0m\u001b[1;33m(\u001b[0m\u001b[1;33m)\u001b[0m\u001b[1;33m:\u001b[0m\u001b[1;33m\u001b[0m\u001b[0m\n\u001b[1;32m--> 141\u001b[1;33m         \u001b[0mlaunch\u001b[0m\u001b[1;33m(\u001b[0m\u001b[1;33m)\u001b[0m\u001b[1;33m\u001b[0m\u001b[0m\n\u001b[0m\u001b[0;32m    142\u001b[0m     \u001b[1;32massert\u001b[0m \u001b[0mis_connected\u001b[0m\u001b[1;33m(\u001b[0m\u001b[1;33m)\u001b[0m\u001b[1;33m,\u001b[0m \u001b[0mENGINE_START_ERROR_MESSAGE\u001b[0m\u001b[1;33m\u001b[0m\u001b[0m\n\u001b[0;32m    143\u001b[0m     \u001b[1;32mreturn\u001b[0m \u001b[0m__CLIENT__\u001b[0m\u001b[1;33m\u001b[0m\u001b[0m\n",
      "\u001b[1;32m/home/cronos/.virtualenvs/machinelearning/local/lib/python2.7/site-packages/graphlab/connect/main.pyc\u001b[0m in \u001b[0;36mlaunch\u001b[1;34m(server_addr, server_bin, server_log, auth_token, server_public_key)\u001b[0m\n\u001b[0;32m     91\u001b[0m         \u001b[1;32mif\u001b[0m \u001b[0mserver\u001b[0m\u001b[1;33m:\u001b[0m\u001b[1;33m\u001b[0m\u001b[0m\n\u001b[0;32m     92\u001b[0m             \u001b[0mserver\u001b[0m\u001b[1;33m.\u001b[0m\u001b[0mtry_stop\u001b[0m\u001b[1;33m(\u001b[0m\u001b[1;33m)\u001b[0m\u001b[1;33m\u001b[0m\u001b[0m\n\u001b[1;32m---> 93\u001b[1;33m         \u001b[1;32mraise\u001b[0m \u001b[0me\u001b[0m\u001b[1;33m\u001b[0m\u001b[0m\n\u001b[0m\u001b[0;32m     94\u001b[0m     \u001b[0mserver\u001b[0m\u001b[1;33m.\u001b[0m\u001b[0mset_log_progress\u001b[0m\u001b[1;33m(\u001b[0m\u001b[0mTrue\u001b[0m\u001b[1;33m)\u001b[0m\u001b[1;33m\u001b[0m\u001b[0m\n\u001b[0;32m     95\u001b[0m     \u001b[1;31m# start the client\u001b[0m\u001b[1;33m\u001b[0m\u001b[1;33m\u001b[0m\u001b[0m\n",
      "\u001b[1;31mInvalidProductKey\u001b[0m: Product key not found."
     ]
    }
   ],
   "source": [
    "loans = graphlab.SFrame('lending-club-data.gl/')"
   ]
  },
  {
   "cell_type": "markdown",
   "metadata": {
    "ein.tags": [
     "worksheet-0"
    ]
   },
   "source": [
    "## Exploring some features"
   ]
  },
  {
   "cell_type": "markdown",
   "metadata": {
    "ein.tags": [
     "worksheet-0"
    ]
   },
   "source": [
    "Let's quickly explore what the dataset looks like. First, let's print out the column names to see what features we have in this dataset."
   ]
  },
  {
   "cell_type": "code",
   "execution_count": null,
   "metadata": {
    "autoscroll": "json-false",
    "collapsed": false,
    "ein.tags": [
     "worksheet-0"
    ]
   },
   "outputs": [],
   "source": [
    "loans.column_names()"
   ]
  },
  {
   "cell_type": "markdown",
   "metadata": {
    "ein.tags": [
     "worksheet-0"
    ]
   },
   "source": [
    "Here, we see that we have some feature columns that have to do with grade of the loan, annual income, home ownership status, etc. Let's take a look at the distribution of loan grades in the dataset."
   ]
  },
  {
   "cell_type": "code",
   "execution_count": null,
   "metadata": {
    "autoscroll": "json-false",
    "collapsed": false,
    "ein.tags": [
     "worksheet-0"
    ]
   },
   "outputs": [],
   "source": [
    "loans['grade'].show()"
   ]
  },
  {
   "cell_type": "code",
   "execution_count": null,
   "metadata": {
    "autoscroll": "json-false",
    "collapsed": false,
    "ein.tags": [
     "worksheet-0"
    ]
   },
   "outputs": [],
   "source": [
    "rows = float(len(loans['grade']))\n",
    "for grade in sorted(loans['grade'].unique()):\n",
    "    print(\"{0}: {1:.2f}\".format(grade, len(loans['grade'][loans['grade'] == grade])/rows))"
   ]
  },
  {
   "cell_type": "code",
   "execution_count": null,
   "metadata": {
    "autoscroll": "json-false",
    "collapsed": false,
    "ein.tags": [
     "worksheet-0"
    ]
   },
   "outputs": [],
   "source": [
    "def print_plot_column(column_name):\n",
    "    column = pandas.Series(loans[column_name].to_numpy())\n",
    "    proportions = column.value_counts() / rows\n",
    "    print(proportions)\n",
    "    axe = seaborn.barplot(proportions.index, proportions)\n",
    "    label = axe.set_xlabel(column_name)\n",
    "    label = axe.set_ylabel('proportion')\n",
    "    title = axe.set_title(\"Proportion of Loan {0}\".format(column_name.capitalize()))\n",
    "print_plot_column('grade')"
   ]
  },
  {
   "cell_type": "code",
   "execution_count": null,
   "metadata": {
    "autoscroll": "json-false",
    "collapsed": false,
    "ein.tags": [
     "worksheet-0"
    ]
   },
   "outputs": [],
   "source": []
  },
  {
   "cell_type": "code",
   "execution_count": null,
   "metadata": {
    "autoscroll": "json-false",
    "collapsed": false,
    "ein.tags": [
     "worksheet-0"
    ]
   },
   "outputs": [],
   "source": [
    "for grade in sorted(loans['sub_grade'].unique()):\n",
    "    print(\"{0}: {1:.2f}\".format(grade, len(loans['grade'][loans['sub_grade'] == grade])/rows))\n"
   ]
  },
  {
   "cell_type": "markdown",
   "metadata": {
    "ein.tags": [
     "worksheet-0"
    ]
   },
   "source": [
    "We can see that over half of the loan grades are assigned values `B` or `C`. Each loan is assigned one of these grades, along with a more finely discretized feature called `subgrade` (feel free to explore that feature column as well!). These values depend on the loan application and credit report, and determine the interest rate of the loan. More information can be found [here](https://www.lendingclub.com/public/rates-and-fees.action).\n",
    "\n",
    "Now, let's look at a different feature."
   ]
  },
  {
   "cell_type": "code",
   "execution_count": null,
   "metadata": {
    "autoscroll": "json-false",
    "collapsed": false,
    "ein.tags": [
     "worksheet-0"
    ]
   },
   "outputs": [],
   "source": [
    "loans['home_ownership'].show()"
   ]
  },
  {
   "cell_type": "code",
   "execution_count": null,
   "metadata": {
    "autoscroll": "json-false",
    "collapsed": false,
    "ein.tags": [
     "worksheet-0"
    ]
   },
   "outputs": [],
   "source": [
    "print_plot_column('home_ownership')\n"
   ]
  },
  {
   "cell_type": "markdown",
   "metadata": {
    "ein.tags": [
     "worksheet-0"
    ]
   },
   "source": [
    "This feature describes whether the loanee is mortaging, renting, or owns a home. We can see that a small percentage of the loanees own a home."
   ]
  },
  {
   "cell_type": "markdown",
   "metadata": {
    "ein.tags": [
     "worksheet-0"
    ]
   },
   "source": [
    "## Exploring the target column"
   ]
  },
  {
   "cell_type": "markdown",
   "metadata": {
    "ein.tags": [
     "worksheet-0"
    ]
   },
   "source": [
    "The target column (label column) of the dataset that we are interested in is called `bad_loans`. In this column **1** means a risky (bad) loan **0** means a safe  loan.\n",
    "\n",
    "In order to make this more intuitive and consistent with the lectures, we reassign the target to be:\n",
    "* **+1** as a safe  loan, \n",
    "* **-1** as a risky (bad) loan. \n",
    "\n",
    "We put this in a new column called `safe_loans`."
   ]
  },
  {
   "cell_type": "code",
   "execution_count": null,
   "metadata": {
    "autoscroll": "json-false",
    "collapsed": false,
    "ein.tags": [
     "worksheet-0"
    ]
   },
   "outputs": [],
   "source": [
    "# safe_loans =  1 => safe\n",
    "# safe_loans = -1 => risky\n",
    "if 'bad_loans' in loans.column_names():\n",
    "    loans['safe_loans'] = loans['bad_loans'].apply(lambda x : +1 if x==0 else -1)\n",
    "    loans = loans.remove_column('bad_loans')"
   ]
  },
  {
   "cell_type": "markdown",
   "metadata": {
    "ein.tags": [
     "worksheet-0"
    ]
   },
   "source": [
    "Now, let us explore the distribution of the column `safe_loans`. This gives us a sense of how many safe and risky loans are present in the dataset."
   ]
  },
  {
   "cell_type": "code",
   "execution_count": null,
   "metadata": {
    "autoscroll": "json-false",
    "collapsed": false,
    "ein.tags": [
     "worksheet-0"
    ]
   },
   "outputs": [],
   "source": [
    "print_plot_column('safe_loans')"
   ]
  },
  {
   "cell_type": "code",
   "execution_count": null,
   "metadata": {
    "autoscroll": "json-false",
    "collapsed": false,
    "ein.tags": [
     "worksheet-0"
    ]
   },
   "outputs": [],
   "source": [
    "loans['safe_loans'].show(view = 'Categorical')"
   ]
  },
  {
   "cell_type": "markdown",
   "metadata": {
    "ein.tags": [
     "worksheet-0"
    ]
   },
   "source": [
    "You should have:\n",
    "* Around 81% safe loans\n",
    "* Around 19% risky loans\n",
    "\n",
    "It looks like most of these loans are safe loans (thankfully). But this does make our problem of identifying risky loans challenging."
   ]
  },
  {
   "cell_type": "markdown",
   "metadata": {
    "ein.tags": [
     "worksheet-0"
    ]
   },
   "source": [
    "## Features for the classification algorithm"
   ]
  },
  {
   "cell_type": "markdown",
   "metadata": {
    "ein.tags": [
     "worksheet-0"
    ]
   },
   "source": [
    "In this assignment, we will be using a subset of features (categorical and numeric). The features we will be using are **described in the code comments** below. If you are a finance geek, the [LendingClub](https://www.lendingclub.com/) website has a lot more details about these features."
   ]
  },
  {
   "cell_type": "code",
   "execution_count": null,
   "metadata": {
    "autoscroll": "json-false",
    "collapsed": false,
    "ein.tags": [
     "worksheet-0"
    ]
   },
   "outputs": [],
   "source": [
    "features = ['grade',                     # grade of the loan\n",
    "            'sub_grade',                 # sub-grade of the loan\n",
    "            'short_emp',                 # one year or less of employment\n",
    "            'emp_length_num',            # number of years of employment\n",
    "            'home_ownership',            # home_ownership status: own, mortgage or rent\n",
    "            'dti',                       # debt to income ratio\n",
    "            'purpose',                   # the purpose of the loan\n",
    "            'term',                      # the term of the loan\n",
    "            'last_delinq_none',          # has borrower had a delinquincy\n",
    "            'last_major_derog_none',     # has borrower had 90 day or worse rating\n",
    "            'revol_util',                # percent of available credit being used\n",
    "            'total_rec_late_fee',        # total late fees received to day\n",
    "           ]\n",
    "\n",
    "target = 'safe_loans'                   # prediction target (y) (+1 means safe, -1 is risky)\n",
    "\n",
    "# Extract the feature columns and target column\n",
    "loans = loans[features + [target]]"
   ]
  },
  {
   "cell_type": "markdown",
   "metadata": {
    "ein.tags": [
     "worksheet-0"
    ]
   },
   "source": [
    "What remains now is a **subset of features** and the **target** that we will use for the rest of this notebook. "
   ]
  },
  {
   "cell_type": "markdown",
   "metadata": {
    "ein.tags": [
     "worksheet-0"
    ]
   },
   "source": [
    "## Sample data to balance classes\n",
    "\n",
    "As we explored above, our data is disproportionally full of safe loans.  Let's create two datasets: one with just the safe loans (`safe_loans_raw`) and one with just the risky loans (`risky_loans_raw`)."
   ]
  },
  {
   "cell_type": "code",
   "execution_count": null,
   "metadata": {
    "autoscroll": "json-false",
    "collapsed": false,
    "ein.tags": [
     "worksheet-0"
    ]
   },
   "outputs": [],
   "source": [
    "safe_loans_raw = loans[loans[target] == +1]\n",
    "risky_loans_raw = loans[loans[target] == -1]\n",
    "print \"Number of safe loans  : %s\" % len(safe_loans_raw)\n",
    "print \"Number of risky loans : %s\" % len(risky_loans_raw)"
   ]
  },
  {
   "cell_type": "markdown",
   "metadata": {
    "ein.tags": [
     "worksheet-0"
    ]
   },
   "source": [
    "Now, write some code to compute below the percentage of safe and risky loans in the dataset and validate these numbers against what was given using `.show` earlier in the assignment:"
   ]
  },
  {
   "cell_type": "code",
   "execution_count": null,
   "metadata": {
    "autoscroll": "json-false",
    "collapsed": false,
    "ein.tags": [
     "worksheet-0"
    ]
   },
   "outputs": [],
   "source": [
    "percentage_safe = len(safe_loans_raw) / rows\n",
    "percentage_risky = len(risky_loans_raw) / rows\n",
    "print \"Percentage of safe loans  :\", percentage_safe\n",
    "print \"Percentage of risky loans :\", percentage_risky\n",
    "assert abs(percentage_safe - 0.811185) < TOLERANCE\n",
    "assert abs(0.188815 - percentage_risky) < TOLERANCE\n"
   ]
  },
  {
   "cell_type": "markdown",
   "metadata": {
    "ein.tags": [
     "worksheet-0"
    ]
   },
   "source": [
    "One way to combat class imbalance is to undersample the larger class until the class distribution is approximately half and half. Here, we will undersample the larger class (safe loans) in order to balance out our dataset. This means we are throwing away many data points. We used `seed=1` so everyone gets the same results."
   ]
  },
  {
   "cell_type": "code",
   "execution_count": null,
   "metadata": {
    "autoscroll": "json-false",
    "collapsed": false,
    "ein.tags": [
     "worksheet-0"
    ]
   },
   "outputs": [],
   "source": [
    "# Since there are fewer risky loans than safe loans, find the ratio of the sizes\n",
    "# and use that percentage to undersample the safe loans.\n",
    "percentage = len(risky_loans_raw)/float(len(safe_loans_raw))\n",
    "\n",
    "risky_loans = risky_loans_raw\n",
    "safe_loans = safe_loans_raw.sample(percentage, seed=1)\n",
    "\n",
    "# Append the risky_loans with the downsampled version of safe_loans\n",
    "loans_data = risky_loans.append(safe_loans)"
   ]
  },
  {
   "cell_type": "markdown",
   "metadata": {
    "ein.tags": [
     "worksheet-0"
    ]
   },
   "source": [
    "Now, let's verify that the resulting percentage of safe and risky loans are each nearly 50%."
   ]
  },
  {
   "cell_type": "code",
   "execution_count": null,
   "metadata": {
    "autoscroll": "json-false",
    "collapsed": false,
    "ein.tags": [
     "worksheet-0"
    ]
   },
   "outputs": [],
   "source": [
    "print \"Percentage of safe loans                 :\", len(safe_loans) / float(len(loans_data))\n",
    "print \"Percentage of risky loans                :\", len(risky_loans) / float(len(loans_data))\n",
    "print \"Total number of loans in our new dataset :\", len(loans_data)"
   ]
  },
  {
   "cell_type": "markdown",
   "metadata": {
    "ein.tags": [
     "worksheet-0"
    ]
   },
   "source": [
    "**Note:** There are many approaches for dealing with imbalanced data, including some where we modify the learning algorithm. These approaches are beyond the scope of this course, but some of them are reviewed in this [paper](http://ieeexplore.ieee.org/xpl/login.jsp?tp=&arnumber=5128907&url=http%3A%2F%2Fieeexplore.ieee.org%2Fiel5%2F69%2F5173046%2F05128907.pdf%3Farnumber%3D5128907 ). For this assignment, we use the simplest possible approach, where we subsample the overly represented class to get a more balanced dataset. In general, and especially when the data is highly imbalanced, we recommend using more advanced methods."
   ]
  },
  {
   "cell_type": "markdown",
   "metadata": {
    "ein.tags": [
     "worksheet-0"
    ]
   },
   "source": [
    "## Split data into training and validation sets"
   ]
  },
  {
   "cell_type": "markdown",
   "metadata": {
    "ein.tags": [
     "worksheet-0"
    ]
   },
   "source": [
    "We split the data into training and validation sets using an 80/20 split and specifying `seed=1` so everyone gets the same results.\n",
    "\n",
    "**Note**: In previous assignments, we have called this a **train-test split**. However, the portion of data that we don't train on will be used to help **select model parameters** (this is known as model selection). Thus, this portion of data should be called a **validation set**. Recall that examining performance of various potential models (i.e. models with different parameters) should be on validation set, while evaluation of the final selected model should always be on test data. Typically, we would also save a portion of the data (a real test set) to test our final model on or use cross-validation on the training set to select our final model. But for the learning purposes of this assignment, we won't do that."
   ]
  },
  {
   "cell_type": "code",
   "execution_count": null,
   "metadata": {
    "autoscroll": "json-false",
    "collapsed": false,
    "ein.tags": [
     "worksheet-0"
    ]
   },
   "outputs": [],
   "source": [
    "train_data, validation_data = loans_data.random_split(.8, seed=1)"
   ]
  },
  {
   "cell_type": "markdown",
   "metadata": {
    "ein.tags": [
     "worksheet-0"
    ]
   },
   "source": [
    "# Use decision tree to build a classifier"
   ]
  },
  {
   "cell_type": "markdown",
   "metadata": {
    "ein.tags": [
     "worksheet-0"
    ]
   },
   "source": [
    "Now, let's use the built-in GraphLab Create decision tree learner to create a loan prediction model on the training data. (In the next assignment, you will implement your own decision tree learning algorithm.)  Our feature columns and target column have already been decided above. Use `validation_set=None` to get the same results as everyone else."
   ]
  },
  {
   "cell_type": "code",
   "execution_count": null,
   "metadata": {
    "autoscroll": "json-false",
    "collapsed": false,
    "ein.tags": [
     "worksheet-0"
    ]
   },
   "outputs": [],
   "source": [
    "decision_tree_model = graphlab.decision_tree_classifier.create(train_data, validation_set=None,\n",
    "                                target = target, features = features)"
   ]
  },
  {
   "cell_type": "markdown",
   "metadata": {
    "ein.tags": [
     "worksheet-0"
    ]
   },
   "source": [
    "## Visualizing a learned model"
   ]
  },
  {
   "cell_type": "markdown",
   "metadata": {
    "ein.tags": [
     "worksheet-0"
    ]
   },
   "source": [
    "As noted in the [documentation](https://dato.com/products/create/docs/generated/graphlab.boosted_trees_classifier.create.html#graphlab.boosted_trees_classifier.create), typically the the max depth of the tree is capped at 6. However, such a tree can be hard to visualize graphically.  Here, we instead learn a smaller model with **max depth of 2** to gain some intuition by visualizing the learned tree."
   ]
  },
  {
   "cell_type": "code",
   "execution_count": null,
   "metadata": {
    "autoscroll": "json-false",
    "collapsed": false,
    "ein.tags": [
     "worksheet-0"
    ]
   },
   "outputs": [],
   "source": [
    "small_model = graphlab.decision_tree_classifier.create(train_data, validation_set=None,\n",
    "                   target = target, features = features, max_depth = 2)"
   ]
  },
  {
   "cell_type": "markdown",
   "metadata": {
    "ein.tags": [
     "worksheet-0"
    ]
   },
   "source": [
    "In the view that is provided by GraphLab Create, you can see each node, and each split at each node. This visualization is great for considering what happens when this model predicts the target of a new data point. \n",
    "\n",
    "**Note:** To better understand this visual:\n",
    "* The root node is represented using pink. \n",
    "* Intermediate nodes are in green. \n",
    "* Leaf nodes in blue and orange. "
   ]
  },
  {
   "cell_type": "code",
   "execution_count": null,
   "metadata": {
    "autoscroll": "json-false",
    "collapsed": false,
    "ein.tags": [
     "worksheet-0"
    ]
   },
   "outputs": [],
   "source": [
    "small_model.show(view=\"Tree\")"
   ]
  },
  {
   "cell_type": "markdown",
   "metadata": {
    "ein.tags": [
     "worksheet-0"
    ]
   },
   "source": [
    "# Making predictions\n",
    "\n",
    "Let's consider two positive and two negative examples **from the validation set** and see what the model predicts. We will do the following:\n",
    "* Predict whether or not a loan is safe.\n",
    "* Predict the probability that a loan is safe."
   ]
  },
  {
   "cell_type": "code",
   "execution_count": null,
   "metadata": {
    "autoscroll": "json-false",
    "collapsed": false,
    "ein.tags": [
     "worksheet-0"
    ]
   },
   "outputs": [],
   "source": [
    "validation_safe_loans = validation_data[validation_data[target] == 1]\n",
    "validation_risky_loans = validation_data[validation_data[target] == -1]\n",
    "\n",
    "sample_validation_data_risky = validation_risky_loans[0:2]\n",
    "sample_validation_data_safe = validation_safe_loans[0:2]\n",
    "\n",
    "sample_validation_data = sample_validation_data_safe.append(sample_validation_data_risky)\n",
    "sample_validation_data"
   ]
  },
  {
   "cell_type": "markdown",
   "metadata": {
    "ein.tags": [
     "worksheet-0"
    ]
   },
   "source": [
    "## Explore label predictions"
   ]
  },
  {
   "cell_type": "markdown",
   "metadata": {
    "ein.tags": [
     "worksheet-0"
    ]
   },
   "source": [
    "Now, we will use our model  to predict whether or not a loan is likely to default. For each row in the **sample_validation_data**, use the **decision_tree_model** to predict whether or not the loan is classified as a **safe loan**. \n",
    "\n",
    "**Hint:** Be sure to use the `.predict()` method."
   ]
  },
  {
   "cell_type": "code",
   "execution_count": null,
   "metadata": {
    "autoscroll": "json-false",
    "collapsed": false,
    "ein.tags": [
     "worksheet-0"
    ]
   },
   "outputs": [],
   "source": [
    "for index, row in enumerate(sample_validation_data):\n",
    "    print(decision_tree_model.predict(row))"
   ]
  },
  {
   "cell_type": "markdown",
   "metadata": {
    "ein.tags": [
     "worksheet-0"
    ]
   },
   "source": [
    "**Quiz Question:** What percentage of the predictions on `sample_validation_data` did `decision_tree_model` get correct?"
   ]
  },
  {
   "cell_type": "markdown",
   "metadata": {
    "ein.tags": [
     "worksheet-0"
    ]
   },
   "source": [
    "50%"
   ]
  },
  {
   "cell_type": "markdown",
   "metadata": {
    "ein.tags": [
     "worksheet-0"
    ]
   },
   "source": [
    "## Explore probability predictions\n",
    "\n",
    "For each row in the **sample_validation_data**, what is the probability (according **decision_tree_model**) of a loan being classified as **safe**? \n",
    "\n",
    "\n",
    "**Hint:** Set `output_type='probability'` to make **probability** predictions using **decision_tree_model** on `sample_validation_data`:"
   ]
  },
  {
   "cell_type": "code",
   "execution_count": null,
   "metadata": {
    "autoscroll": "json-false",
    "collapsed": false,
    "ein.tags": [
     "worksheet-0"
    ]
   },
   "outputs": [],
   "source": [
    "for row in sample_validation_data:\n",
    "    probability = decision_tree_model.predict(row, output_type='probability')\n",
    "    prediction = decision_tree_model.predict(row)\n",
    "    print(probability[0], prediction[0])\n",
    "    label = 1 if probability >= .5 else -1\n",
    "    assert prediction == label"
   ]
  },
  {
   "cell_type": "markdown",
   "metadata": {
    "ein.tags": [
     "worksheet-0"
    ]
   },
   "source": [
    "**Quiz Question:** Which loan has the highest probability of being classified as a **safe loan**?\n",
    "\n",
    "**Checkpoint:** Can you verify that for all the predictions with `probability >= 0.5`, the model predicted the label **+1**?"
   ]
  },
  {
   "cell_type": "markdown",
   "metadata": {
    "ein.tags": [
     "worksheet-0"
    ]
   },
   "source": [
    "### Tricky predictions!\n",
    "\n",
    "Now, we will explore something pretty interesting. For each row in the **sample_validation_data**, what is the probability (according to **small_model**) of a loan being classified as **safe**?\n",
    "\n",
    "**Hint:** Set `output_type='probability'` to make **probability** predictions using **small_model** on `sample_validation_data`:"
   ]
  },
  {
   "cell_type": "code",
   "execution_count": null,
   "metadata": {
    "autoscroll": "json-false",
    "collapsed": false,
    "ein.tags": [
     "worksheet-0"
    ]
   },
   "outputs": [],
   "source": [
    "for row in sample_validation_data:\n",
    "    print(small_model.predict(row, output_type='probability'))"
   ]
  },
  {
   "cell_type": "markdown",
   "metadata": {
    "ein.tags": [
     "worksheet-0"
    ]
   },
   "source": [
    "**Quiz Question:** Notice that the probability preditions are the **exact same** for the 2nd and 3rd loans. Why would this happen?"
   ]
  },
  {
   "cell_type": "markdown",
   "metadata": {
    "ein.tags": [
     "worksheet-0"
    ]
   },
   "source": [
    "Because the tree only considers grades 'A' and 'B' but the middle two rows have grade 'D'."
   ]
  },
  {
   "cell_type": "markdown",
   "metadata": {
    "ein.tags": [
     "worksheet-0"
    ]
   },
   "source": [
    "## Visualize the prediction on a tree\n",
    "\n",
    "\n",
    "Note that you should be able to look at the small tree, traverse it yourself, and visualize the prediction being made. Consider the following point in the **sample_validation_data**"
   ]
  },
  {
   "cell_type": "code",
   "execution_count": null,
   "metadata": {
    "autoscroll": "json-false",
    "collapsed": false,
    "ein.tags": [
     "worksheet-0"
    ]
   },
   "outputs": [],
   "source": [
    "sample_validation_data[1]"
   ]
  },
  {
   "cell_type": "markdown",
   "metadata": {
    "ein.tags": [
     "worksheet-0"
    ]
   },
   "source": [
    "Let's visualize the small tree here to do the traversing for this data point."
   ]
  },
  {
   "cell_type": "code",
   "execution_count": null,
   "metadata": {
    "autoscroll": "json-false",
    "collapsed": false,
    "ein.tags": [
     "worksheet-0"
    ]
   },
   "outputs": [],
   "source": [
    "small_model.show(view=\"Tree\")"
   ]
  },
  {
   "cell_type": "markdown",
   "metadata": {
    "ein.tags": [
     "worksheet-0"
    ]
   },
   "source": [
    "**Note:** In the tree visualization above, the values at the leaf nodes are not class predictions but scores (a slightly advanced concept that is out of the scope of this course). You can read more about this [here](https://homes.cs.washington.edu/~tqchen/pdf/BoostedTree.pdf).  If the score is $\\geq$ 0, the class +1 is predicted.  Otherwise, if the score < 0, we predict class -1.\n",
    "\n",
    "\n",
    "**Quiz Question:** Based on the visualized tree, what prediction would you make for this data point?\n",
    "\n",
    "Now, let's verify your prediction by examining the prediction made using GraphLab Create.  Use the `.predict` function on `small_model`."
   ]
  },
  {
   "cell_type": "code",
   "execution_count": null,
   "metadata": {
    "autoscroll": "json-false",
    "collapsed": false,
    "ein.tags": [
     "worksheet-0"
    ]
   },
   "outputs": [],
   "source": [
    "small_model.predict(sample_validation_data[1])[0]"
   ]
  },
  {
   "cell_type": "markdown",
   "metadata": {
    "ein.tags": [
     "worksheet-0"
    ]
   },
   "source": [
    "# Evaluating accuracy of the decision tree model"
   ]
  },
  {
   "cell_type": "markdown",
   "metadata": {
    "ein.tags": [
     "worksheet-0"
    ]
   },
   "source": [
    "Recall that the accuracy is defined as follows:\n",
    "$$\n",
    "\\mbox{accuracy} = \\frac{\\mbox{# correctly classified examples}}{\\mbox{# total examples}}\n",
    "$$\n",
    "\n",
    "Let us start by evaluating the accuracy of the `small_model` and `decision_tree_model` on the training data"
   ]
  },
  {
   "cell_type": "code",
   "execution_count": null,
   "metadata": {
    "autoscroll": "json-false",
    "collapsed": false,
    "ein.tags": [
     "worksheet-0"
    ]
   },
   "outputs": [],
   "source": [
    "print small_model.evaluate(train_data)['accuracy']\n",
    "print decision_tree_model.evaluate(train_data)['accuracy']"
   ]
  },
  {
   "cell_type": "markdown",
   "metadata": {
    "ein.tags": [
     "worksheet-0"
    ]
   },
   "source": [
    "**Checkpoint:** You should see that the **small_model** performs worse than the **decision_tree_model** on the training data.\n",
    "\n",
    "\n",
    "Now, let us evaluate the accuracy of the **small_model** and **decision_tree_model** on the entire **validation_data**, not just the subsample considered above."
   ]
  },
  {
   "cell_type": "code",
   "execution_count": null,
   "metadata": {
    "autoscroll": "json-false",
    "collapsed": false,
    "ein.tags": [
     "worksheet-0"
    ]
   },
   "outputs": [],
   "source": [
    "print(small_model.evaluate(validation_data)['accuracy'])\n",
    "print(decision_tree_model.evaluate(validation_data)['accuracy'])"
   ]
  },
  {
   "cell_type": "markdown",
   "metadata": {
    "ein.tags": [
     "worksheet-0"
    ]
   },
   "source": [
    "**Quiz Question:** What is the accuracy of `decision_tree_model` on the validation set, rounded to the nearest .01?"
   ]
  },
  {
   "cell_type": "markdown",
   "metadata": {
    "ein.tags": [
     "worksheet-0"
    ]
   },
   "source": [
    "## Evaluating accuracy of a complex decision tree model\n",
    "\n",
    "Here, we will train a large decision tree with `max_depth=10`. This will allow the learned tree to become very deep, and result in a very complex model. Recall that in lecture, we prefer simpler models with similar predictive power. This will be an example of a more complicated model which has similar predictive power, i.e. something we don't want."
   ]
  },
  {
   "cell_type": "code",
   "execution_count": null,
   "metadata": {
    "autoscroll": "json-false",
    "collapsed": false,
    "ein.tags": [
     "worksheet-0"
    ]
   },
   "outputs": [],
   "source": [
    "big_model = graphlab.decision_tree_classifier.create(train_data, validation_set=None,\n",
    "                   target = target, features = features, max_depth = 10)"
   ]
  },
  {
   "cell_type": "markdown",
   "metadata": {
    "ein.tags": [
     "worksheet-0"
    ]
   },
   "source": [
    "Now, let us evaluate **big_model** on the training set and validation set."
   ]
  },
  {
   "cell_type": "code",
   "execution_count": null,
   "metadata": {
    "autoscroll": "json-false",
    "collapsed": false,
    "ein.tags": [
     "worksheet-0"
    ]
   },
   "outputs": [],
   "source": [
    "print big_model.evaluate(train_data)['accuracy']\n",
    "print big_model.evaluate(validation_data)['accuracy']"
   ]
  },
  {
   "cell_type": "markdown",
   "metadata": {
    "ein.tags": [
     "worksheet-0"
    ]
   },
   "source": [
    "**Checkpoint:** We should see that **big_model** has even better performance on the training set than **decision_tree_model** did on the training set."
   ]
  },
  {
   "cell_type": "markdown",
   "metadata": {
    "ein.tags": [
     "worksheet-0"
    ]
   },
   "source": [
    "**Quiz Question:** How does the performance of **big_model** on the validation set compare to **decision_tree_model** on the validation set? Is this a sign of overfitting?"
   ]
  },
  {
   "cell_type": "markdown",
   "metadata": {
    "ein.tags": [
     "worksheet-0"
    ]
   },
   "source": [
    "It did worse, indicating overfitting."
   ]
  },
  {
   "cell_type": "markdown",
   "metadata": {
    "ein.tags": [
     "worksheet-0"
    ]
   },
   "source": [
    "### Quantifying the cost of mistakes\n",
    "\n",
    "Every mistake the model makes costs money. In this section, we will try and quantify the cost of each mistake made by the model.\n",
    "\n",
    "Assume the following:\n",
    "\n",
    "* **False negatives**: Loans that were actually safe but were predicted to be risky. This results in an oppurtunity cost of losing a loan that would have otherwise been accepted. \n",
    "* **False positives**: Loans that were actually risky but were predicted to be safe. These are much more expensive because it results in a risky loan being given. \n",
    "* **Correct predictions**: All correct predictions don't typically incur any cost.\n",
    "\n",
    "\n",
    "Let's write code that can compute the cost of mistakes made by the model. Complete the following 4 steps:\n",
    "1. First, let us compute the predictions made by the model.\n",
    "1. Second, compute the number of false positives.\n",
    "2. Third, compute the number of false negatives.\n",
    "3. Finally, compute the cost of mistakes made by the model by adding up the costs of true positives and false positives.\n",
    "\n",
    "First, let us make predictions on `validation_data` using the `decision_tree_model`:"
   ]
  },
  {
   "cell_type": "code",
   "execution_count": null,
   "metadata": {
    "autoscroll": "json-false",
    "collapsed": false,
    "ein.tags": [
     "worksheet-0"
    ]
   },
   "outputs": [],
   "source": [
    "predictions = decision_tree_model.predict(validation_data)"
   ]
  },
  {
   "cell_type": "markdown",
   "metadata": {
    "ein.tags": [
     "worksheet-0"
    ]
   },
   "source": [
    "**False positives** are predictions where the model predicts +1 but the true label is -1. Complete the following code block for the number of false positives:"
   ]
  },
  {
   "cell_type": "code",
   "execution_count": null,
   "metadata": {
    "autoscroll": "json-false",
    "collapsed": false,
    "ein.tags": [
     "worksheet-0"
    ]
   },
   "outputs": [],
   "source": [
    "wrong = predictions[predictions != validation_data['safe_loans']]"
   ]
  },
  {
   "cell_type": "code",
   "execution_count": null,
   "metadata": {
    "autoscroll": "json-false",
    "collapsed": false,
    "ein.tags": [
     "worksheet-0"
    ]
   },
   "outputs": [],
   "source": [
    "print(len(wrong))"
   ]
  },
  {
   "cell_type": "code",
   "execution_count": null,
   "metadata": {
    "autoscroll": "json-false",
    "collapsed": false,
    "ein.tags": [
     "worksheet-0"
    ]
   },
   "outputs": [],
   "source": [
    "false_positives = len(wrong[wrong == 1])\n",
    "print(false_positives)"
   ]
  },
  {
   "cell_type": "markdown",
   "metadata": {
    "ein.tags": [
     "worksheet-0"
    ]
   },
   "source": [
    "**False negatives** are predictions where the model predicts -1 but the true label is +1. Complete the following code block for the number of false negatives:"
   ]
  },
  {
   "cell_type": "code",
   "execution_count": null,
   "metadata": {
    "autoscroll": "json-false",
    "collapsed": false,
    "ein.tags": [
     "worksheet-0"
    ]
   },
   "outputs": [],
   "source": [
    "false_negatives = len(wrong[wrong == -1])\n",
    "print(false_negatives)\n",
    "assert false_positives + false_negatives == len(wrong)"
   ]
  },
  {
   "cell_type": "markdown",
   "metadata": {
    "ein.tags": [
     "worksheet-0"
    ]
   },
   "source": [
    "**Quiz Question:** Let us assume that each mistake costs money:\n",
    "* Assume a cost of \\$10,000 per false negative.\n",
    "* Assume a cost of \\$20,000 per false positive.\n",
    "\n",
    "What is the total cost of mistakes made by `decision_tree_model` on `validation_data`?"
   ]
  },
  {
   "cell_type": "code",
   "execution_count": null,
   "metadata": {
    "autoscroll": "json-false",
    "collapsed": false,
    "ein.tags": [
     "worksheet-0"
    ]
   },
   "outputs": [],
   "source": [
    "negative_cost = false_negatives * 10000\n",
    "positive_cost = false_positives * 20000\n",
    "print(\"Total Cost of mistakes: ${0:,}\".format(negative_cost + positive_cost))"
   ]
  }
 ],
 "metadata": {
  "kernelspec": {
   "display_name": "Python 2",
   "language": "python",
   "name": "python2"
  },
  "language_info": {
   "codemirror_mode": {
    "name": "ipython",
    "version": 2
   },
   "file_extension": ".py",
   "mimetype": "text/x-python",
   "name": "python",
   "nbconvert_exporter": "python",
   "pygments_lexer": "ipython2",
   "version": "2.7.9"
  },
  "name": "module-5-decision-tree-assignment-1-blank.ipynb"
 },
 "nbformat": 4,
 "nbformat_minor": 0
}
