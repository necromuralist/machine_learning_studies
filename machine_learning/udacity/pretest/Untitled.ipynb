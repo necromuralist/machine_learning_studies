{
 "cells": [
  {
   "cell_type": "markdown",
   "metadata": {
    "ein.tags": [
     "worksheet-0"
    ]
   },
   "source": [
    "# Count words in python"
   ]
  },
  {
   "cell_type": "code",
   "execution_count": 31,
   "metadata": {
    "autoscroll": "json-false",
    "collapsed": false,
    "ein.tags": [
     "worksheet-0"
    ]
   },
   "outputs": [
    {
     "name": "stdout",
     "output_type": "stream",
     "text": [
      "[('cat', 3), ('bat', 2), ('mat', 1)]\n",
      "[('butter', 2), ('a', 1), ('betty', 1)]\n"
     ]
    }
   ],
   "source": [
    "from collections import defaultdict, OrderedDict\n",
    "from operator import itemgetter\n",
    "\n",
    "def count_words(s, n):\n",
    "    \"\"\"\n",
    "    Return the n most frequently occuring words in s.\n",
    "\n",
    "    :param:\n",
    "     - `s`: string of words separated by whitespace\n",
    "     - `n`: number of tuples to return\n",
    "    :return: list of (<word>, <count>) tuples in descending order\n",
    "    \"\"\"\n",
    "    words = s.split()\n",
    "    counts = defaultdict(lambda: 0)\n",
    "    # Count the number of occurences of each word in s\n",
    "    for word in words:\n",
    "        counts[word] += 1\n",
    "\n",
    "    # Sort the occurences in descending order (alphabetically in case of ties)\n",
    "    # reverse the keys so that they'l be alphabetical when reversed again    \n",
    "    sorted_words = OrderedDict(reversed(sorted(counts.items())))\n",
    "\n",
    "    # sort in descending order by value\n",
    "    ordered_words = reversed(sorted(sorted_words.items(), key=itemgetter(1)))\n",
    "    top_n = list(ordered_words)[:n]\n",
    "    return top_n\n",
    "\n",
    "\n",
    "def test_run():\n",
    "    \"\"\"Test count_words() with some inputs.\"\"\"\n",
    "    print count_words(\"cat bat mat cat bat cat\", 3)\n",
    "    print count_words(\"betty bought a bit of butter but the butter was bitter\", 3)\n",
    "\n",
    "\n",
    "test_run()\n"
   ]
  },
  {
   "cell_type": "code",
   "execution_count": 32,
   "metadata": {
    "autoscroll": "json-false",
    "collapsed": false,
    "ein.tags": [
     "worksheet-0"
    ]
   },
   "outputs": [],
   "source": [
    "test_string = \"cat bat mat cat bat cat\"\n",
    "n = 3\n",
    "expected = [(\"cat\", 3), (\"bat\", 2), (\"mat\", 1)]\n",
    "actual = count_words(test_string, n)\n",
    "assert actual == expected, actual"
   ]
  },
  {
   "cell_type": "code",
   "execution_count": 36,
   "metadata": {
    "autoscroll": "json-false",
    "collapsed": false,
    "ein.tags": [
     "worksheet-0"
    ]
   },
   "outputs": [],
   "source": [
    "s = \"betty bought a bit of butter but the butter was bitter\"\n",
    "n = 3\n",
    "\n",
    "expected = [('butter', 2), ('a', 1), ('betty', 1)]\n",
    "actual = count_words(s, n)\n",
    "assert expected == actual, actual"
   ]
  },
  {
   "cell_type": "markdown",
   "metadata": {
    "ein.tags": [
     "worksheet-0"
    ]
   },
   "source": [
    "# matrix multiplication"
   ]
  },
  {
   "cell_type": "code",
   "execution_count": 38,
   "metadata": {
    "autoscroll": "json-false",
    "collapsed": false,
    "ein.tags": [
     "worksheet-0"
    ]
   },
   "outputs": [],
   "source": [
    "import numpy\n",
    "\n",
    "a = numpy.array([[1,0,3,0],\n",
    "                 [0,6,0,8],\n",
    "                 [0,10,11,0],\n",
    "                 [13,0,0,16]])\n",
    "b = numpy.array([[2,5,4,1]])"
   ]
  },
  {
   "cell_type": "code",
   "execution_count": 41,
   "metadata": {
    "autoscroll": "json-false",
    "collapsed": false,
    "ein.tags": [
     "worksheet-0"
    ]
   },
   "outputs": [
    {
     "data": {
      "text/plain": [
       "array([[14],\n       [38],\n       [94],\n       [42]])"
      ]
     },
     "execution_count": 41,
     "metadata": {},
     "output_type": "execute_result"
    }
   ],
   "source": [
    "a.dot(b.transpose())"
   ]
  }
 ],
 "metadata": {},
 "nbformat": 4,
 "nbformat_minor": 0
}
