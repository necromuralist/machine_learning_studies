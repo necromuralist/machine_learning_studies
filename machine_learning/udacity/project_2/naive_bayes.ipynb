{
 "cells": [
  {
   "cell_type": "markdown",
   "metadata": {
    "ein.tags": [
     "worksheet-0"
    ]
   },
   "source": [
    "# Naive Bayes"
   ]
  },
  {
   "cell_type": "markdown",
   "metadata": {
    "ein.tags": [
     "worksheet-0"
    ]
   },
   "source": [
    "This is code to accompany the udacity course on the Naive Bayes algorithm."
   ]
  },
  {
   "cell_type": "markdown",
   "metadata": {
    "ein.tags": [
     "worksheet-0"
    ]
   },
   "source": [
    "## Cancer probabilities"
   ]
  },
  {
   "cell_type": "markdown",
   "metadata": {
    "ein.tags": [
     "worksheet-0"
    ]
   },
   "source": [
    "This section looks at the probability of having cancer given a test for cancer."
   ]
  },
  {
   "cell_type": "markdown",
   "metadata": {
    "ein.tags": [
     "worksheet-0"
    ]
   },
   "source": [
    "### Prior probabilities (what we know based on past evidence)."
   ]
  },
  {
   "cell_type": "code",
   "execution_count": 2,
   "metadata": {
    "autoscroll": "json-false",
    "collapsed": false,
    "ein.tags": [
     "worksheet-0"
    ]
   },
   "outputs": [],
   "source": [
    "probability_of_cancer = 0.01\n",
    "probability_no_cancer = 1 - probability_of_cancer\n",
    "p_positive_given_cancer = .9\n",
    "p_positive_given_no_cancer = 1 - p_positive_given_cancer\n",
    "p_negative_given_no_cancer = .9\n",
    "p_negative_given_cancer = 1 - p_negative_given_no_cancer"
   ]
  },
  {
   "cell_type": "markdown",
   "metadata": {
    "ein.tags": [
     "worksheet-0"
    ]
   },
   "source": [
    "So there's only a 1% chance that a person has cancer and a 90% chance that if a person tests positive for cancer that person actually has cancer."
   ]
  },
  {
   "cell_type": "markdown",
   "metadata": {
    "ein.tags": [
     "worksheet-0"
    ]
   },
   "source": [
    "### Joint Probabilities"
   ]
  },
  {
   "cell_type": "code",
   "execution_count": 4,
   "metadata": {
    "autoscroll": "json-false",
    "collapsed": false,
    "ein.tags": [
     "worksheet-0"
    ]
   },
   "outputs": [
    {
     "name": "stdout",
     "output_type": "stream",
     "text": [
      "P(C|+) = 0.0090\n",
      "P(~C|+) = 0.0990\n"
     ]
    }
   ],
   "source": [
    "p_cancer_given_positive = probability_of_cancer * p_positive_given_cancer\n",
    "p_no_cancer_given_positive = probability_no_cancer * p_positive_given_no_cancer\n",
    "print(\"P(C|+) = {0:.4f}\".format(p_cancer_given_positive))\n",
    "print(\"P(~C|+) = {0:.4f}\".format(p_no_cancer_given_positive))"
   ]
  },
  {
   "cell_type": "markdown",
   "metadata": {
    "ein.tags": [
     "worksheet-0"
    ]
   },
   "source": [
    "### Normalization"
   ]
  },
  {
   "cell_type": "markdown",
   "metadata": {
    "ein.tags": [
     "worksheet-0"
    ]
   },
   "source": [
    "To make the posterior probabilities add up to 1 they have to be normalized."
   ]
  },
  {
   "cell_type": "code",
   "execution_count": 7,
   "metadata": {
    "autoscroll": "json-false",
    "collapsed": false,
    "ein.tags": [
     "worksheet-0"
    ]
   },
   "outputs": [
    {
     "name": "stdout",
     "output_type": "stream",
     "text": [
      "0.108\n"
     ]
    }
   ],
   "source": [
    "normalizer = p_cancer_given_positive + p_no_cancer_given_positive\n",
    "print(normalizer)"
   ]
  },
  {
   "cell_type": "code",
   "execution_count": 10,
   "metadata": {
    "autoscroll": "json-false",
    "collapsed": false,
    "ein.tags": [
     "worksheet-0"
    ]
   },
   "outputs": [
    {
     "name": "stdout",
     "output_type": "stream",
     "text": [
      "0.0833333333333\n",
      "0.916666666667\n",
      "1.0\n"
     ]
    }
   ],
   "source": [
    "normalized_p_cancer_given_positive = p_cancer_given_positive/normalizer\n",
    "normalized_p_no_cancer_given_positive = p_no_cancer_given_positive/normalizer\n",
    "print(normalized_p_cancer_given_positive)\n",
    "print(normalized_p_no_cancer_given_positive)\n",
    "print(normalized_p_cancer_given_positive + normalized_p_no_cancer_given_positive)"
   ]
  },
  {
   "cell_type": "markdown",
   "metadata": {
    "ein.tags": [
     "worksheet-0"
    ]
   },
   "source": [
    "## Text learning"
   ]
  },
  {
   "cell_type": "code",
   "execution_count": 39,
   "metadata": {
    "autoscroll": "json-false",
    "collapsed": false,
    "ein.tags": [
     "worksheet-0"
    ]
   },
   "outputs": [],
   "source": [
    "class Mailer(object):\n",
    "    def __init__(self, probabilities, person_probability):\n",
    "        \"\"\"\n",
    "        :param:\n",
    "         - `probabilities`: dictionary of probabilities for words in mail\n",
    "         - `person_probability`: fraction of mail sent by this person\n",
    "        \"\"\"\n",
    "        self.probabilities = probabilities\n",
    "        assert sum(probabilities.values()) == 1, probabilities\n",
    "        self.person_probability = person_probability\n",
    "        return\n",
    "\n",
    "    def probability(self, words):\n",
    "        \"\"\"\n",
    "        :param:\n",
    "         - `words`: list of words in mail\n",
    "        :return: probability that this person wrote the mail\n",
    "        \"\"\"\n",
    "        probability = self.person_probability\n",
    "        for word in words:\n",
    "            probability *= self.probabilities[word]\n",
    "        return probability\n",
    "        "
   ]
  },
  {
   "cell_type": "code",
   "execution_count": 41,
   "metadata": {
    "autoscroll": "json-false",
    "collapsed": false,
    "ein.tags": [
     "worksheet-0"
    ]
   },
   "outputs": [],
   "source": [
    "p_chris = .5\n",
    "p_sara = .5\n",
    "chris = Mailer({'love': .1, 'deal': .8, 'life': .1}, p_chris)\n",
    "sara = Mailer({'love': .5, 'deal': .2, 'life': .3}, p_sara)"
   ]
  },
  {
   "cell_type": "code",
   "execution_count": 42,
   "metadata": {
    "autoscroll": "json-false",
    "collapsed": false,
    "ein.tags": [
     "worksheet-0"
    ]
   },
   "outputs": [],
   "source": [
    "text = 'life deal'.split()\n",
    "p_text_given_chris = chris.probability(text)\n",
    "p_text_given_sara = sara.probability(text)\n",
    "p_text = p_text_given_sara + p_text_given_chris"
   ]
  },
  {
   "cell_type": "code",
   "execution_count": 47,
   "metadata": {
    "autoscroll": "json-false",
    "collapsed": false,
    "ein.tags": [
     "worksheet-0"
    ]
   },
   "outputs": [
    {
     "name": "stdout",
     "output_type": "stream",
     "text": [
      "0.222222222222\n",
      "0.277777777778\n"
     ]
    }
   ],
   "source": [
    "p_chris_given_text = (p_text_given_chris * p_chris)/p_text\n",
    "p_sara_given_text = (p_text_given_sara * p_sara)/p_text\n",
    "print(p_chris_given_text)\n",
    "print(p_sara_given_text)"
   ]
  },
  {
   "cell_type": "code",
   "execution_count": 44,
   "metadata": {
    "autoscroll": "json-false",
    "collapsed": false,
    "ein.tags": [
     "worksheet-0"
    ]
   },
   "outputs": [
    {
     "name": "stdout",
     "output_type": "stream",
     "text": [
      "0.571428571429\n",
      "0.428571428571\n"
     ]
    }
   ],
   "source": [
    "normalizer = p_chris_given_text + p_sara_given_text\n",
    "print(p_chris_given_text/normalizer)\n",
    "print(p_sara_given_text/normalizer)"
   ]
  },
  {
   "cell_type": "markdown",
   "metadata": {
    "ein.tags": [
     "worksheet-0"
    ]
   },
   "source": [
    "## new text"
   ]
  },
  {
   "cell_type": "code",
   "execution_count": 45,
   "metadata": {
    "autoscroll": "json-false",
    "collapsed": false,
    "ein.tags": [
     "worksheet-0"
    ]
   },
   "outputs": [],
   "source": [
    "text = 'love deal'.split()\n",
    "p_text_given_chris = chris.probability(text)\n",
    "p_text_given_sara = sara.probability(text)\n",
    "p_text = p_text_given_sara + p_text_given_chris"
   ]
  },
  {
   "cell_type": "code",
   "execution_count": 46,
   "metadata": {
    "autoscroll": "json-false",
    "collapsed": false,
    "ein.tags": [
     "worksheet-0"
    ]
   },
   "outputs": [
    {
     "name": "stdout",
     "output_type": "stream",
     "text": [
      "0.444444444444\n",
      "0.555555555556\n"
     ]
    }
   ],
   "source": [
    "p_chris_given_text = (p_text_given_chris * p_chris)/p_text\n",
    "p_sara_given_text = (p_text_given_sara * p_sara)/p_text\n",
    "normalizer = p_chris_given_text + p_sara_given_text\n",
    "print(p_chris_given_text/normalizer)\n",
    "print(p_sara_given_text/normalizer)"
   ]
  },
  {
   "cell_type": "markdown",
   "metadata": {
    "ein.tags": [
     "worksheet-0"
    ]
   },
   "source": [
    "## Spleenitis"
   ]
  },
  {
   "cell_type": "code",
   "execution_count": 50,
   "metadata": {
    "autoscroll": "json-false",
    "collapsed": false,
    "ein.tags": [
     "worksheet-0"
    ]
   },
   "outputs": [],
   "source": [
    "p_spleenitis = .008\n",
    "p_positive_given_spleenitis = .98\n",
    "p_positive_given_not_spleenitis = 1 - p_positive_given_spleenitis\n",
    "p_negative_given_not_spleenitis = .97\n",
    "p_negative_given_spleenitis = 1 - p_negative_given_not_spleenitis\n"
   ]
  },
  {
   "cell_type": "code",
   "execution_count": 51,
   "metadata": {
    "autoscroll": "json-false",
    "collapsed": false,
    "ein.tags": [
     "worksheet-0"
    ]
   },
   "outputs": [
    {
     "name": "stdout",
     "output_type": "stream",
     "text": [
      "0.00784\n"
     ]
    }
   ],
   "source": [
    "p_spleenitis_given_positive = (p_positive_given_spleenitis * p_spleenitis)\n",
    "print(p_spleenitis_given_positive)"
   ]
  }
 ],
 "metadata": {},
 "nbformat": 4,
 "nbformat_minor": 0
}
