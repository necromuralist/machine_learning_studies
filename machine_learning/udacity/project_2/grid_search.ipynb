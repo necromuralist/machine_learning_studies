{
 "cells": [
  {
   "cell_type": "markdown",
   "metadata": {
    "ein.tags": [
     "worksheet-0"
    ]
   },
   "source": [
    "# experiments tuning Logistic Regression with GridSearch"
   ]
  },
  {
   "cell_type": "code",
   "execution_count": 93,
   "metadata": {
    "autoscroll": "json-false",
    "collapsed": false,
    "ein.tags": [
     "worksheet-0"
    ]
   },
   "outputs": [],
   "source": [
    "# python standard library\n",
    "import warnings\n",
    "from collections import namedtuple\n",
    "import pickle\n",
    "\n",
    "# third-party\n",
    "import numpy\n",
    "from sklearn.cross_validation import train_test_split\n",
    "from sklearn.grid_search import GridSearchCV\n",
    "from sklearn.linear_model import LogisticRegression, LogisticRegressionCV\n",
    "from sklearn.metrics import f1_score, make_scorer\n",
    "import pandas\n",
    "from tabulate import tabulate\n",
    "import seaborn\n",
    "# this code\n",
    "#from student_intervention.common import feature_map"
   ]
  },
  {
   "cell_type": "code",
   "execution_count": 66,
   "metadata": {
    "autoscroll": "json-false",
    "collapsed": false,
    "ein.tags": [
     "worksheet-0"
    ]
   },
   "outputs": [],
   "source": [
    "feature_map = {\"school\": \"student's school\",\n",
    "               \"sex\": \"student's sex\",\n",
    "               \"age\": \"student's age\",\n",
    "               \"address\": \"student's home address type\",\n",
    "               \"famsize\": \"family size\",\n",
    "               \"Pstatus\": \"parent's cohabitation status\",\n",
    "               \"Medu\": \"mother's education\",\n",
    "               \"Fedu\": \"father's education\",\n",
    "               \"Mjob\": \"mother's job\",\n",
    "               \"Fjob\": \"father's job\",\n",
    "               \"reason\": \"reason to choose this school\",\n",
    "               \"guardian\": \"student's guardian\",\n",
    "               \"traveltime\": \"home to school travel time\",\n",
    "               \"studytime\": \"weekly study time\",\n",
    "               \"failures\": \"number of past class failures\",\n",
    "               \"schoolsup\": \"extra educational support\",\n",
    "               \"famsup\": \"family educational support\",\n",
    "               \"paid\": \"extra paid classes within the course subject (Math or Portuguese)\",\n",
    "               \"activities\": \"extra-curricular activities\",\n",
    "               \"nursery\": \"attended nursery school\",\n",
    "               \"higher\": \"wants to take higher education\",\n",
    "               \"internet\": \"Internet access at home\",\n",
    "               \"romantic\": \"within a romantic relationship\",\n",
    "               \"famrel\": \"quality of family relationships\",\n",
    "               \"freetime\": \"free time after school\",\n",
    "               \"goout\": \"going out with friends\",\n",
    "               \"Dalc\": \"workday alcohol consumption\",\n",
    "               \"Walc\": \"weekend alcohol consumption\",\n",
    "               \"health\": \"current health status\",\n",
    "               \"absences\": \"number of school absences\",\n",
    "               \"passed\": \"did the student pass the final exam\"}"
   ]
  },
  {
   "cell_type": "code",
   "execution_count": 67,
   "metadata": {
    "autoscroll": "json-false",
    "collapsed": false,
    "ein.tags": [
     "worksheet-0"
    ]
   },
   "outputs": [],
   "source": [
    "student_data = pandas.read_csv('student-data.csv')"
   ]
  },
  {
   "cell_type": "code",
   "execution_count": 68,
   "metadata": {
    "autoscroll": "json-false",
    "collapsed": false,
    "ein.tags": [
     "worksheet-0"
    ]
   },
   "outputs": [],
   "source": [
    "def to_numeric(frame):\n",
    "    \"\"\"\n",
    "    :param:\n",
    "     - `frame`: data frame to transform\n",
    "    :return: data frame with categorical values changed to numeric\n",
    "    \"\"\"\n",
    "    new_features = pandas.DataFrame(index = frame.index)\n",
    "    for column, column_data in frame.iteritems():\n",
    "        if column_data.dtype == object:\n",
    "            column_data = column_data.replace(['yes', 'no'], [ 1, 0])\n",
    "        if column_data.dtype == object:\n",
    "            column_data = pandas.get_dummies(column_data, prefix=column)\n",
    "        new_features = new_features.join(column_data)\n",
    "    return new_features"
   ]
  },
  {
   "cell_type": "code",
   "execution_count": 69,
   "metadata": {
    "autoscroll": "json-false",
    "collapsed": false,
    "ein.tags": [
     "worksheet-0"
    ]
   },
   "outputs": [],
   "source": [
    "numeric_data = to_numeric(student_data)"
   ]
  },
  {
   "cell_type": "code",
   "execution_count": 70,
   "metadata": {
    "autoscroll": "json-false",
    "collapsed": false,
    "ein.tags": [
     "worksheet-0"
    ]
   },
   "outputs": [],
   "source": [
    "passing_ratio = sum(numeric_data.passed)/float(len(numeric_data.passed))"
   ]
  },
  {
   "cell_type": "code",
   "execution_count": 71,
   "metadata": {
    "autoscroll": "json-false",
    "collapsed": false,
    "ein.tags": [
     "worksheet-0"
    ]
   },
   "outputs": [],
   "source": [
    "features = numeric_data[numeric_data.columns[:-1]]\n",
    "target = numeric_data['passed']"
   ]
  },
  {
   "cell_type": "code",
   "execution_count": 92,
   "metadata": {
    "autoscroll": "json-false",
    "collapsed": false,
    "ein.tags": [
     "worksheet-0"
    ]
   },
   "outputs": [],
   "source": [
    "x_train, x_test, y_train, y_test = train_test_split(features, target,\n",
    "                                                    train_size=300,\n",
    "                                                    test_size=numeric_data.shape[0] - 300,\n",
    "                                                    random_state=0)\n",
    "TrainTestDataOne = namedtuple('TrainTestDataOne', 'X_train X_test y_train y_test'.split())\n",
    "save_data = TrainTestDataOne(x_train, x_test, y_train, y_test)\n",
    "with open('saved_data.pkl', 'wb') as pickler:\n",
    "    pickle.dump(save_data, pickler)"
   ]
  },
  {
   "cell_type": "code",
   "execution_count": 73,
   "metadata": {
    "autoscroll": "json-false",
    "collapsed": false,
    "ein.tags": [
     "worksheet-0"
    ]
   },
   "outputs": [],
   "source": [
    "model = LogisticRegression()\n",
    "cv_model = LogisticRegressionCV(cv=10, n_jobs=-1, penalty='l1', solver='liblinear')"
   ]
  },
  {
   "cell_type": "code",
   "execution_count": 74,
   "metadata": {
    "autoscroll": "json-false",
    "collapsed": false,
    "ein.tags": [
     "worksheet-0"
    ]
   },
   "outputs": [
    {
     "data": {
      "text/plain": [
       "LogisticRegression(C=1.0, class_weight=None, dual=False, fit_intercept=True,\n          intercept_scaling=1, max_iter=100, multi_class='ovr', n_jobs=1,\n          penalty='l2', random_state=None, solver='liblinear', tol=0.0001,\n          verbose=0, warm_start=False)"
      ]
     },
     "execution_count": 74,
     "metadata": {},
     "output_type": "execute_result"
    }
   ],
   "source": [
    "model.fit(x_train, y_train)"
   ]
  },
  {
   "cell_type": "code",
   "execution_count": 75,
   "metadata": {
    "autoscroll": "json-false",
    "collapsed": false,
    "ein.tags": [
     "worksheet-0"
    ]
   },
   "outputs": [
    {
     "data": {
      "text/plain": [
       "LogisticRegressionCV(Cs=10, class_weight=None, cv=10, dual=False,\n           fit_intercept=True, intercept_scaling=1.0, max_iter=100,\n           multi_class='ovr', n_jobs=-1, penalty='l1', random_state=None,\n           refit=True, scoring=None, solver='liblinear', tol=0.0001,\n           verbose=0)"
      ]
     },
     "execution_count": 75,
     "metadata": {},
     "output_type": "execute_result"
    }
   ],
   "source": [
    "cv_model.fit(x_train, y_train)"
   ]
  },
  {
   "cell_type": "code",
   "execution_count": 76,
   "metadata": {
    "autoscroll": "json-false",
    "collapsed": false,
    "ein.tags": [
     "worksheet-0"
    ]
   },
   "outputs": [
    {
     "data": {
      "text/plain": [
       "0.79104477611940294"
      ]
     },
     "execution_count": 76,
     "metadata": {},
     "output_type": "execute_result"
    }
   ],
   "source": [
    "predictions = model.predict(x_test)\n",
    "f1_score(y_test.values, model.predict(x_test), pos_label=1)"
   ]
  },
  {
   "cell_type": "code",
   "execution_count": 77,
   "metadata": {
    "autoscroll": "json-false",
    "collapsed": false,
    "ein.tags": [
     "worksheet-0"
    ]
   },
   "outputs": [
    {
     "data": {
      "text/plain": [
       "0.79999999999999982"
      ]
     },
     "execution_count": 77,
     "metadata": {},
     "output_type": "execute_result"
    }
   ],
   "source": [
    "f1_score(y_test.values, cv_model.predict(x_test), pos_label=1)"
   ]
  },
  {
   "cell_type": "code",
   "execution_count": 78,
   "metadata": {
    "autoscroll": "json-false",
    "collapsed": false,
    "ein.tags": [
     "worksheet-0"
    ]
   },
   "outputs": [],
   "source": [
    "scorer = make_scorer(f1_score)"
   ]
  },
  {
   "cell_type": "code",
   "execution_count": 79,
   "metadata": {
    "autoscroll": "json-false",
    "collapsed": false,
    "ein.tags": [
     "worksheet-0"
    ]
   },
   "outputs": [],
   "source": [
    "def fit_grid(c_range, penalty=('l1', 'l2')):\n",
    "    parameters = {'penalty': penalty,\n",
    "    'C': c_range,\n",
    "    'class_weight': [None, 'balanced', {1:passing_ratio, 0: 1-passing_ratio}]}\n",
    "    grid = GridSearchCV(model, param_grid=parameters, scoring=scorer, cv=10, n_jobs=-1)\n",
    "    with warnings.catch_warnings():\n",
    "        warnings.simplefilter('ignore')\n",
    "        return grid.fit(x_train, y_train)"
   ]
  },
  {
   "cell_type": "code",
   "execution_count": 80,
   "metadata": {
    "autoscroll": "json-false",
    "collapsed": false,
    "ein.tags": [
     "worksheet-0"
    ]
   },
   "outputs": [],
   "source": [
    "grid_01 = fit_grid(numpy.arange(.01, 1.1, .05))"
   ]
  },
  {
   "cell_type": "code",
   "execution_count": 81,
   "metadata": {
    "autoscroll": "json-false",
    "collapsed": false,
    "ein.tags": [
     "worksheet-0"
    ]
   },
   "outputs": [],
   "source": [
    "def print_columns(grid):\n",
    "    coefficients = grid.best_estimator_.coef_[0]\n",
    "    odds = numpy.exp(coefficients)\n",
    "    sorted_coefficients = sorted((column for column in coefficients), reverse=True)\n",
    "    rows = []\n",
    "    for coefficient in sorted_coefficients:\n",
    "        if abs(coefficient) > 0:\n",
    "            index = numpy.where(coefficients == coefficient)[0][0]\n",
    "            column_name = x_train.columns[index]\n",
    "            description = feature_map[column_name] if column_name in feature_map else ' = '.join(column_name.split('_'))\n",
    "            rows.append([column_name, description, \"{0:.2f}\".format(coefficient), '{0:.2f}'.format(odds[index])])\n",
    "    print(tabulate(rows, headers='Variable Description Coefficient Odds'.split()))\n",
    "            "
   ]
  },
  {
   "cell_type": "code",
   "execution_count": 82,
   "metadata": {
    "autoscroll": "json-false",
    "collapsed": false,
    "ein.tags": [
     "worksheet-0"
    ]
   },
   "outputs": [],
   "source": [
    "def print_best(grid):\n",
    "    print(\"parameters\")\n",
    "    print(\"==========\\n\")\n",
    "    print(tabulate(grid.best_params_.items(), headers='Parameter Value'.split()))\n",
    "    print('\\nF1 score')\n",
    "    print('========\\n')\n",
    "    print(\"{0:.2f}\".format(grid.score(x_test, y_test)))\n",
    "    print('\\nCoefficients')\n",
    "    print('============\\n')\n",
    "    print_columns(grid)"
   ]
  },
  {
   "cell_type": "code",
   "execution_count": 83,
   "metadata": {
    "autoscroll": "json-false",
    "collapsed": false,
    "ein.tags": [
     "worksheet-0"
    ]
   },
   "outputs": [
    {
     "name": "stdout",
     "output_type": "stream",
     "text": [
      "parameters\n",
      "==========\n",
      "\n",
      "Parameter     Value\n",
      "------------  ------------------------------------------------\n",
      "penalty       l1\n",
      "C             0.61\n",
      "class_weight  {0: 0.32911392405063289, 1: 0.67088607594936711}\n",
      "\n",
      "F1 score\n",
      "========\n",
      "\n",
      "0.79\n",
      "\n",
      "Coefficients\n",
      "============\n",
      "\n",
      "Variable       Description                        Coefficient    Odds\n",
      "-------------  -------------------------------  -------------  ------\n",
      "studytime      weekly study time                         0.25    1.28\n",
      "Walc           weekend alcohol consumption               0.22    1.24\n",
      "address_U      address = U                               0.18    1.2\n",
      "Mjob_services  Mjob = services                           0.12    1.13\n",
      "Medu           mother's education                        0.1     1.1\n",
      "Fedu           father's education                        0.07    1.08\n",
      "age            student's age                             0.07    1.07\n",
      "famrel         quality of family relationships           0.06    1.06\n",
      "internet       Internet access at home                   0.03    1.03\n",
      "sex_M          sex = M                                   0.01    1.01\n",
      "health         current health status                    -0.01    0.99\n",
      "absences       number of school absences                -0.03    0.97\n",
      "famsup         family educational support               -0.06    0.94\n",
      "goout          going out with friends                   -0.33    0.72\n",
      "failures       number of past class failures            -0.73    0.48\n"
     ]
    }
   ],
   "source": [
    "print_best(grid_01)"
   ]
  },
  {
   "cell_type": "code",
   "execution_count": 84,
   "metadata": {
    "autoscroll": "json-false",
    "collapsed": false,
    "ein.tags": [
     "worksheet-0"
    ]
   },
   "outputs": [
    {
     "name": "stdout",
     "output_type": "stream",
     "text": [
      "parameters\n",
      "==========\n",
      "\n",
      "Parameter     Value\n",
      "------------  ------------------------------------------------\n",
      "penalty       l1\n",
      "C             0.61\n",
      "class_weight  {0: 0.32911392405063289, 1: 0.67088607594936711}\n",
      "\n",
      "F1 score\n",
      "========\n",
      "\n",
      "0.79\n",
      "\n",
      "Coefficients\n",
      "============\n",
      "\n",
      "Variable       Description                        Coefficient    Odds\n",
      "-------------  -------------------------------  -------------  ------\n",
      "studytime      weekly study time                         0.25    1.28\n",
      "Walc           weekend alcohol consumption               0.22    1.24\n",
      "address_U      address = U                               0.18    1.2\n",
      "Mjob_services  Mjob = services                           0.12    1.13\n",
      "Medu           mother's education                        0.1     1.1\n",
      "Fedu           father's education                        0.07    1.08\n",
      "age            student's age                             0.07    1.07\n",
      "famrel         quality of family relationships           0.06    1.06\n",
      "internet       Internet access at home                   0.03    1.03\n",
      "sex_M          sex = M                                   0.01    1.01\n",
      "health         current health status                    -0.01    0.99\n",
      "absences       number of school absences                -0.03    0.97\n",
      "famsup         family educational support               -0.06    0.94\n",
      "goout          going out with friends                   -0.33    0.72\n",
      "failures       number of past class failures            -0.73    0.48\n"
     ]
    }
   ],
   "source": [
    "grid_l1 = fit_grid(numpy.arange(.01, 1.1, .05), penalty=['l1'])\n",
    "print_best(grid_l1)\n"
   ]
  },
  {
   "cell_type": "markdown",
   "metadata": {
    "ein.tags": [
     "worksheet-0"
    ]
   },
   "source": [
    "## Better"
   ]
  },
  {
   "cell_type": "markdown",
   "metadata": {
    "ein.tags": [
     "worksheet-0"
    ]
   },
   "source": [
    "The previous model seems to be overfitted. (actually I changed the train-test split to have more training data and this all changed)."
   ]
  },
  {
   "cell_type": "code",
   "execution_count": 85,
   "metadata": {
    "autoscroll": "json-false",
    "collapsed": false,
    "ein.tags": [
     "worksheet-0"
    ]
   },
   "outputs": [
    {
     "name": "stdout",
     "output_type": "stream",
     "text": [
      "parameters\n",
      "==========\n",
      "\n",
      "Parameter     Value\n",
      "------------  ------------------------------------------------\n",
      "penalty       l1\n",
      "C             0.6\n",
      "class_weight  {0: 0.32911392405063289, 1: 0.67088607594936711}\n",
      "\n",
      "F1 score\n",
      "========\n",
      "\n",
      "0.79\n",
      "\n",
      "Coefficients\n",
      "============\n",
      "\n",
      "Variable       Description                        Coefficient    Odds\n",
      "-------------  -------------------------------  -------------  ------\n",
      "studytime      weekly study time                         0.24    1.27\n",
      "Walc           weekend alcohol consumption               0.22    1.24\n",
      "address_U      address = U                               0.18    1.19\n",
      "Mjob_services  Mjob = services                           0.12    1.12\n",
      "Medu           mother's education                        0.1     1.1\n",
      "Fedu           father's education                        0.07    1.07\n",
      "age            student's age                             0.07    1.07\n",
      "famrel         quality of family relationships           0.06    1.06\n",
      "internet       Internet access at home                   0.02    1.02\n",
      "sex_M          sex = M                                   0.01    1.01\n",
      "health         current health status                    -0.01    0.99\n",
      "absences       number of school absences                -0.03    0.97\n",
      "famsup         family educational support               -0.05    0.95\n",
      "goout          going out with friends                   -0.33    0.72\n",
      "failures       number of past class failures            -0.73    0.48\n"
     ]
    }
   ],
   "source": [
    "grid_05 = fit_grid(numpy.arange(.05, 1.1, .05))\n",
    "print_best(grid_05)\n"
   ]
  },
  {
   "cell_type": "code",
   "execution_count": 86,
   "metadata": {
    "autoscroll": "json-false",
    "collapsed": false,
    "ein.tags": [
     "worksheet-0"
    ]
   },
   "outputs": [
    {
     "name": "stdout",
     "output_type": "stream",
     "text": [
      "parameters\n",
      "==========\n",
      "\n",
      "Parameter     Value\n",
      "------------  ------------------------------------------------\n",
      "penalty       l1\n",
      "C             0.6\n",
      "class_weight  {0: 0.32911392405063289, 1: 0.67088607594936711}\n",
      "\n",
      "F1 score\n",
      "========\n",
      "\n",
      "0.79\n",
      "\n",
      "Coefficients\n",
      "============\n",
      "\n",
      "Variable       Description                        Coefficient    Odds\n",
      "-------------  -------------------------------  -------------  ------\n",
      "studytime      weekly study time                         0.24    1.27\n",
      "Walc           weekend alcohol consumption               0.22    1.24\n",
      "address_U      address = U                               0.18    1.19\n",
      "Mjob_services  Mjob = services                           0.12    1.12\n",
      "Medu           mother's education                        0.1     1.1\n",
      "Fedu           father's education                        0.07    1.07\n",
      "age            student's age                             0.07    1.07\n",
      "famrel         quality of family relationships           0.06    1.06\n",
      "internet       Internet access at home                   0.02    1.02\n",
      "sex_M          sex = M                                   0.01    1.01\n",
      "health         current health status                    -0.01    0.99\n",
      "absences       number of school absences                -0.03    0.97\n",
      "famsup         family educational support               -0.05    0.95\n",
      "goout          going out with friends                   -0.33    0.72\n",
      "failures       number of past class failures            -0.73    0.48\n"
     ]
    }
   ],
   "source": [
    "grid_1 = fit_grid(numpy.arange(.1, 1.1, .1))\n",
    "print_best(grid_1)"
   ]
  },
  {
   "cell_type": "code",
   "execution_count": 87,
   "metadata": {
    "autoscroll": "json-false",
    "collapsed": false,
    "ein.tags": [
     "worksheet-0"
    ]
   },
   "outputs": [
    {
     "name": "stdout",
     "output_type": "stream",
     "text": [
      "parameters\n",
      "==========\n",
      "\n",
      "Parameter     Value\n",
      "------------  -------\n",
      "penalty       l1\n",
      "C             0.3\n",
      "class_weight\n",
      "\n",
      "F1 score\n",
      "========\n",
      "\n",
      "0.79\n",
      "\n",
      "Coefficients\n",
      "============\n",
      "\n",
      "Variable       Description                        Coefficient    Odds\n",
      "-------------  -------------------------------  -------------  ------\n",
      "studytime      weekly study time                         0.26    1.29\n",
      "Mjob_services  Mjob = services                           0.23    1.26\n",
      "Walc           weekend alcohol consumption               0.2     1.23\n",
      "address_U      address = U                               0.18    1.2\n",
      "internet       Internet access at home                   0.12    1.12\n",
      "sex_M          sex = M                                   0.11    1.12\n",
      "Fedu           father's education                        0.09    1.1\n",
      "Medu           mother's education                        0.09    1.09\n",
      "famrel         quality of family relationships           0.05    1.05\n",
      "Mjob_health    Mjob = health                             0.04    1.04\n",
      "age            student's age                             0.04    1.04\n",
      "absences       number of school absences                -0.03    0.97\n",
      "health         current health status                    -0.03    0.97\n",
      "Mjob_teacher   Mjob = teacher                           -0.06    0.94\n",
      "famsup         family educational support               -0.15    0.86\n",
      "goout          going out with friends                   -0.36    0.7\n",
      "failures       number of past class failures            -0.76    0.47\n"
     ]
    }
   ],
   "source": [
    "grid_4 = fit_grid(numpy.arange(.3, .5, .05))\n",
    "print_best(grid_4)"
   ]
  },
  {
   "cell_type": "markdown",
   "metadata": {
    "ein.tags": [
     "worksheet-0"
    ]
   },
   "source": [
    "# Random Forests"
   ]
  },
  {
   "cell_type": "code",
   "execution_count": 88,
   "metadata": {
    "autoscroll": "json-false",
    "collapsed": false,
    "ein.tags": [
     "worksheet-0"
    ]
   },
   "outputs": [],
   "source": [
    "from sklearn.ensemble import RandomForestClassifier"
   ]
  },
  {
   "cell_type": "code",
   "execution_count": 89,
   "metadata": {
    "autoscroll": "json-false",
    "collapsed": false,
    "ein.tags": [
     "worksheet-0"
    ]
   },
   "outputs": [
    {
     "data": {
      "text/plain": [
       "0.78195488721804507"
      ]
     },
     "execution_count": 89,
     "metadata": {},
     "output_type": "execute_result"
    }
   ],
   "source": [
    "forest = RandomForestClassifier()\n",
    "forest.fit(x_train, y_train)\n",
    "f1_score(forest.predict(x_test), y_test)"
   ]
  },
  {
   "cell_type": "code",
   "execution_count": 90,
   "metadata": {
    "autoscroll": "json-false",
    "collapsed": false,
    "ein.tags": [
     "worksheet-0"
    ]
   },
   "outputs": [
    {
     "data": {
      "text/plain": [
       "GridSearchCV(cv=10, error_score='raise',\n       estimator=RandomForestClassifier(bootstrap=True, class_weight=None, criterion='gini',\n            max_depth=None, max_features='auto', max_leaf_nodes=None,\n            min_samples_leaf=1, min_samples_split=2,\n            min_weight_fraction_leaf=0.0, n_estimators=10, n_jobs=1,\n            oob_score=False, random_state=None, verbose=0,\n            warm_start=False),\n       fit_params={}, iid=True, n_jobs=-1,\n       param_grid={'n_estimators': [5, 6, 7, 8, 9, 10, 11, 12, 13, 14, 15, 16, 17, 18, 19], 'max_features': [5, 6, 7, 8, 9, 10, 11, 12, 13, 14, 15, 16, 17, 18, 19, 20, 21, 22, 23, 24, 25, 26, 27, 28, 29, 30, 31, 32, 33, 34, 35, 36, 37, 38, 39, 40, 41, 42, 43, 44, 45, 46, 47]},\n       pre_dispatch='2*n_jobs', refit=True, scoring=make_scorer(f1_score),\n       verbose=0)"
      ]
     },
     "execution_count": 90,
     "metadata": {},
     "output_type": "execute_result"
    }
   ],
   "source": [
    "forest_parameters = {'n_estimators': range(5, 20), 'max_features': range(5, len(x_train.columns))}\n",
    "g = GridSearchCV(forest, param_grid=forest_parameters, scoring=scorer, cv=10, n_jobs=-1)\n",
    "g.fit(x_train, y_train)"
   ]
  },
  {
   "cell_type": "code",
   "execution_count": 91,
   "metadata": {
    "autoscroll": "json-false",
    "collapsed": false,
    "ein.tags": [
     "worksheet-0"
    ]
   },
   "outputs": [
    {
     "name": "stdout",
     "output_type": "stream",
     "text": [
      "0.788321167883\n",
      "RandomForestClassifier(bootstrap=True, class_weight=None, criterion='gini',\n",
      "            max_depth=None, max_features=22, max_leaf_nodes=None,\n",
      "            min_samples_leaf=1, min_samples_split=2,\n",
      "            min_weight_fraction_leaf=0.0, n_estimators=19, n_jobs=1,\n",
      "            oob_score=False, random_state=None, verbose=0,\n",
      "            warm_start=False)\n"
     ]
    }
   ],
   "source": [
    "print(g.score(x_test, y_test))\n",
    "print(g.best_estimator_)"
   ]
  },
  {
   "cell_type": "code",
   "execution_count": 96,
   "metadata": {
    "autoscroll": "json-false",
    "collapsed": false,
    "ein.tags": [
     "worksheet-0"
    ]
   },
   "outputs": [
    {
     "data": {
      "text/plain": [
       "<matplotlib.figure.Figure at 0x7f78151b1a50>"
      ]
     },
     "metadata": {},
     "output_type": "display_data"
    },
    {
     "data": {
      "text/plain": [
       "<matplotlib.axes._subplots.AxesSubplot at 0x7f78151a7d90>"
      ]
     },
     "execution_count": 96,
     "metadata": {},
     "output_type": "execute_result"
    }
   ],
   "source": [
    "%matplotlib inline\n",
    "seaborn.countplot(x='Medu', hue='passed', data=student_data)"
   ]
  },
  {
   "cell_type": "code",
   "execution_count": 97,
   "metadata": {
    "autoscroll": "json-false",
    "collapsed": false,
    "ein.tags": [
     "worksheet-0"
    ]
   },
   "outputs": [
    {
     "data": {
      "text/plain": [
       "<matplotlib.figure.Figure at 0x7f78151132d0>"
      ]
     },
     "metadata": {},
     "output_type": "display_data"
    },
    {
     "data": {
      "text/plain": [
       "<matplotlib.axes._subplots.AxesSubplot at 0x7f78150e7c90>"
      ]
     },
     "execution_count": 97,
     "metadata": {},
     "output_type": "execute_result"
    }
   ],
   "source": [
    "seaborn.countplot(x='famrel', hue='passed', data=student_data)"
   ]
  },
  {
   "cell_type": "code",
   "execution_count": 98,
   "metadata": {
    "autoscroll": "json-false",
    "collapsed": false,
    "ein.tags": [
     "worksheet-0"
    ]
   },
   "outputs": [
    {
     "data": {
      "text/plain": [
       "<matplotlib.figure.Figure at 0x7f78148a2c50>"
      ]
     },
     "metadata": {},
     "output_type": "display_data"
    },
    {
     "data": {
      "text/plain": [
       "<matplotlib.axes._subplots.AxesSubplot at 0x7f781489ac90>"
      ]
     },
     "execution_count": 98,
     "metadata": {},
     "output_type": "execute_result"
    }
   ],
   "source": [
    "seaborn.countplot(x='Fedu', hue='passed', data=student_data)"
   ]
  },
  {
   "cell_type": "code",
   "execution_count": 101,
   "metadata": {
    "autoscroll": "json-false",
    "collapsed": false,
    "ein.tags": [
     "worksheet-0"
    ]
   },
   "outputs": [
    {
     "data": {
      "text/plain": [
       "<matplotlib.figure.Figure at 0x7f78146a8b90>"
      ]
     },
     "metadata": {},
     "output_type": "display_data"
    },
    {
     "data": {
      "text/plain": [
       "<matplotlib.axes._subplots.AxesSubplot at 0x7f78147574d0>"
      ]
     },
     "execution_count": 101,
     "metadata": {},
     "output_type": "execute_result"
    }
   ],
   "source": [
    "seaborn.countplot(x='passed', hue='age', data=student_data)"
   ]
  },
  {
   "cell_type": "code",
   "execution_count": 116,
   "metadata": {
    "autoscroll": "json-false",
    "collapsed": false,
    "ein.tags": [
     "worksheet-0"
    ]
   },
   "outputs": [
    {
     "data": {
      "text/plain": [
       "<matplotlib.figure.Figure at 0x7f780fbc7510>"
      ]
     },
     "metadata": {},
     "output_type": "display_data"
    }
   ],
   "source": [
    "#axe = seaborn.countplot(x='absences', hue='passed', data=student_data)\n",
    "axe = seaborn.kdeplot(student_data[student_data.passed=='yes'].absences, label='passed')\n",
    "axe = seaborn.kdeplot(student_data[student_data.passed=='no'].absences, ax=axe, label=\"didn't pass\")"
   ]
  },
  {
   "cell_type": "code",
   "execution_count": 117,
   "metadata": {
    "autoscroll": "json-false",
    "collapsed": false,
    "ein.tags": [
     "worksheet-0"
    ]
   },
   "outputs": [
    {
     "data": {
      "text/plain": [
       "<matplotlib.figure.Figure at 0x7f780f07d490>"
      ]
     },
     "metadata": {},
     "output_type": "display_data"
    },
    {
     "data": {
      "text/plain": [
       "<matplotlib.axes._subplots.AxesSubplot at 0x7f780f057fd0>"
      ]
     },
     "execution_count": 117,
     "metadata": {},
     "output_type": "execute_result"
    }
   ],
   "source": [
    "seaborn.countplot(x='goout', hue='passed', data=student_data)"
   ]
  },
  {
   "cell_type": "code",
   "execution_count": 118,
   "metadata": {
    "autoscroll": "json-false",
    "collapsed": false,
    "ein.tags": [
     "worksheet-0"
    ]
   },
   "outputs": [
    {
     "data": {
      "text/plain": [
       "<matplotlib.figure.Figure at 0x7f780f034410>"
      ]
     },
     "metadata": {},
     "output_type": "display_data"
    },
    {
     "data": {
      "text/plain": [
       "<matplotlib.axes._subplots.AxesSubplot at 0x7f780f13d350>"
      ]
     },
     "execution_count": 118,
     "metadata": {},
     "output_type": "execute_result"
    }
   ],
   "source": [
    "seaborn.countplot(x='failures', hue='passed', data=student_data)"
   ]
  },
  {
   "cell_type": "code",
   "execution_count": 122,
   "metadata": {
    "autoscroll": "json-false",
    "collapsed": false,
    "ein.tags": [
     "worksheet-0"
    ]
   },
   "outputs": [
    {
     "data": {
      "text/plain": [
       "<matplotlib.figure.Figure at 0x7f78240b63d0>"
      ]
     },
     "metadata": {},
     "output_type": "display_data"
    },
    {
     "data": {
      "text/plain": [
       "<matplotlib.axes._subplots.AxesSubplot at 0x7f780f1e2590>"
      ]
     },
     "execution_count": 122,
     "metadata": {},
     "output_type": "execute_result"
    }
   ],
   "source": [
    "pass_fail  = {'yes': 1, 'no':0}\n",
    "student_data['passed_numeric'] = student_data.passed.map(pass_fail)\n",
    "seaborn.barplot(student_data.passed_numeric)"
   ]
  },
  {
   "cell_type": "code",
   "execution_count": 124,
   "metadata": {
    "autoscroll": "json-false",
    "collapsed": false,
    "ein.tags": [
     "worksheet-0"
    ]
   },
   "outputs": [
    {
     "name": "stdout",
     "output_type": "stream",
     "text": [
      "yes    265\n",
      "no     130\n",
      "Name: passed, dtype: int64\n"
     ]
    }
   ],
   "source": [
    "passed_counts = student_data.passed.value_counts()\n",
    "print(passed_counts)"
   ]
  },
  {
   "cell_type": "code",
   "execution_count": 133,
   "metadata": {
    "autoscroll": "json-false",
    "collapsed": false,
    "ein.tags": [
     "worksheet-0"
    ]
   },
   "outputs": [
    {
     "data": {
      "text/plain": [
       "0.67088607594936711"
      ]
     },
     "execution_count": 133,
     "metadata": {},
     "output_type": "execute_result"
    }
   ],
   "source": [
    "passed_proportions = passed_counts/len(student_data.passed)\n"
   ]
  },
  {
   "cell_type": "code",
   "execution_count": 135,
   "metadata": {
    "autoscroll": "json-false",
    "collapsed": false,
    "ein.tags": [
     "worksheet-0"
    ]
   },
   "outputs": [
    {
     "ename": "ValueError",
     "evalue": "If using all scalar values, you must pass an index",
     "output_type": "error",
     "traceback": [
      "\u001b[1;31m---------------------------------------------------------------------------\u001b[0m",
      "\u001b[1;31mValueError\u001b[0m                                Traceback (most recent call last)",
      "\u001b[1;32m<ipython-input-135-57463c4add72>\u001b[0m in \u001b[0;36m<module>\u001b[1;34m()\u001b[0m\n\u001b[0;32m      1\u001b[0m proportions = pandas.DataFrame.from_dict({\"yes\": passed_proportions.loc['yes'],\n\u001b[1;32m----> 2\u001b[1;33m \"no\":passed_proportions.loc['no']})\n\u001b[0m",
      "\u001b[1;32m/home/charon/.virtualenvs/machinelearning/local/lib/python2.7/site-packages/pandas/core/frame.pyc\u001b[0m in \u001b[0;36mfrom_dict\u001b[1;34m(cls, data, orient, dtype)\u001b[0m\n\u001b[0;32m    802\u001b[0m             \u001b[1;32mraise\u001b[0m \u001b[0mValueError\u001b[0m\u001b[1;33m(\u001b[0m\u001b[1;34m'only recognize index or columns for orient'\u001b[0m\u001b[1;33m)\u001b[0m\u001b[1;33m\u001b[0m\u001b[0m\n\u001b[0;32m    803\u001b[0m \u001b[1;33m\u001b[0m\u001b[0m\n\u001b[1;32m--> 804\u001b[1;33m         \u001b[1;32mreturn\u001b[0m \u001b[0mcls\u001b[0m\u001b[1;33m(\u001b[0m\u001b[0mdata\u001b[0m\u001b[1;33m,\u001b[0m \u001b[0mindex\u001b[0m\u001b[1;33m=\u001b[0m\u001b[0mindex\u001b[0m\u001b[1;33m,\u001b[0m \u001b[0mcolumns\u001b[0m\u001b[1;33m=\u001b[0m\u001b[0mcolumns\u001b[0m\u001b[1;33m,\u001b[0m \u001b[0mdtype\u001b[0m\u001b[1;33m=\u001b[0m\u001b[0mdtype\u001b[0m\u001b[1;33m)\u001b[0m\u001b[1;33m\u001b[0m\u001b[0m\n\u001b[0m\u001b[0;32m    805\u001b[0m \u001b[1;33m\u001b[0m\u001b[0m\n\u001b[0;32m    806\u001b[0m     \u001b[1;33m@\u001b[0m\u001b[0mdeprecate_kwarg\u001b[0m\u001b[1;33m(\u001b[0m\u001b[0mold_arg_name\u001b[0m\u001b[1;33m=\u001b[0m\u001b[1;34m'outtype'\u001b[0m\u001b[1;33m,\u001b[0m \u001b[0mnew_arg_name\u001b[0m\u001b[1;33m=\u001b[0m\u001b[1;34m'orient'\u001b[0m\u001b[1;33m)\u001b[0m\u001b[1;33m\u001b[0m\u001b[0m\n",
      "\u001b[1;32m/home/charon/.virtualenvs/machinelearning/local/lib/python2.7/site-packages/pandas/core/frame.pyc\u001b[0m in \u001b[0;36m__init__\u001b[1;34m(self, data, index, columns, dtype, copy)\u001b[0m\n\u001b[0;32m    224\u001b[0m                                  dtype=dtype, copy=copy)\n\u001b[0;32m    225\u001b[0m         \u001b[1;32melif\u001b[0m \u001b[0misinstance\u001b[0m\u001b[1;33m(\u001b[0m\u001b[0mdata\u001b[0m\u001b[1;33m,\u001b[0m \u001b[0mdict\u001b[0m\u001b[1;33m)\u001b[0m\u001b[1;33m:\u001b[0m\u001b[1;33m\u001b[0m\u001b[0m\n\u001b[1;32m--> 226\u001b[1;33m             \u001b[0mmgr\u001b[0m \u001b[1;33m=\u001b[0m \u001b[0mself\u001b[0m\u001b[1;33m.\u001b[0m\u001b[0m_init_dict\u001b[0m\u001b[1;33m(\u001b[0m\u001b[0mdata\u001b[0m\u001b[1;33m,\u001b[0m \u001b[0mindex\u001b[0m\u001b[1;33m,\u001b[0m \u001b[0mcolumns\u001b[0m\u001b[1;33m,\u001b[0m \u001b[0mdtype\u001b[0m\u001b[1;33m=\u001b[0m\u001b[0mdtype\u001b[0m\u001b[1;33m)\u001b[0m\u001b[1;33m\u001b[0m\u001b[0m\n\u001b[0m\u001b[0;32m    227\u001b[0m         \u001b[1;32melif\u001b[0m \u001b[0misinstance\u001b[0m\u001b[1;33m(\u001b[0m\u001b[0mdata\u001b[0m\u001b[1;33m,\u001b[0m \u001b[0mma\u001b[0m\u001b[1;33m.\u001b[0m\u001b[0mMaskedArray\u001b[0m\u001b[1;33m)\u001b[0m\u001b[1;33m:\u001b[0m\u001b[1;33m\u001b[0m\u001b[0m\n\u001b[0;32m    228\u001b[0m             \u001b[1;32mimport\u001b[0m \u001b[0mnumpy\u001b[0m\u001b[1;33m.\u001b[0m\u001b[0mma\u001b[0m\u001b[1;33m.\u001b[0m\u001b[0mmrecords\u001b[0m \u001b[1;32mas\u001b[0m \u001b[0mmrecords\u001b[0m\u001b[1;33m\u001b[0m\u001b[0m\n",
      "\u001b[1;32m/home/charon/.virtualenvs/machinelearning/local/lib/python2.7/site-packages/pandas/core/frame.pyc\u001b[0m in \u001b[0;36m_init_dict\u001b[1;34m(self, data, index, columns, dtype)\u001b[0m\n\u001b[0;32m    361\u001b[0m \u001b[1;33m\u001b[0m\u001b[0m\n\u001b[0;32m    362\u001b[0m         return _arrays_to_mgr(arrays, data_names, index, columns,\n\u001b[1;32m--> 363\u001b[1;33m                               dtype=dtype)\n\u001b[0m\u001b[0;32m    364\u001b[0m \u001b[1;33m\u001b[0m\u001b[0m\n\u001b[0;32m    365\u001b[0m     def _init_ndarray(self, values, index, columns, dtype=None,\n",
      "\u001b[1;32m/home/charon/.virtualenvs/machinelearning/local/lib/python2.7/site-packages/pandas/core/frame.pyc\u001b[0m in \u001b[0;36m_arrays_to_mgr\u001b[1;34m(arrays, arr_names, index, columns, dtype)\u001b[0m\n\u001b[0;32m   5156\u001b[0m     \u001b[1;31m# figure out the index, if necessary\u001b[0m\u001b[1;33m\u001b[0m\u001b[1;33m\u001b[0m\u001b[0m\n\u001b[0;32m   5157\u001b[0m     \u001b[1;32mif\u001b[0m \u001b[0mindex\u001b[0m \u001b[1;32mis\u001b[0m \u001b[0mNone\u001b[0m\u001b[1;33m:\u001b[0m\u001b[1;33m\u001b[0m\u001b[0m\n\u001b[1;32m-> 5158\u001b[1;33m         \u001b[0mindex\u001b[0m \u001b[1;33m=\u001b[0m \u001b[0mextract_index\u001b[0m\u001b[1;33m(\u001b[0m\u001b[0marrays\u001b[0m\u001b[1;33m)\u001b[0m\u001b[1;33m\u001b[0m\u001b[0m\n\u001b[0m\u001b[0;32m   5159\u001b[0m     \u001b[1;32melse\u001b[0m\u001b[1;33m:\u001b[0m\u001b[1;33m\u001b[0m\u001b[0m\n\u001b[0;32m   5160\u001b[0m         \u001b[0mindex\u001b[0m \u001b[1;33m=\u001b[0m \u001b[0m_ensure_index\u001b[0m\u001b[1;33m(\u001b[0m\u001b[0mindex\u001b[0m\u001b[1;33m)\u001b[0m\u001b[1;33m\u001b[0m\u001b[0m\n",
      "\u001b[1;32m/home/charon/.virtualenvs/machinelearning/local/lib/python2.7/site-packages/pandas/core/frame.pyc\u001b[0m in \u001b[0;36mextract_index\u001b[1;34m(data)\u001b[0m\n\u001b[0;32m   5195\u001b[0m \u001b[1;33m\u001b[0m\u001b[0m\n\u001b[0;32m   5196\u001b[0m         \u001b[1;32mif\u001b[0m \u001b[1;32mnot\u001b[0m \u001b[0mindexes\u001b[0m \u001b[1;32mand\u001b[0m \u001b[1;32mnot\u001b[0m \u001b[0mraw_lengths\u001b[0m\u001b[1;33m:\u001b[0m\u001b[1;33m\u001b[0m\u001b[0m\n\u001b[1;32m-> 5197\u001b[1;33m             raise ValueError('If using all scalar values, you must pass'\n\u001b[0m\u001b[0;32m   5198\u001b[0m                              ' an index')\n\u001b[0;32m   5199\u001b[0m \u001b[1;33m\u001b[0m\u001b[0m\n",
      "\u001b[1;31mValueError\u001b[0m: If using all scalar values, you must pass an index"
     ]
    }
   ],
   "source": [
    "proportions = pandas.DataFrame.from_dict({\"yes\": passed_proportions.loc['yes'],\n",
    "                                          \"no\":passed_proportions.loc['no']})"
   ]
  }
 ],
 "metadata": {},
 "nbformat": 4,
 "nbformat_minor": 0
}
