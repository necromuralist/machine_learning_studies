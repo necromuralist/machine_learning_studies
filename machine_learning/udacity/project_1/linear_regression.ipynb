{
 "cells": [
  {
   "cell_type": "markdown",
   "metadata": {
    "ein.tags": [
     "worksheet-0"
    ]
   },
   "source": [
    "# Linear Regression"
   ]
  },
  {
   "cell_type": "code",
   "execution_count": 41,
   "metadata": {
    "autoscroll": "json-false",
    "collapsed": false,
    "ein.tags": [
     "worksheet-0"
    ]
   },
   "outputs": [],
   "source": [
    "# third-party\n",
    "import matplotlib.pyplot as plot\n",
    "import numpy\n",
    "import seaborn"
   ]
  },
  {
   "cell_type": "code",
   "execution_count": 42,
   "metadata": {
    "autoscroll": "json-false",
    "collapsed": false,
    "ein.tags": [
     "worksheet-0"
    ]
   },
   "outputs": [],
   "source": [
    "%matplotlib inline"
   ]
  },
  {
   "cell_type": "markdown",
   "metadata": {
    "ein.tags": [
     "worksheet-0"
    ]
   },
   "source": [
    "## Problem 1"
   ]
  },
  {
   "cell_type": "markdown",
   "metadata": {
    "ein.tags": [
     "worksheet-0"
    ]
   },
   "source": [
    "First, an example where the values are perfectly linear."
   ]
  },
  {
   "cell_type": "code",
   "execution_count": 45,
   "metadata": {
    "autoscroll": "json-false",
    "collapsed": false,
    "ein.tags": [
     "worksheet-0"
    ]
   },
   "outputs": [],
   "source": [
    "x_1 = numpy.array([3,6,4,5], dtype=float)\n",
    "y_1 = numpy.array([0, -3, -1, -2], dtype=float)"
   ]
  },
  {
   "cell_type": "code",
   "execution_count": 54,
   "metadata": {
    "autoscroll": "json-false",
    "collapsed": false,
    "ein.tags": [
     "worksheet-0"
    ]
   },
   "outputs": [],
   "source": [
    "expected_w_0 = 3\n",
    "expected_w_1 = -1\n",
    "def f(x, w_0, w_1):\n",
    "    return w_0 + w_1 * x\n",
    "assert all(f(x_1, expected_w_0, expected_w_1) == y_1)"
   ]
  },
  {
   "cell_type": "code",
   "execution_count": 32,
   "metadata": {
    "autoscroll": "json-false",
    "collapsed": false,
    "ein.tags": [
     "worksheet-0"
    ]
   },
   "outputs": [],
   "source": [
    "def weight_1(x, y):\n",
    "    m = float(len(x))\n",
    "    return (m * (x * y).sum() - (x.sum() * y.sum()))/(m * (x**2).sum() - x.sum()**2)"
   ]
  },
  {
   "cell_type": "code",
   "execution_count": 47,
   "metadata": {
    "autoscroll": "json-false",
    "collapsed": false,
    "ein.tags": [
     "worksheet-0"
    ]
   },
   "outputs": [],
   "source": [
    "w_1 = weight_1(x_1, y_1)\n",
    "assert w_1 == expected_w_1"
   ]
  },
  {
   "cell_type": "code",
   "execution_count": 37,
   "metadata": {
    "autoscroll": "json-false",
    "collapsed": false,
    "ein.tags": [
     "worksheet-0"
    ]
   },
   "outputs": [],
   "source": [
    "def weight_0(x, y, w_1):\n",
    "    m = float(len(x))\n",
    "    return y.sum()/m - (w_1/m) * x.sum()"
   ]
  },
  {
   "cell_type": "code",
   "execution_count": 48,
   "metadata": {
    "autoscroll": "json-false",
    "collapsed": false,
    "ein.tags": [
     "worksheet-0"
    ]
   },
   "outputs": [],
   "source": [
    "w_0 = weight_0(x_1, y_1, w_1)\n",
    "assert expected_w_0 == w_0, \"Expected: {0} Actual: {1}\".format(expected_w_0,\n",
    "                                                               w_0)"
   ]
  },
  {
   "cell_type": "code",
   "execution_count": 61,
   "metadata": {
    "autoscroll": "json-false",
    "collapsed": false,
    "ein.tags": [
     "worksheet-0"
    ]
   },
   "outputs": [
    {
     "data": {
      "text/plain": [
       "<matplotlib.figure.Figure at 0x7f7faf90e510>"
      ]
     },
     "metadata": {},
     "output_type": "display_data"
    }
   ],
   "source": [
    "figure = plot.figure()\n",
    "axe = figure.gca()\n",
    "exes = numpy.arange(x_1.min(), x_1.max() + 1)\n",
    "line = axe.plot(exes, f(exes, w_0, w_1), color='firebrick')\n",
    "line = axe.scatter(x_1, y_1)"
   ]
  },
  {
   "cell_type": "markdown",
   "metadata": {
    "ein.tags": [
     "worksheet-0"
    ]
   },
   "source": [
    "Given x, y, calculate the weights for a linear regression."
   ]
  },
  {
   "cell_type": "code",
   "execution_count": 62,
   "metadata": {
    "autoscroll": "json-false",
    "collapsed": false,
    "ein.tags": [
     "worksheet-0"
    ]
   },
   "outputs": [],
   "source": [
    "x_2 = numpy.array([2, 4, 6, 8])\n",
    "y_2 = numpy.array([2, 5, 5, 8])\n",
    "\n",
    "w1_2 = weight_1(x_2, y_2)\n",
    "w0_2 = weight_0(x_2, y_2, w1_2)"
   ]
  },
  {
   "cell_type": "code",
   "execution_count": 65,
   "metadata": {
    "autoscroll": "json-false",
    "collapsed": false,
    "ein.tags": [
     "worksheet-0"
    ]
   },
   "outputs": [
    {
     "name": "stdout",
     "output_type": "stream",
     "text": [
      "0.5\n",
      "0.9\n"
     ]
    }
   ],
   "source": [
    "print(w0_2)\n",
    "print(w1_2)"
   ]
  },
  {
   "cell_type": "code",
   "execution_count": 66,
   "metadata": {
    "autoscroll": "json-false",
    "collapsed": false,
    "ein.tags": [
     "worksheet-0"
    ]
   },
   "outputs": [
    {
     "data": {
      "text/plain": [
       "<matplotlib.figure.Figure at 0x7f7fafb14310>"
      ]
     },
     "metadata": {},
     "output_type": "display_data"
    }
   ],
   "source": [
    "figure = plot.figure()\n",
    "axe = figure.gca()\n",
    "exes = numpy.arange(0, x_2.max() + 1)\n",
    "line = axe.plot(exes, f(exes, w0_2, w1_2), color='firebrick')\n",
    "line = axe.scatter(x_2, y_2)"
   ]
  }
 ],
 "metadata": {},
 "nbformat": 4,
 "nbformat_minor": 0
}
