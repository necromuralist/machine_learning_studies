{
 "cells": [
  {
   "cell_type": "markdown",
   "metadata": {
    "ein.tags": [
     "worksheet-0"
    ]
   },
   "source": [
    "# Machine Learning Engineer Nanodegree"
   ]
  },
  {
   "cell_type": "markdown",
   "metadata": {
    "ein.tags": [
     "worksheet-0"
    ]
   },
   "source": [
    "## Introduction and Foundations"
   ]
  },
  {
   "cell_type": "markdown",
   "metadata": {
    "ein.tags": [
     "worksheet-0"
    ]
   },
   "source": [
    "## Project 0: Titanic Survival Exploration"
   ]
  },
  {
   "cell_type": "markdown",
   "metadata": {
    "ein.tags": [
     "worksheet-0"
    ]
   },
   "source": [
    "In 1912, the ship RMS Titanic struck an iceberg on its maiden voyage and sank, resulting in the deaths of most of its passengers and crew. In this introductory project, we will explore a subset of the RMS Titanic passenger manifest to determine which features best predict whether someone survived or did not survive. To complete this project, you will need to implement several conditional predictions and answer the questions below. Your project submission will be evaluated based on the completion of the code and your responses to the questions.\n",
    "> **Tip:** Quoted sections like this will provide helpful instructions on how to navigate and use an iPython notebook. "
   ]
  },
  {
   "cell_type": "markdown",
   "metadata": {
    "ein.tags": [
     "worksheet-0"
    ]
   },
   "source": [
    "# Getting Started"
   ]
  },
  {
   "cell_type": "markdown",
   "metadata": {
    "ein.tags": [
     "worksheet-0"
    ]
   },
   "source": [
    "To begin working with the RMS Titanic passenger data, we'll first need to `import` the functionality we need, and load our data into a `pandas` DataFrame.  \n",
    "Run the code cell below to load our data and display the first few entries (passengers) for examination using the `.head()` function.\n",
    "> **Tip:** You can run a code cell by clicking on the cell and using the keyboard shortcut **Shift + Enter** or **Shift + Return**. Alternatively, a code cell can be executed using the **Play** button in the hotbar after selecting it. Markdown cells (text cells like this one) can be edited by double-clicking, and saved using these same shortcuts. [Markdown](http://daringfireball.net/projects/markdown/syntax) allows you to write easy-to-read plain text that can be converted to HTML."
   ]
  },
  {
   "cell_type": "code",
   "execution_count": 1,
   "metadata": {
    "autoscroll": "json-false",
    "collapsed": false,
    "ein.tags": [
     "worksheet-0"
    ]
   },
   "outputs": [
    {
     "name": "stderr",
     "output_type": "stream",
     "text": [
      "/home/cronos/.virtualenvs/machinelearning/local/lib/python2.7/site-packages/matplotlib/font_manager.py:273: UserWarning: Matplotlib is building the font cache using fc-list. This may take a moment.\n",
      "  warnings.warn('Matplotlib is building the font cache using fc-list. This may take a moment.')\n",
      "Using Theano backend.\n"
     ]
    }
   ],
   "source": [
    "# third-party\n",
    "from matplotlib.pylab import rcParams\n",
    "import matplotlib.pyplot as plot\n",
    "import mpld3\n",
    "import numpy\n",
    "import pandas\n",
    "import seaborn\n",
    "from tabulate import tabulate\n",
    "from fancyimpute import MICE\n",
    "\n",
    "# RMS Titanic data visualization code \n",
    "from titanic_visualizations import survival_stats\n",
    "from IPython.display import display\n"
   ]
  },
  {
   "cell_type": "code",
   "execution_count": 2,
   "metadata": {
    "autoscroll": "json-false",
    "collapsed": false,
    "ein.tags": [
     "worksheet-0"
    ]
   },
   "outputs": [
    {
     "name": "stderr",
     "output_type": "stream",
     "text": [
      "/home/cronos/.virtualenvs/machinelearning/local/lib/python2.7/site-packages/ipykernel/pylab/config.py:66: DeprecationWarning: metadata {'config': True} was set from the constructor.  Metadata should be set using the .tag() method, e.g., Int().tag(key1='value1', key2='value2')\n",
      "  inline backend.\"\"\"\n",
      "/home/cronos/.virtualenvs/machinelearning/local/lib/python2.7/site-packages/ipykernel/pylab/config.py:71: DeprecationWarning: metadata {'config': True} was set from the constructor.  Metadata should be set using the .tag() method, e.g., Int().tag(key1='value1', key2='value2')\n",
      "  'retina', 'jpeg', 'svg', 'pdf'.\"\"\")\n",
      "/home/cronos/.virtualenvs/machinelearning/local/lib/python2.7/site-packages/ipykernel/pylab/config.py:85: DeprecationWarning: metadata {'config': True} was set from the constructor.  Metadata should be set using the .tag() method, e.g., Int().tag(key1='value1', key2='value2')\n",
      "  use `figure_formats` instead)\"\"\")\n",
      "/home/cronos/.virtualenvs/machinelearning/local/lib/python2.7/site-packages/ipykernel/pylab/config.py:95: DeprecationWarning: metadata {'config': True} was set from the constructor.  Metadata should be set using the .tag() method, e.g., Int().tag(key1='value1', key2='value2')\n",
      "  \"\"\"\n",
      "/home/cronos/.virtualenvs/machinelearning/local/lib/python2.7/site-packages/ipykernel/pylab/config.py:114: DeprecationWarning: metadata {'config': True} was set from the constructor.  Metadata should be set using the .tag() method, e.g., Int().tag(key1='value1', key2='value2')\n",
      "  \"\"\")\n",
      "/home/cronos/.virtualenvs/machinelearning/local/lib/python2.7/site-packages/ipykernel/pylab/config.py:44: DeprecationWarning: InlineBackend._config_changed is deprecated: use @observe and @unobserve instead.\n",
      "  def _config_changed(self, name, old, new):\n",
      "/home/cronos/.virtualenvs/machinelearning/local/lib/python2.7/site-packages/traitlets/traitlets.py:770: DeprecationWarning: A parent of InlineBackend._config_changed has adopted the new @observe(change) API\n",
      "  clsname, change_or_name), DeprecationWarning)\n",
      "/home/cronos/.virtualenvs/machinelearning/local/lib/python2.7/site-packages/IPython/core/formatters.py:98: DeprecationWarning: DisplayFormatter._formatters_default is deprecated: use @default decorator instead.\n",
      "  def _formatters_default(self):\n",
      "/home/cronos/.virtualenvs/machinelearning/local/lib/python2.7/site-packages/IPython/core/formatters.py:677: DeprecationWarning: PlainTextFormatter._deferred_printers_default is deprecated: use @default decorator instead.\n",
      "  def _deferred_printers_default(self):\n",
      "/home/cronos/.virtualenvs/machinelearning/local/lib/python2.7/site-packages/IPython/core/formatters.py:669: DeprecationWarning: PlainTextFormatter._singleton_printers_default is deprecated: use @default decorator instead.\n",
      "  def _singleton_printers_default(self):\n",
      "/home/cronos/.virtualenvs/machinelearning/local/lib/python2.7/site-packages/IPython/core/formatters.py:672: DeprecationWarning: PlainTextFormatter._type_printers_default is deprecated: use @default decorator instead.\n",
      "  def _type_printers_default(self):\n",
      "/home/cronos/.virtualenvs/machinelearning/local/lib/python2.7/site-packages/IPython/core/formatters.py:672: DeprecationWarning: PlainTextFormatter._type_printers_default is deprecated: use @default decorator instead.\n",
      "  def _type_printers_default(self):\n",
      "/home/cronos/.virtualenvs/machinelearning/local/lib/python2.7/site-packages/IPython/core/formatters.py:677: DeprecationWarning: PlainTextFormatter._deferred_printers_default is deprecated: use @default decorator instead.\n",
      "  def _deferred_printers_default(self):\n"
     ]
    }
   ],
   "source": [
    "%matplotlib inline\n",
    "FIGURE_WIDTH, FIGURE_HEIGHT = 10, 8\n",
    "rcParams['figure.figsize'] = FIGURE_WIDTH, FIGURE_HEIGHT\n",
    "rcParams['axes.titlesize'] = 18\n",
    "rcParams['axes.labelsize'] = 18\n",
    "seaborn.set_style('whitegrid')\n",
    "\n",
    "mpld3.enable_notebook()"
   ]
  },
  {
   "cell_type": "code",
   "execution_count": 3,
   "metadata": {
    "autoscroll": "json-false",
    "collapsed": false,
    "ein.tags": [
     "worksheet-0"
    ]
   },
   "outputs": [
    {
     "name": "stderr",
     "output_type": "stream",
     "text": [
      "/home/cronos/.virtualenvs/machinelearning/local/lib/python2.7/site-packages/IPython/core/formatters.py:92: DeprecationWarning: DisplayFormatter._ipython_display_formatter_default is deprecated: use @default decorator instead.\n",
      "  def _ipython_display_formatter_default(self):\n",
      "/home/cronos/.virtualenvs/machinelearning/local/lib/python2.7/site-packages/IPython/core/formatters.py:669: DeprecationWarning: PlainTextFormatter._singleton_printers_default is deprecated: use @default decorator instead.\n",
      "  def _singleton_printers_default(self):\n"
     ]
    },
    {
     "data": {
      "text/html": [
       "<div>\n",
       "<table border=\"1\" class=\"dataframe\">\n",
       "  <thead>\n",
       "    <tr style=\"text-align: right;\">\n",
       "      <th></th>\n",
       "      <th>PassengerId</th>\n",
       "      <th>Survived</th>\n",
       "      <th>Pclass</th>\n",
       "      <th>Name</th>\n",
       "      <th>Sex</th>\n",
       "      <th>Age</th>\n",
       "      <th>SibSp</th>\n",
       "      <th>Parch</th>\n",
       "      <th>Ticket</th>\n",
       "      <th>Fare</th>\n",
       "      <th>Cabin</th>\n",
       "      <th>Embarked</th>\n",
       "    </tr>\n",
       "  </thead>\n",
       "  <tbody>\n",
       "    <tr>\n",
       "      <th>0</th>\n",
       "      <td>1</td>\n",
       "      <td>0</td>\n",
       "      <td>3</td>\n",
       "      <td>Braund, Mr. Owen Harris</td>\n",
       "      <td>male</td>\n",
       "      <td>22</td>\n",
       "      <td>1</td>\n",
       "      <td>0</td>\n",
       "      <td>A/5 21171</td>\n",
       "      <td>7.2500</td>\n",
       "      <td>NaN</td>\n",
       "      <td>S</td>\n",
       "    </tr>\n",
       "    <tr>\n",
       "      <th>1</th>\n",
       "      <td>2</td>\n",
       "      <td>1</td>\n",
       "      <td>1</td>\n",
       "      <td>Cumings, Mrs. John Bradley (Florence Briggs Th...</td>\n",
       "      <td>female</td>\n",
       "      <td>38</td>\n",
       "      <td>1</td>\n",
       "      <td>0</td>\n",
       "      <td>PC 17599</td>\n",
       "      <td>71.2833</td>\n",
       "      <td>C85</td>\n",
       "      <td>C</td>\n",
       "    </tr>\n",
       "    <tr>\n",
       "      <th>2</th>\n",
       "      <td>3</td>\n",
       "      <td>1</td>\n",
       "      <td>3</td>\n",
       "      <td>Heikkinen, Miss. Laina</td>\n",
       "      <td>female</td>\n",
       "      <td>26</td>\n",
       "      <td>0</td>\n",
       "      <td>0</td>\n",
       "      <td>STON/O2. 3101282</td>\n",
       "      <td>7.9250</td>\n",
       "      <td>NaN</td>\n",
       "      <td>S</td>\n",
       "    </tr>\n",
       "    <tr>\n",
       "      <th>3</th>\n",
       "      <td>4</td>\n",
       "      <td>1</td>\n",
       "      <td>1</td>\n",
       "      <td>Futrelle, Mrs. Jacques Heath (Lily May Peel)</td>\n",
       "      <td>female</td>\n",
       "      <td>35</td>\n",
       "      <td>1</td>\n",
       "      <td>0</td>\n",
       "      <td>113803</td>\n",
       "      <td>53.1000</td>\n",
       "      <td>C123</td>\n",
       "      <td>S</td>\n",
       "    </tr>\n",
       "    <tr>\n",
       "      <th>4</th>\n",
       "      <td>5</td>\n",
       "      <td>0</td>\n",
       "      <td>3</td>\n",
       "      <td>Allen, Mr. William Henry</td>\n",
       "      <td>male</td>\n",
       "      <td>35</td>\n",
       "      <td>0</td>\n",
       "      <td>0</td>\n",
       "      <td>373450</td>\n",
       "      <td>8.0500</td>\n",
       "      <td>NaN</td>\n",
       "      <td>S</td>\n",
       "    </tr>\n",
       "  </tbody>\n",
       "</table>\n",
       "</div>"
      ],
      "text/plain": [
       "   PassengerId  Survived  Pclass  \\\n",
       "0            1         0       3   \n",
       "1            2         1       1   \n",
       "2            3         1       3   \n",
       "3            4         1       1   \n",
       "4            5         0       3   \n",
       "\n",
       "                                                Name     Sex  Age  SibSp  \\\n",
       "0                            Braund, Mr. Owen Harris    male   22      1   \n",
       "1  Cumings, Mrs. John Bradley (Florence Briggs Th...  female   38      1   \n",
       "2                             Heikkinen, Miss. Laina  female   26      0   \n",
       "3       Futrelle, Mrs. Jacques Heath (Lily May Peel)  female   35      1   \n",
       "4                           Allen, Mr. William Henry    male   35      0   \n",
       "\n",
       "   Parch            Ticket     Fare Cabin Embarked  \n",
       "0      0         A/5 21171   7.2500   NaN        S  \n",
       "1      0          PC 17599  71.2833   C85        C  \n",
       "2      0  STON/O2. 3101282   7.9250   NaN        S  \n",
       "3      0            113803  53.1000  C123        S  \n",
       "4      0            373450   8.0500   NaN        S  "
      ]
     },
     "metadata": {},
     "output_type": "display_data"
    }
   ],
   "source": [
    "# Load the dataset\n",
    "in_file = 'titanic_data.csv'\n",
    "full_data = pandas.read_csv(in_file)\n",
    "\n",
    "# Print the first few entries of the RMS Titanic data\n",
    "display(full_data.head())"
   ]
  },
  {
   "cell_type": "markdown",
   "metadata": {
    "ein.tags": [
     "worksheet-0"
    ]
   },
   "source": [
    "From a sample of the RMS Titanic data, we can see the various features present for each passenger on the ship:\n",
    "- **Survived**: Outcome of survival (0 = No; 1 = Yes)\n",
    "- **Pclass**: Socio-economic class (1 = Upper class; 2 = Middle class; 3 = Lower class)\n",
    "- **Name**: Name of passenger\n",
    "- **Sex**: Sex of the passenger\n",
    "- **Age**: Age of the passenger (Some entries contain `NaN`)\n",
    "- **SibSp**: Number of siblings and spouses of the passenger aboard\n",
    "- **Parch**: Number of parents and children of the passenger aboard\n",
    "- **Ticket**: Ticket number of the passenger\n",
    "- **Fare**: Fare paid by the passenger\n",
    "- **Cabin** Cabin number of the passenger (Some entries contain `NaN`)\n",
    "- **Embarked**: Port of embarkation of the passenger (C = Cherbourg; Q = Queenstown; S = Southampton)\n",
    "\n",
    "Since we're interested in the outcome of survival for each passenger or crew member, we can remove the **Survived** feature from this dataset and store it as its own separate variable `outcomes`. We will use these outcomes as our prediction targets.  \n",
    "Run the code block cell to remove **Survived** as a feature of the dataset and store it in `outcomes`."
   ]
  },
  {
   "cell_type": "code",
   "execution_count": 4,
   "metadata": {
    "autoscroll": "json-false",
    "collapsed": false,
    "ein.tags": [
     "worksheet-0"
    ]
   },
   "outputs": [
    {
     "data": {
      "text/html": [
       "<div>\n",
       "<table border=\"1\" class=\"dataframe\">\n",
       "  <thead>\n",
       "    <tr style=\"text-align: right;\">\n",
       "      <th></th>\n",
       "      <th>PassengerId</th>\n",
       "      <th>Pclass</th>\n",
       "      <th>Name</th>\n",
       "      <th>Sex</th>\n",
       "      <th>Age</th>\n",
       "      <th>SibSp</th>\n",
       "      <th>Parch</th>\n",
       "      <th>Ticket</th>\n",
       "      <th>Fare</th>\n",
       "      <th>Cabin</th>\n",
       "      <th>Embarked</th>\n",
       "    </tr>\n",
       "  </thead>\n",
       "  <tbody>\n",
       "    <tr>\n",
       "      <th>0</th>\n",
       "      <td>1</td>\n",
       "      <td>3</td>\n",
       "      <td>Braund, Mr. Owen Harris</td>\n",
       "      <td>male</td>\n",
       "      <td>22</td>\n",
       "      <td>1</td>\n",
       "      <td>0</td>\n",
       "      <td>A/5 21171</td>\n",
       "      <td>7.2500</td>\n",
       "      <td>NaN</td>\n",
       "      <td>S</td>\n",
       "    </tr>\n",
       "    <tr>\n",
       "      <th>1</th>\n",
       "      <td>2</td>\n",
       "      <td>1</td>\n",
       "      <td>Cumings, Mrs. John Bradley (Florence Briggs Th...</td>\n",
       "      <td>female</td>\n",
       "      <td>38</td>\n",
       "      <td>1</td>\n",
       "      <td>0</td>\n",
       "      <td>PC 17599</td>\n",
       "      <td>71.2833</td>\n",
       "      <td>C85</td>\n",
       "      <td>C</td>\n",
       "    </tr>\n",
       "    <tr>\n",
       "      <th>2</th>\n",
       "      <td>3</td>\n",
       "      <td>3</td>\n",
       "      <td>Heikkinen, Miss. Laina</td>\n",
       "      <td>female</td>\n",
       "      <td>26</td>\n",
       "      <td>0</td>\n",
       "      <td>0</td>\n",
       "      <td>STON/O2. 3101282</td>\n",
       "      <td>7.9250</td>\n",
       "      <td>NaN</td>\n",
       "      <td>S</td>\n",
       "    </tr>\n",
       "    <tr>\n",
       "      <th>3</th>\n",
       "      <td>4</td>\n",
       "      <td>1</td>\n",
       "      <td>Futrelle, Mrs. Jacques Heath (Lily May Peel)</td>\n",
       "      <td>female</td>\n",
       "      <td>35</td>\n",
       "      <td>1</td>\n",
       "      <td>0</td>\n",
       "      <td>113803</td>\n",
       "      <td>53.1000</td>\n",
       "      <td>C123</td>\n",
       "      <td>S</td>\n",
       "    </tr>\n",
       "    <tr>\n",
       "      <th>4</th>\n",
       "      <td>5</td>\n",
       "      <td>3</td>\n",
       "      <td>Allen, Mr. William Henry</td>\n",
       "      <td>male</td>\n",
       "      <td>35</td>\n",
       "      <td>0</td>\n",
       "      <td>0</td>\n",
       "      <td>373450</td>\n",
       "      <td>8.0500</td>\n",
       "      <td>NaN</td>\n",
       "      <td>S</td>\n",
       "    </tr>\n",
       "  </tbody>\n",
       "</table>\n",
       "</div>"
      ],
      "text/plain": [
       "   PassengerId  Pclass                                               Name  \\\n",
       "0            1       3                            Braund, Mr. Owen Harris   \n",
       "1            2       1  Cumings, Mrs. John Bradley (Florence Briggs Th...   \n",
       "2            3       3                             Heikkinen, Miss. Laina   \n",
       "3            4       1       Futrelle, Mrs. Jacques Heath (Lily May Peel)   \n",
       "4            5       3                           Allen, Mr. William Henry   \n",
       "\n",
       "      Sex  Age  SibSp  Parch            Ticket     Fare Cabin Embarked  \n",
       "0    male   22      1      0         A/5 21171   7.2500   NaN        S  \n",
       "1  female   38      1      0          PC 17599  71.2833   C85        C  \n",
       "2  female   26      0      0  STON/O2. 3101282   7.9250   NaN        S  \n",
       "3  female   35      1      0            113803  53.1000  C123        S  \n",
       "4    male   35      0      0            373450   8.0500   NaN        S  "
      ]
     },
     "metadata": {},
     "output_type": "display_data"
    }
   ],
   "source": [
    "# Store the 'Survived' feature in a new variable and remove it from the dataset\n",
    "if 'Survived' in full_data.columns:\n",
    "    outcomes = full_data['Survived']\n",
    "    data = full_data.drop('Survived', axis = 1)\n",
    "\n",
    "# Show the new dataset with 'Survived' removed\n",
    "display(data.head())"
   ]
  },
  {
   "cell_type": "markdown",
   "metadata": {
    "ein.tags": [
     "worksheet-0"
    ]
   },
   "source": [
    "The very same sample of the RMS Titanic data now shows the **Survived** feature removed from the DataFrame. Note that `data` (the passenger data) and `outcomes` (the outcomes of survival) are now *paired*. That means for any passenger `data.loc[i]`, they have the survival outcome `outcome[i]`.\n",
    "\n",
    "To measure the performance of our predictions, we need a metric to score our predictions against the true outcomes of survival. Since we are interested in how *accurate* our predictions are, we will calculate the proportion of passengers where our prediction of their survival is correct. Run the code cell below to create our `accuracy_score` function and test a prediction on the first five passengers.  \n",
    "\n",
    "**Think:** *Out of the first five passengers, if we predict that all of them survived, what would you expect the accuracy of our predictions to be?*"
   ]
  },
  {
   "cell_type": "code",
   "execution_count": 5,
   "metadata": {
    "autoscroll": "json-false",
    "collapsed": false,
    "ein.tags": [
     "worksheet-0"
    ]
   },
   "outputs": [
    {
     "name": "stdout",
     "output_type": "stream",
     "text": [
      "Accuracy predicting first five passengers survive: 60.00%\n"
     ]
    }
   ],
   "source": [
    "print(\"Accuracy predicting first five passengers survive: {0:.2f}%\").format(outcomes[:5].mean() * 100)"
   ]
  },
  {
   "cell_type": "code",
   "execution_count": 6,
   "metadata": {
    "autoscroll": "json-false",
    "collapsed": false,
    "ein.tags": [
     "worksheet-0"
    ]
   },
   "outputs": [
    {
     "name": "stdout",
     "output_type": "stream",
     "text": [
      "Predictions have an accuracy of 60.00%.\n"
     ]
    }
   ],
   "source": [
    "def accuracy_score(truth, pred):\n",
    "    \"\"\" Returns accuracy score for input truth and predictions. \"\"\"\n",
    "    \n",
    "    # Ensure that the number of predictions matches number of outcomes\n",
    "    if len(truth) == len(pred): \n",
    "        \n",
    "        # Calculate and return the accuracy as a percent\n",
    "        return \"Predictions have an accuracy of {:.2f}%.\".format((truth == pred).mean()*100)\n",
    "    \n",
    "    else:\n",
    "        return \"Number of predictions does not match number of outcomes!\"\n",
    "    \n",
    "# Test the 'accuracy_score' function\n",
    "predictions = pandas.Series(numpy.ones(5, dtype = int))\n",
    "print accuracy_score(predictions, outcomes[:5])"
   ]
  },
  {
   "cell_type": "markdown",
   "metadata": {
    "ein.tags": [
     "worksheet-0"
    ]
   },
   "source": [
    "> **Tip:** If you save an iPython Notebook, the output from running code blocks will also be saved. However, the state of your workspace will be reset once a new session is started. Make sure that you run all of the code blocks from your previous session to reestablish variables and functions before picking up where you last left off.\n"
   ]
  },
  {
   "cell_type": "markdown",
   "metadata": {
    "ein.tags": [
     "worksheet-0"
    ]
   },
   "source": [
    "# Making Predictions"
   ]
  },
  {
   "cell_type": "markdown",
   "metadata": {
    "ein.tags": [
     "worksheet-0"
    ]
   },
   "source": [
    "If we were told to make a prediction about any passenger aboard the RMS Titanic who we did not know anything about, then the best prediction we could make would be that they did not survive. This is because we can assume that a majority of the passengers as a whole did not survive the ship sinking.  \n",
    "The function below will always predict that a passenger did not survive."
   ]
  },
  {
   "cell_type": "code",
   "execution_count": 7,
   "metadata": {
    "autoscroll": "json-false",
    "collapsed": false,
    "ein.tags": [
     "worksheet-0"
    ]
   },
   "outputs": [],
   "source": [
    "def print_table_proportions(data, column, tablefmt='rst'):\n",
    "    rates = data[column].value_counts(normalize=True)\n",
    "    print(tabulate({column: rates.index,\n",
    "                    'proportion': rates.values},\n",
    "                   headers='keys',\n",
    "                   tablefmt=tablefmt))\n",
    "    return rates"
   ]
  },
  {
   "cell_type": "code",
   "execution_count": 8,
   "metadata": {
    "autoscroll": "json-false",
    "collapsed": false,
    "ein.tags": [
     "worksheet-0"
    ]
   },
   "outputs": [
    {
     "name": "stdout",
     "output_type": "stream",
     "text": [
      "===============  ============\n",
      "lived_or_died      proportion\n",
      "===============  ============\n",
      "died                 0.616162\n",
      "lived                0.383838\n",
      "===============  ============\n"
     ]
    }
   ],
   "source": [
    "full_data['lived_or_died'] = full_data.Survived.map({0: 'died', 1: 'lived'})\n",
    "survival_rates = print_table_proportions(full_data, 'lived_or_died')\n"
   ]
  },
  {
   "cell_type": "code",
   "execution_count": 9,
   "metadata": {
    "autoscroll": "json-false",
    "collapsed": false,
    "ein.tags": [
     "worksheet-0"
    ]
   },
   "outputs": [
    {
     "data": {
      "image/png": "[encoded data removed]",
      "text/html": [
       "\n",
       "\n",
       "<style>\n",
       "\n",
       "</style>\n",
       "\n",
       "<div id=\"fig_el119691401799502052644042610409\"></div>\n",
       "<script>\n",
       "function mpld3_load_lib(url, callback){\n",
       "  var s = document.createElement('script');\n",
       "  s.src = url;\n",
       "  s.async = true;\n",
       "  s.onreadystatechange = s.onload = callback;\n",
       "  s.onerror = function(){console.warn(\"failed to load library \" + url);};\n",
       "  document.getElementsByTagName(\"head\")[0].appendChild(s);\n",
       "}\n",
       "\n",
       "if(typeof(mpld3) !== \"undefined\" && mpld3._mpld3IsLoaded){\n",
       "   // already loaded: just create the figure\n",
       "   !function(mpld3){\n",
       "       \n",
       "       mpld3.draw_figure(\"fig_el119691401799502052644042610409\", {\"axes\": [{\"xlim\": [-0.5, 1.5], \"yscale\": \"linear\", \"axesbg\": \"#FFFFFF\", \"texts\": [{\"v_baseline\": \"auto\", \"h_anchor\": \"middle\", \"color\": \"#262626\", \"text\": \"Survival vs Casualty Proportions\", \"coordinates\": \"axes\", \"zorder\": 3, \"alpha\": 1, \"fontsize\": 18.0, \"position\": [0.5, 1.0112007168458781], \"rotation\": -0.0, \"id\": \"el11969140179946544080\"}], \"zoomable\": true, \"images\": [], \"xdomain\": [-0.5, 1.5], \"ylim\": [0.0, 0.70000000000000007], \"paths\": [{\"edgecolor\": \"#000000\", \"facecolor\": \"#5874A3\", \"edgewidth\": 0.3, \"pathcodes\": [\"M\", \"L\", \"L\", \"L\", \"Z\"], \"yindex\": 1, \"coordinates\": \"data\", \"dasharray\": \"10,0\", \"zorder\": 1, \"alpha\": 1, \"xindex\": 0, \"data\": \"data03\", \"id\": \"el11969140179946776464\"}, {\"edgecolor\": \"#000000\", \"facecolor\": \"#5F9D6D\", \"edgewidth\": 0.3, \"pathcodes\": [\"M\", \"L\", \"L\", \"L\", \"Z\"], \"yindex\": 1, \"coordinates\": \"data\", \"dasharray\": \"10,0\", \"zorder\": 1, \"alpha\": 1, \"xindex\": 0, \"data\": \"data04\", \"id\": \"el11969140179946778064\"}], \"sharey\": [], \"sharex\": [], \"axesbgalpha\": null, \"axes\": [{\"scale\": \"linear\", \"tickformat\": null, \"grid\": {\"gridOn\": false}, \"fontsize\": 10.0, \"position\": \"bottom\", \"nticks\": 2, \"tickvalues\": [0, 1]}, {\"scale\": \"linear\", \"tickformat\": null, \"grid\": {\"color\": \"#CCCCCC\", \"alpha\": 1.0, \"dasharray\": \"10,0\", \"gridOn\": true}, \"fontsize\": 10.0, \"position\": \"left\", \"nticks\": 9, \"tickvalues\": null}], \"lines\": [{\"color\": \"#424242\", \"yindex\": 1, \"coordinates\": \"data\", \"dasharray\": \"10,0\", \"zorder\": 2, \"alpha\": 1, \"xindex\": 0, \"linewidth\": 3.15, \"data\": \"data01\", \"id\": \"el11969140179946776080\"}, {\"color\": \"#424242\", \"yindex\": 1, \"coordinates\": \"data\", \"dasharray\": \"10,0\", \"zorder\": 2, \"alpha\": 1, \"xindex\": 0, \"linewidth\": 3.15, \"data\": \"data02\", \"id\": \"el11969140179946776336\"}], \"markers\": [], \"id\": \"el11969140179947575056\", \"ydomain\": [0.0, 0.70000000000000007], \"collections\": [], \"xscale\": \"linear\", \"bbox\": [0.125, 0.125, 0.77500000000000002, 0.77500000000000002]}], \"height\": 640.0, \"width\": 800.0, \"plugins\": [{\"type\": \"reset\"}, {\"enabled\": false, \"button\": true, \"type\": \"zoom\"}, {\"enabled\": false, \"button\": true, \"type\": \"boxzoom\"}], \"data\": {\"data04\": [[0.6, 0.0], [1.4, 0.0], [1.4, 0.3838383838383838], [0.6, 0.3838383838383838]], \"data02\": [[1.0, NaN], [1.0, NaN]], \"data03\": [[-0.4, 0.0], [0.4, 0.0], [0.4, 0.6161616161616161], [-0.4, 0.6161616161616161]], \"data01\": [[0.0, NaN], [0.0, NaN]]}, \"id\": \"el11969140179950205264\"});\n",
       "   }(mpld3);\n",
       "}else if(typeof define === \"function\" && define.amd){\n",
       "   // require.js is available: use it to load d3/mpld3\n",
       "   require.config({paths: {d3: \"https://mpld3.github.io/js/d3.v3.min\"}});\n",
       "   require([\"d3\"], function(d3){\n",
       "      window.d3 = d3;\n",
       "      mpld3_load_lib(\"https://mpld3.github.io/js/mpld3.v0.2.js\", function(){\n",
       "         \n",
       "         mpld3.draw_figure(\"fig_el119691401799502052644042610409\", {\"axes\": [{\"xlim\": [-0.5, 1.5], \"yscale\": \"linear\", \"axesbg\": \"#FFFFFF\", \"texts\": [{\"v_baseline\": \"auto\", \"h_anchor\": \"middle\", \"color\": \"#262626\", \"text\": \"Survival vs Casualty Proportions\", \"coordinates\": \"axes\", \"zorder\": 3, \"alpha\": 1, \"fontsize\": 18.0, \"position\": [0.5, 1.0112007168458781], \"rotation\": -0.0, \"id\": \"el11969140179946544080\"}], \"zoomable\": true, \"images\": [], \"xdomain\": [-0.5, 1.5], \"ylim\": [0.0, 0.70000000000000007], \"paths\": [{\"edgecolor\": \"#000000\", \"facecolor\": \"#5874A3\", \"edgewidth\": 0.3, \"pathcodes\": [\"M\", \"L\", \"L\", \"L\", \"Z\"], \"yindex\": 1, \"coordinates\": \"data\", \"dasharray\": \"10,0\", \"zorder\": 1, \"alpha\": 1, \"xindex\": 0, \"data\": \"data03\", \"id\": \"el11969140179946776464\"}, {\"edgecolor\": \"#000000\", \"facecolor\": \"#5F9D6D\", \"edgewidth\": 0.3, \"pathcodes\": [\"M\", \"L\", \"L\", \"L\", \"Z\"], \"yindex\": 1, \"coordinates\": \"data\", \"dasharray\": \"10,0\", \"zorder\": 1, \"alpha\": 1, \"xindex\": 0, \"data\": \"data04\", \"id\": \"el11969140179946778064\"}], \"sharey\": [], \"sharex\": [], \"axesbgalpha\": null, \"axes\": [{\"scale\": \"linear\", \"tickformat\": null, \"grid\": {\"gridOn\": false}, \"fontsize\": 10.0, \"position\": \"bottom\", \"nticks\": 2, \"tickvalues\": [0, 1]}, {\"scale\": \"linear\", \"tickformat\": null, \"grid\": {\"color\": \"#CCCCCC\", \"alpha\": 1.0, \"dasharray\": \"10,0\", \"gridOn\": true}, \"fontsize\": 10.0, \"position\": \"left\", \"nticks\": 9, \"tickvalues\": null}], \"lines\": [{\"color\": \"#424242\", \"yindex\": 1, \"coordinates\": \"data\", \"dasharray\": \"10,0\", \"zorder\": 2, \"alpha\": 1, \"xindex\": 0, \"linewidth\": 3.15, \"data\": \"data01\", \"id\": \"el11969140179946776080\"}, {\"color\": \"#424242\", \"yindex\": 1, \"coordinates\": \"data\", \"dasharray\": \"10,0\", \"zorder\": 2, \"alpha\": 1, \"xindex\": 0, \"linewidth\": 3.15, \"data\": \"data02\", \"id\": \"el11969140179946776336\"}], \"markers\": [], \"id\": \"el11969140179947575056\", \"ydomain\": [0.0, 0.70000000000000007], \"collections\": [], \"xscale\": \"linear\", \"bbox\": [0.125, 0.125, 0.77500000000000002, 0.77500000000000002]}], \"height\": 640.0, \"width\": 800.0, \"plugins\": [{\"type\": \"reset\"}, {\"enabled\": false, \"button\": true, \"type\": \"zoom\"}, {\"enabled\": false, \"button\": true, \"type\": \"boxzoom\"}], \"data\": {\"data04\": [[0.6, 0.0], [1.4, 0.0], [1.4, 0.3838383838383838], [0.6, 0.3838383838383838]], \"data02\": [[1.0, NaN], [1.0, NaN]], \"data03\": [[-0.4, 0.0], [0.4, 0.0], [0.4, 0.6161616161616161], [-0.4, 0.6161616161616161]], \"data01\": [[0.0, NaN], [0.0, NaN]]}, \"id\": \"el11969140179950205264\"});\n",
       "      });\n",
       "    });\n",
       "}else{\n",
       "    // require.js not available: dynamically load d3 & mpld3\n",
       "    mpld3_load_lib(\"https://mpld3.github.io/js/d3.v3.min.js\", function(){\n",
       "         mpld3_load_lib(\"https://mpld3.github.io/js/mpld3.v0.2.js\", function(){\n",
       "                 \n",
       "                 mpld3.draw_figure(\"fig_el119691401799502052644042610409\", {\"axes\": [{\"xlim\": [-0.5, 1.5], \"yscale\": \"linear\", \"axesbg\": \"#FFFFFF\", \"texts\": [{\"v_baseline\": \"auto\", \"h_anchor\": \"middle\", \"color\": \"#262626\", \"text\": \"Survival vs Casualty Proportions\", \"coordinates\": \"axes\", \"zorder\": 3, \"alpha\": 1, \"fontsize\": 18.0, \"position\": [0.5, 1.0112007168458781], \"rotation\": -0.0, \"id\": \"el11969140179946544080\"}], \"zoomable\": true, \"images\": [], \"xdomain\": [-0.5, 1.5], \"ylim\": [0.0, 0.70000000000000007], \"paths\": [{\"edgecolor\": \"#000000\", \"facecolor\": \"#5874A3\", \"edgewidth\": 0.3, \"pathcodes\": [\"M\", \"L\", \"L\", \"L\", \"Z\"], \"yindex\": 1, \"coordinates\": \"data\", \"dasharray\": \"10,0\", \"zorder\": 1, \"alpha\": 1, \"xindex\": 0, \"data\": \"data03\", \"id\": \"el11969140179946776464\"}, {\"edgecolor\": \"#000000\", \"facecolor\": \"#5F9D6D\", \"edgewidth\": 0.3, \"pathcodes\": [\"M\", \"L\", \"L\", \"L\", \"Z\"], \"yindex\": 1, \"coordinates\": \"data\", \"dasharray\": \"10,0\", \"zorder\": 1, \"alpha\": 1, \"xindex\": 0, \"data\": \"data04\", \"id\": \"el11969140179946778064\"}], \"sharey\": [], \"sharex\": [], \"axesbgalpha\": null, \"axes\": [{\"scale\": \"linear\", \"tickformat\": null, \"grid\": {\"gridOn\": false}, \"fontsize\": 10.0, \"position\": \"bottom\", \"nticks\": 2, \"tickvalues\": [0, 1]}, {\"scale\": \"linear\", \"tickformat\": null, \"grid\": {\"color\": \"#CCCCCC\", \"alpha\": 1.0, \"dasharray\": \"10,0\", \"gridOn\": true}, \"fontsize\": 10.0, \"position\": \"left\", \"nticks\": 9, \"tickvalues\": null}], \"lines\": [{\"color\": \"#424242\", \"yindex\": 1, \"coordinates\": \"data\", \"dasharray\": \"10,0\", \"zorder\": 2, \"alpha\": 1, \"xindex\": 0, \"linewidth\": 3.15, \"data\": \"data01\", \"id\": \"el11969140179946776080\"}, {\"color\": \"#424242\", \"yindex\": 1, \"coordinates\": \"data\", \"dasharray\": \"10,0\", \"zorder\": 2, \"alpha\": 1, \"xindex\": 0, \"linewidth\": 3.15, \"data\": \"data02\", \"id\": \"el11969140179946776336\"}], \"markers\": [], \"id\": \"el11969140179947575056\", \"ydomain\": [0.0, 0.70000000000000007], \"collections\": [], \"xscale\": \"linear\", \"bbox\": [0.125, 0.125, 0.77500000000000002, 0.77500000000000002]}], \"height\": 640.0, \"width\": 800.0, \"plugins\": [{\"type\": \"reset\"}, {\"enabled\": false, \"button\": true, \"type\": \"zoom\"}, {\"enabled\": false, \"button\": true, \"type\": \"boxzoom\"}], \"data\": {\"data04\": [[0.6, 0.0], [1.4, 0.0], [1.4, 0.3838383838383838], [0.6, 0.3838383838383838]], \"data02\": [[1.0, NaN], [1.0, NaN]], \"data03\": [[-0.4, 0.0], [0.4, 0.0], [0.4, 0.6161616161616161], [-0.4, 0.6161616161616161]], \"data01\": [[0.0, NaN], [0.0, NaN]]}, \"id\": \"el11969140179950205264\"});\n",
       "            })\n",
       "         });\n",
       "}\n",
       "</script>"
      ],
      "text/plain": [
       "<matplotlib.figure.Figure at 0x7f7e3022f950>"
      ]
     },
     "metadata": {},
     "output_type": "display_data"
    }
   ],
   "source": [
    "axe = seaborn.barplot(x=survival_rates.index, y=survival_rates.values)\n",
    "title = axe.set_title(\"Survival vs Casualty Proportions\")"
   ]
  },
  {
   "cell_type": "code",
   "execution_count": 10,
   "metadata": {
    "autoscroll": "json-false",
    "collapsed": false,
    "ein.tags": [
     "worksheet-0"
    ]
   },
   "outputs": [],
   "source": [
    "def predict_all_die(data):\n",
    "    \"\"\" Model with no features. Always predicts a passenger did not survive. \"\"\"\n",
    "    return pandas.Series(numpy.zeros(len(data['PassengerId'])))\n",
    "\n",
    "# Make the predictions\n",
    "predictions_all_died = predict_all_die(data)"
   ]
  },
  {
   "cell_type": "markdown",
   "metadata": {
    "ein.tags": [
     "worksheet-0"
    ]
   },
   "source": [
    "### Question 1"
   ]
  },
  {
   "cell_type": "markdown",
   "metadata": {
    "ein.tags": [
     "worksheet-0"
    ]
   },
   "source": [
    "*Using the RMS Titanic data, how accurate would a prediction be that none of the passengers survived?*  \n",
    "**Hint:** Run the code cell below to see the accuracy of this prediction."
   ]
  },
  {
   "cell_type": "code",
   "execution_count": 11,
   "metadata": {
    "autoscroll": "json-false",
    "collapsed": false,
    "ein.tags": [
     "worksheet-0"
    ]
   },
   "outputs": [
    {
     "name": "stdout",
     "output_type": "stream",
     "text": [
      "Predictions have an accuracy of 61.62%.\n"
     ]
    }
   ],
   "source": [
    "print accuracy_score(outcomes, predictions_all_died)"
   ]
  },
  {
   "cell_type": "markdown",
   "metadata": {
    "ein.tags": [
     "worksheet-0"
    ]
   },
   "source": [
    "**Answer:** Replace this text with the prediction accuracy you found above."
   ]
  },
  {
   "cell_type": "markdown",
   "metadata": {
    "ein.tags": [
     "worksheet-0"
    ]
   },
   "source": [
    "Let's take a look at whether the feature **Sex** has any indication of survival rates among passengers using the `survival_stats` function. This function is defined in the `titanic_visualizations.py` Python script included with this project. The first two parameters passed to the function are the RMS Titanic data and passenger survival outcomes, respectively. The third parameter indicates which feature we want to plot survival statistics across.  \n",
    "Run the code cell below to plot the survival outcomes of passengers based on their sex."
   ]
  },
  {
   "cell_type": "code",
   "execution_count": 12,
   "metadata": {
    "autoscroll": "json-false",
    "collapsed": false,
    "ein.tags": [
     "worksheet-0"
    ]
   },
   "outputs": [],
   "source": [
    "females = full_data[full_data.Sex=='female']\n",
    "males = full_data[full_data.Sex=='male']"
   ]
  },
  {
   "cell_type": "code",
   "execution_count": 13,
   "metadata": {
    "autoscroll": "json-false",
    "collapsed": false,
    "ein.tags": [
     "worksheet-0"
    ]
   },
   "outputs": [
    {
     "name": "stdout",
     "output_type": "stream",
     "text": [
      "============  ======\n",
      "  proportion  Sex\n",
      "============  ======\n",
      "    0.647587  male\n",
      "    0.352413  female\n",
      "============  ======\n"
     ]
    }
   ],
   "source": [
    "sex_proportions = print_table_proportions(full_data, 'Sex')"
   ]
  },
  {
   "cell_type": "code",
   "execution_count": 14,
   "metadata": {
    "autoscroll": "json-false",
    "collapsed": false,
    "ein.tags": [
     "worksheet-0"
    ]
   },
   "outputs": [
    {
     "data": {
      "image/png": "[encoded data removed]",
      "text/html": [
       "\n",
       "\n",
       "<style>\n",
       "\n",
       "</style>\n",
       "\n",
       "<div id=\"fig_el119691401799469859362410280231\"></div>\n",
       "<script>\n",
       "function mpld3_load_lib(url, callback){\n",
       "  var s = document.createElement('script');\n",
       "  s.src = url;\n",
       "  s.async = true;\n",
       "  s.onreadystatechange = s.onload = callback;\n",
       "  s.onerror = function(){console.warn(\"failed to load library \" + url);};\n",
       "  document.getElementsByTagName(\"head\")[0].appendChild(s);\n",
       "}\n",
       "\n",
       "if(typeof(mpld3) !== \"undefined\" && mpld3._mpld3IsLoaded){\n",
       "   // already loaded: just create the figure\n",
       "   !function(mpld3){\n",
       "       \n",
       "       mpld3.draw_figure(\"fig_el119691401799469859362410280231\", {\"axes\": [{\"xlim\": [-0.5, 1.5], \"yscale\": \"linear\", \"axesbg\": \"#FFFFFF\", \"texts\": [{\"v_baseline\": \"auto\", \"h_anchor\": \"middle\", \"color\": \"#262626\", \"text\": \"Passenger Proportionss by Gender\", \"coordinates\": \"axes\", \"zorder\": 3, \"alpha\": 1, \"fontsize\": 18.0, \"position\": [0.5, 1.0112007168458781], \"rotation\": -0.0, \"id\": \"el11969140179945809808\"}], \"zoomable\": true, \"images\": [], \"xdomain\": [-0.5, 1.5], \"ylim\": [0.0, 0.70000000000000007], \"paths\": [{\"edgecolor\": \"#000000\", \"facecolor\": \"#5874A3\", \"edgewidth\": 0.3, \"pathcodes\": [\"M\", \"L\", \"L\", \"L\", \"Z\"], \"yindex\": 1, \"coordinates\": \"data\", \"dasharray\": \"10,0\", \"zorder\": 1, \"alpha\": 1, \"xindex\": 0, \"data\": \"data03\", \"id\": \"el11969140179945507728\"}, {\"edgecolor\": \"#000000\", \"facecolor\": \"#5F9D6D\", \"edgewidth\": 0.3, \"pathcodes\": [\"M\", \"L\", \"L\", \"L\", \"Z\"], \"yindex\": 1, \"coordinates\": \"data\", \"dasharray\": \"10,0\", \"zorder\": 1, \"alpha\": 1, \"xindex\": 0, \"data\": \"data04\", \"id\": \"el11969140179945554384\"}], \"sharey\": [], \"sharex\": [], \"axesbgalpha\": null, \"axes\": [{\"scale\": \"linear\", \"tickformat\": null, \"grid\": {\"gridOn\": false}, \"fontsize\": 10.0, \"position\": \"bottom\", \"nticks\": 2, \"tickvalues\": [0, 1]}, {\"scale\": \"linear\", \"tickformat\": null, \"grid\": {\"color\": \"#CCCCCC\", \"alpha\": 1.0, \"dasharray\": \"10,0\", \"gridOn\": true}, \"fontsize\": 10.0, \"position\": \"left\", \"nticks\": 9, \"tickvalues\": null}], \"lines\": [{\"color\": \"#424242\", \"yindex\": 1, \"coordinates\": \"data\", \"dasharray\": \"10,0\", \"zorder\": 2, \"alpha\": 1, \"xindex\": 0, \"linewidth\": 3.15, \"data\": \"data01\", \"id\": \"el11969140179945507344\"}, {\"color\": \"#424242\", \"yindex\": 1, \"coordinates\": \"data\", \"dasharray\": \"10,0\", \"zorder\": 2, \"alpha\": 1, \"xindex\": 0, \"linewidth\": 3.15, \"data\": \"data02\", \"id\": \"el11969140179945507600\"}], \"markers\": [], \"id\": \"el11969140179946985808\", \"ydomain\": [0.0, 0.70000000000000007], \"collections\": [], \"xscale\": \"linear\", \"bbox\": [0.125, 0.125, 0.77500000000000002, 0.77500000000000002]}], \"height\": 640.0, \"width\": 800.0, \"plugins\": [{\"type\": \"reset\"}, {\"enabled\": false, \"button\": true, \"type\": \"zoom\"}, {\"enabled\": false, \"button\": true, \"type\": \"boxzoom\"}], \"data\": {\"data04\": [[0.6, 0.0], [1.4, 0.0], [1.4, 0.35241301907968575], [0.6, 0.35241301907968575]], \"data02\": [[1.0, NaN], [1.0, NaN]], \"data03\": [[-0.4, 0.0], [0.4, 0.0], [0.4, 0.6475869809203143], [-0.4, 0.6475869809203143]], \"data01\": [[0.0, NaN], [0.0, NaN]]}, \"id\": \"el11969140179946985936\"});\n",
       "   }(mpld3);\n",
       "}else if(typeof define === \"function\" && define.amd){\n",
       "   // require.js is available: use it to load d3/mpld3\n",
       "   require.config({paths: {d3: \"https://mpld3.github.io/js/d3.v3.min\"}});\n",
       "   require([\"d3\"], function(d3){\n",
       "      window.d3 = d3;\n",
       "      mpld3_load_lib(\"https://mpld3.github.io/js/mpld3.v0.2.js\", function(){\n",
       "         \n",
       "         mpld3.draw_figure(\"fig_el119691401799469859362410280231\", {\"axes\": [{\"xlim\": [-0.5, 1.5], \"yscale\": \"linear\", \"axesbg\": \"#FFFFFF\", \"texts\": [{\"v_baseline\": \"auto\", \"h_anchor\": \"middle\", \"color\": \"#262626\", \"text\": \"Passenger Proportionss by Gender\", \"coordinates\": \"axes\", \"zorder\": 3, \"alpha\": 1, \"fontsize\": 18.0, \"position\": [0.5, 1.0112007168458781], \"rotation\": -0.0, \"id\": \"el11969140179945809808\"}], \"zoomable\": true, \"images\": [], \"xdomain\": [-0.5, 1.5], \"ylim\": [0.0, 0.70000000000000007], \"paths\": [{\"edgecolor\": \"#000000\", \"facecolor\": \"#5874A3\", \"edgewidth\": 0.3, \"pathcodes\": [\"M\", \"L\", \"L\", \"L\", \"Z\"], \"yindex\": 1, \"coordinates\": \"data\", \"dasharray\": \"10,0\", \"zorder\": 1, \"alpha\": 1, \"xindex\": 0, \"data\": \"data03\", \"id\": \"el11969140179945507728\"}, {\"edgecolor\": \"#000000\", \"facecolor\": \"#5F9D6D\", \"edgewidth\": 0.3, \"pathcodes\": [\"M\", \"L\", \"L\", \"L\", \"Z\"], \"yindex\": 1, \"coordinates\": \"data\", \"dasharray\": \"10,0\", \"zorder\": 1, \"alpha\": 1, \"xindex\": 0, \"data\": \"data04\", \"id\": \"el11969140179945554384\"}], \"sharey\": [], \"sharex\": [], \"axesbgalpha\": null, \"axes\": [{\"scale\": \"linear\", \"tickformat\": null, \"grid\": {\"gridOn\": false}, \"fontsize\": 10.0, \"position\": \"bottom\", \"nticks\": 2, \"tickvalues\": [0, 1]}, {\"scale\": \"linear\", \"tickformat\": null, \"grid\": {\"color\": \"#CCCCCC\", \"alpha\": 1.0, \"dasharray\": \"10,0\", \"gridOn\": true}, \"fontsize\": 10.0, \"position\": \"left\", \"nticks\": 9, \"tickvalues\": null}], \"lines\": [{\"color\": \"#424242\", \"yindex\": 1, \"coordinates\": \"data\", \"dasharray\": \"10,0\", \"zorder\": 2, \"alpha\": 1, \"xindex\": 0, \"linewidth\": 3.15, \"data\": \"data01\", \"id\": \"el11969140179945507344\"}, {\"color\": \"#424242\", \"yindex\": 1, \"coordinates\": \"data\", \"dasharray\": \"10,0\", \"zorder\": 2, \"alpha\": 1, \"xindex\": 0, \"linewidth\": 3.15, \"data\": \"data02\", \"id\": \"el11969140179945507600\"}], \"markers\": [], \"id\": \"el11969140179946985808\", \"ydomain\": [0.0, 0.70000000000000007], \"collections\": [], \"xscale\": \"linear\", \"bbox\": [0.125, 0.125, 0.77500000000000002, 0.77500000000000002]}], \"height\": 640.0, \"width\": 800.0, \"plugins\": [{\"type\": \"reset\"}, {\"enabled\": false, \"button\": true, \"type\": \"zoom\"}, {\"enabled\": false, \"button\": true, \"type\": \"boxzoom\"}], \"data\": {\"data04\": [[0.6, 0.0], [1.4, 0.0], [1.4, 0.35241301907968575], [0.6, 0.35241301907968575]], \"data02\": [[1.0, NaN], [1.0, NaN]], \"data03\": [[-0.4, 0.0], [0.4, 0.0], [0.4, 0.6475869809203143], [-0.4, 0.6475869809203143]], \"data01\": [[0.0, NaN], [0.0, NaN]]}, \"id\": \"el11969140179946985936\"});\n",
       "      });\n",
       "    });\n",
       "}else{\n",
       "    // require.js not available: dynamically load d3 & mpld3\n",
       "    mpld3_load_lib(\"https://mpld3.github.io/js/d3.v3.min.js\", function(){\n",
       "         mpld3_load_lib(\"https://mpld3.github.io/js/mpld3.v0.2.js\", function(){\n",
       "                 \n",
       "                 mpld3.draw_figure(\"fig_el119691401799469859362410280231\", {\"axes\": [{\"xlim\": [-0.5, 1.5], \"yscale\": \"linear\", \"axesbg\": \"#FFFFFF\", \"texts\": [{\"v_baseline\": \"auto\", \"h_anchor\": \"middle\", \"color\": \"#262626\", \"text\": \"Passenger Proportionss by Gender\", \"coordinates\": \"axes\", \"zorder\": 3, \"alpha\": 1, \"fontsize\": 18.0, \"position\": [0.5, 1.0112007168458781], \"rotation\": -0.0, \"id\": \"el11969140179945809808\"}], \"zoomable\": true, \"images\": [], \"xdomain\": [-0.5, 1.5], \"ylim\": [0.0, 0.70000000000000007], \"paths\": [{\"edgecolor\": \"#000000\", \"facecolor\": \"#5874A3\", \"edgewidth\": 0.3, \"pathcodes\": [\"M\", \"L\", \"L\", \"L\", \"Z\"], \"yindex\": 1, \"coordinates\": \"data\", \"dasharray\": \"10,0\", \"zorder\": 1, \"alpha\": 1, \"xindex\": 0, \"data\": \"data03\", \"id\": \"el11969140179945507728\"}, {\"edgecolor\": \"#000000\", \"facecolor\": \"#5F9D6D\", \"edgewidth\": 0.3, \"pathcodes\": [\"M\", \"L\", \"L\", \"L\", \"Z\"], \"yindex\": 1, \"coordinates\": \"data\", \"dasharray\": \"10,0\", \"zorder\": 1, \"alpha\": 1, \"xindex\": 0, \"data\": \"data04\", \"id\": \"el11969140179945554384\"}], \"sharey\": [], \"sharex\": [], \"axesbgalpha\": null, \"axes\": [{\"scale\": \"linear\", \"tickformat\": null, \"grid\": {\"gridOn\": false}, \"fontsize\": 10.0, \"position\": \"bottom\", \"nticks\": 2, \"tickvalues\": [0, 1]}, {\"scale\": \"linear\", \"tickformat\": null, \"grid\": {\"color\": \"#CCCCCC\", \"alpha\": 1.0, \"dasharray\": \"10,0\", \"gridOn\": true}, \"fontsize\": 10.0, \"position\": \"left\", \"nticks\": 9, \"tickvalues\": null}], \"lines\": [{\"color\": \"#424242\", \"yindex\": 1, \"coordinates\": \"data\", \"dasharray\": \"10,0\", \"zorder\": 2, \"alpha\": 1, \"xindex\": 0, \"linewidth\": 3.15, \"data\": \"data01\", \"id\": \"el11969140179945507344\"}, {\"color\": \"#424242\", \"yindex\": 1, \"coordinates\": \"data\", \"dasharray\": \"10,0\", \"zorder\": 2, \"alpha\": 1, \"xindex\": 0, \"linewidth\": 3.15, \"data\": \"data02\", \"id\": \"el11969140179945507600\"}], \"markers\": [], \"id\": \"el11969140179946985808\", \"ydomain\": [0.0, 0.70000000000000007], \"collections\": [], \"xscale\": \"linear\", \"bbox\": [0.125, 0.125, 0.77500000000000002, 0.77500000000000002]}], \"height\": 640.0, \"width\": 800.0, \"plugins\": [{\"type\": \"reset\"}, {\"enabled\": false, \"button\": true, \"type\": \"zoom\"}, {\"enabled\": false, \"button\": true, \"type\": \"boxzoom\"}], \"data\": {\"data04\": [[0.6, 0.0], [1.4, 0.0], [1.4, 0.35241301907968575], [0.6, 0.35241301907968575]], \"data02\": [[1.0, NaN], [1.0, NaN]], \"data03\": [[-0.4, 0.0], [0.4, 0.0], [0.4, 0.6475869809203143], [-0.4, 0.6475869809203143]], \"data01\": [[0.0, NaN], [0.0, NaN]]}, \"id\": \"el11969140179946985936\"});\n",
       "            })\n",
       "         });\n",
       "}\n",
       "</script>"
      ],
      "text/plain": [
       "<matplotlib.figure.Figure at 0x7f7e2ff1d9d0>"
      ]
     },
     "metadata": {},
     "output_type": "display_data"
    }
   ],
   "source": [
    "axe = seaborn.barplot(x=sex_proportions.index, y=sex_proportions.values)\n",
    "title = axe.set_title(\"Passenger Proportionss by Gender\")"
   ]
  },
  {
   "cell_type": "code",
   "execution_count": 15,
   "metadata": {
    "autoscroll": "json-false",
    "collapsed": false,
    "ein.tags": [
     "worksheet-0"
    ]
   },
   "outputs": [
    {
     "data": {
      "image/png": "[encoded data removed]",
      "text/html": [
       "\n",
       "\n",
       "<style>\n",
       "\n",
       "</style>\n",
       "\n",
       "<div id=\"fig_el119691401807534495524223771194\"></div>\n",
       "<script>\n",
       "function mpld3_load_lib(url, callback){\n",
       "  var s = document.createElement('script');\n",
       "  s.src = url;\n",
       "  s.async = true;\n",
       "  s.onreadystatechange = s.onload = callback;\n",
       "  s.onerror = function(){console.warn(\"failed to load library \" + url);};\n",
       "  document.getElementsByTagName(\"head\")[0].appendChild(s);\n",
       "}\n",
       "\n",
       "if(typeof(mpld3) !== \"undefined\" && mpld3._mpld3IsLoaded){\n",
       "   // already loaded: just create the figure\n",
       "   !function(mpld3){\n",
       "       \n",
       "       mpld3.draw_figure(\"fig_el119691401807534495524223771194\", {\"axes\": [{\"xlim\": [-0.40000000000000002, 1.3999999999999999], \"yscale\": \"linear\", \"axesbg\": \"#FFFFFF\", \"texts\": [{\"v_baseline\": \"hanging\", \"h_anchor\": \"middle\", \"color\": \"#262626\", \"text\": \"Sex\", \"coordinates\": \"axes\", \"zorder\": 3, \"alpha\": 1, \"fontsize\": 18.0, \"position\": [0.5, -0.062724014336917558], \"rotation\": -0.0, \"id\": \"el11969140179946607824\"}, {\"v_baseline\": \"auto\", \"h_anchor\": \"middle\", \"color\": \"#262626\", \"text\": \"Number of Passengers\", \"coordinates\": \"axes\", \"zorder\": 3, \"alpha\": 1, \"fontsize\": 18.0, \"position\": [-0.063928091397849454, 0.5], \"rotation\": -90.0, \"id\": \"el11969140179944968400\"}, {\"v_baseline\": \"auto\", \"h_anchor\": \"middle\", \"color\": \"#262626\", \"text\": \"Passenger Survival Statistics With 'Sex' Feature\", \"coordinates\": \"axes\", \"zorder\": 3, \"alpha\": 1, \"fontsize\": 18.0, \"position\": [0.5, 1.0149342891278375], \"rotation\": -0.0, \"id\": \"el11969140179945138896\"}, {\"v_baseline\": \"auto\", \"h_anchor\": \"start\", \"color\": \"#262626\", \"text\": \"None\", \"coordinates\": \"axes\", \"zorder\": 1000003.0, \"alpha\": 1, \"fontsize\": 10.0, \"position\": [-0.16129032258064516, -0.16129032258064516], \"rotation\": -0.0, \"id\": \"el11969140179944535248\"}, {\"v_baseline\": \"auto\", \"h_anchor\": \"start\", \"color\": \"#262626\", \"text\": \"Did not survive\", \"coordinates\": \"axes\", \"zorder\": 1000003.0, \"alpha\": 1, \"fontsize\": 10.0, \"position\": [0.83140120967741937, 0.95161290322580661], \"rotation\": -0.0, \"id\": \"el11969140179944470992\"}, {\"v_baseline\": \"auto\", \"h_anchor\": \"start\", \"color\": \"#262626\", \"text\": \"Survived\", \"coordinates\": \"axes\", \"zorder\": 1000003.0, \"alpha\": 1, \"fontsize\": 10.0, \"position\": [0.83140120967741937, 0.90979689366786165], \"rotation\": -0.0, \"id\": \"el11969140179944472272\"}], \"zoomable\": true, \"images\": [], \"xdomain\": [-0.40000000000000002, 1.3999999999999999], \"ylim\": [0.0, 500.0], \"paths\": [{\"edgecolor\": \"#000000\", \"facecolor\": \"#FF0000\", \"edgewidth\": 0.3, \"pathcodes\": [\"M\", \"L\", \"L\", \"L\", \"Z\"], \"yindex\": 1, \"coordinates\": \"data\", \"dasharray\": \"10,0\", \"zorder\": 1, \"alpha\": 1, \"xindex\": 0, \"data\": \"data01\", \"id\": \"el11969140179944874128\"}, {\"edgecolor\": \"#000000\", \"facecolor\": \"#007F00\", \"edgewidth\": 0.3, \"pathcodes\": [\"M\", \"L\", \"L\", \"L\", \"Z\"], \"yindex\": 1, \"coordinates\": \"data\", \"dasharray\": \"10,0\", \"zorder\": 1, \"alpha\": 1, \"xindex\": 0, \"data\": \"data02\", \"id\": \"el11969140179944875728\"}, {\"edgecolor\": \"#000000\", \"facecolor\": \"#FF0000\", \"edgewidth\": 0.3, \"pathcodes\": [\"M\", \"L\", \"L\", \"L\", \"Z\"], \"yindex\": 1, \"coordinates\": \"data\", \"dasharray\": \"10,0\", \"zorder\": 1, \"alpha\": 1, \"xindex\": 0, \"data\": \"data03\", \"id\": \"el11969140179944938256\"}, {\"edgecolor\": \"#000000\", \"facecolor\": \"#007F00\", \"edgewidth\": 0.3, \"pathcodes\": [\"M\", \"L\", \"L\", \"L\", \"Z\"], \"yindex\": 1, \"coordinates\": \"data\", \"dasharray\": \"10,0\", \"zorder\": 1, \"alpha\": 1, \"xindex\": 0, \"data\": \"data04\", \"id\": \"el11969140179944939344\"}, {\"edgecolor\": \"#000000\", \"facecolor\": \"#FF0000\", \"edgewidth\": 0.3, \"pathcodes\": [\"M\", \"L\", \"L\", \"L\", \"Z\"], \"yindex\": 1, \"coordinates\": \"axes\", \"dasharray\": \"10,0\", \"zorder\": 1000001.0, \"alpha\": 1, \"xindex\": 0, \"data\": \"data05\", \"id\": \"el11969140179944471888\"}, {\"edgecolor\": \"#000000\", \"facecolor\": \"#007F00\", \"edgewidth\": 0.3, \"pathcodes\": [\"M\", \"L\", \"L\", \"L\", \"Z\"], \"yindex\": 2, \"coordinates\": \"axes\", \"dasharray\": \"10,0\", \"zorder\": 1000001.0, \"alpha\": 1, \"xindex\": 0, \"data\": \"data05\", \"id\": \"el11969140179944534672\"}, {\"edgecolor\": \"#CCCCCC\", \"facecolor\": \"#FFFFFF\", \"edgewidth\": 0.3, \"pathcodes\": [\"M\", \"L\", \"L\", \"L\", \"Z\"], \"yindex\": 1, \"coordinates\": \"axes\", \"dasharray\": \"10,0\", \"zorder\": 1000001.0, \"alpha\": 0.8, \"xindex\": 0, \"data\": \"data06\", \"id\": \"el11969140179944937936\"}], \"sharey\": [], \"sharex\": [], \"axesbgalpha\": null, \"axes\": [{\"scale\": \"linear\", \"tickformat\": null, \"grid\": {\"color\": \"#CCCCCC\", \"alpha\": 1.0, \"dasharray\": \"10,0\", \"gridOn\": true}, \"fontsize\": 10.0, \"position\": \"bottom\", \"nticks\": 2, \"tickvalues\": [0, 1]}, {\"scale\": \"linear\", \"tickformat\": null, \"grid\": {\"color\": \"#CCCCCC\", \"alpha\": 1.0, \"dasharray\": \"10,0\", \"gridOn\": true}, \"fontsize\": 10.0, \"position\": \"left\", \"nticks\": 6, \"tickvalues\": null}], \"lines\": [], \"markers\": [], \"id\": \"el11969140179946203664\", \"ydomain\": [0.0, 500.0], \"collections\": [], \"xscale\": \"linear\", \"bbox\": [0.125, 0.125, 0.77500000000000002, 0.77500000000000002]}], \"height\": 480.0, \"width\": 640.0, \"plugins\": [{\"type\": \"reset\"}, {\"enabled\": false, \"button\": true, \"type\": \"zoom\"}, {\"enabled\": false, \"button\": true, \"type\": \"boxzoom\"}], \"data\": {\"data06\": [[0.7597166218637993, 0.8924731182795701], [0.9887992831541218, 0.8924731182795701], [0.9887992831541218, 0.9850657108721627], [0.7597166218637993, 0.9850657108721627]], \"data04\": [[1.0, 0.0], [1.4, 0.0], [1.4, 233.0], [1.0, 233.0]], \"data05\": [[0.7686771953405018, 0.9516129032258066, 0.9097968936678617], [0.8134800627240144, 0.9516129032258066, 0.9097968936678617], [0.8134800627240144, 0.9725209080047791, 0.9307048984468341], [0.7686771953405018, 0.9725209080047791, 0.9307048984468341]], \"data02\": [[0.0, 0.0], [0.4, 0.0], [0.4, 109.0], [0.0, 109.0]], \"data03\": [[0.6, 0.0], [1.0, 0.0], [1.0, 81.0], [0.6, 81.0]], \"data01\": [[-0.4, 0.0], [0.0, 0.0], [0.0, 468.0], [-0.4, 468.0]]}, \"id\": \"el11969140180753449552\"});\n",
       "   }(mpld3);\n",
       "}else if(typeof define === \"function\" && define.amd){\n",
       "   // require.js is available: use it to load d3/mpld3\n",
       "   require.config({paths: {d3: \"https://mpld3.github.io/js/d3.v3.min\"}});\n",
       "   require([\"d3\"], function(d3){\n",
       "      window.d3 = d3;\n",
       "      mpld3_load_lib(\"https://mpld3.github.io/js/mpld3.v0.2.js\", function(){\n",
       "         \n",
       "         mpld3.draw_figure(\"fig_el119691401807534495524223771194\", {\"axes\": [{\"xlim\": [-0.40000000000000002, 1.3999999999999999], \"yscale\": \"linear\", \"axesbg\": \"#FFFFFF\", \"texts\": [{\"v_baseline\": \"hanging\", \"h_anchor\": \"middle\", \"color\": \"#262626\", \"text\": \"Sex\", \"coordinates\": \"axes\", \"zorder\": 3, \"alpha\": 1, \"fontsize\": 18.0, \"position\": [0.5, -0.062724014336917558], \"rotation\": -0.0, \"id\": \"el11969140179946607824\"}, {\"v_baseline\": \"auto\", \"h_anchor\": \"middle\", \"color\": \"#262626\", \"text\": \"Number of Passengers\", \"coordinates\": \"axes\", \"zorder\": 3, \"alpha\": 1, \"fontsize\": 18.0, \"position\": [-0.063928091397849454, 0.5], \"rotation\": -90.0, \"id\": \"el11969140179944968400\"}, {\"v_baseline\": \"auto\", \"h_anchor\": \"middle\", \"color\": \"#262626\", \"text\": \"Passenger Survival Statistics With 'Sex' Feature\", \"coordinates\": \"axes\", \"zorder\": 3, \"alpha\": 1, \"fontsize\": 18.0, \"position\": [0.5, 1.0149342891278375], \"rotation\": -0.0, \"id\": \"el11969140179945138896\"}, {\"v_baseline\": \"auto\", \"h_anchor\": \"start\", \"color\": \"#262626\", \"text\": \"None\", \"coordinates\": \"axes\", \"zorder\": 1000003.0, \"alpha\": 1, \"fontsize\": 10.0, \"position\": [-0.16129032258064516, -0.16129032258064516], \"rotation\": -0.0, \"id\": \"el11969140179944535248\"}, {\"v_baseline\": \"auto\", \"h_anchor\": \"start\", \"color\": \"#262626\", \"text\": \"Did not survive\", \"coordinates\": \"axes\", \"zorder\": 1000003.0, \"alpha\": 1, \"fontsize\": 10.0, \"position\": [0.83140120967741937, 0.95161290322580661], \"rotation\": -0.0, \"id\": \"el11969140179944470992\"}, {\"v_baseline\": \"auto\", \"h_anchor\": \"start\", \"color\": \"#262626\", \"text\": \"Survived\", \"coordinates\": \"axes\", \"zorder\": 1000003.0, \"alpha\": 1, \"fontsize\": 10.0, \"position\": [0.83140120967741937, 0.90979689366786165], \"rotation\": -0.0, \"id\": \"el11969140179944472272\"}], \"zoomable\": true, \"images\": [], \"xdomain\": [-0.40000000000000002, 1.3999999999999999], \"ylim\": [0.0, 500.0], \"paths\": [{\"edgecolor\": \"#000000\", \"facecolor\": \"#FF0000\", \"edgewidth\": 0.3, \"pathcodes\": [\"M\", \"L\", \"L\", \"L\", \"Z\"], \"yindex\": 1, \"coordinates\": \"data\", \"dasharray\": \"10,0\", \"zorder\": 1, \"alpha\": 1, \"xindex\": 0, \"data\": \"data01\", \"id\": \"el11969140179944874128\"}, {\"edgecolor\": \"#000000\", \"facecolor\": \"#007F00\", \"edgewidth\": 0.3, \"pathcodes\": [\"M\", \"L\", \"L\", \"L\", \"Z\"], \"yindex\": 1, \"coordinates\": \"data\", \"dasharray\": \"10,0\", \"zorder\": 1, \"alpha\": 1, \"xindex\": 0, \"data\": \"data02\", \"id\": \"el11969140179944875728\"}, {\"edgecolor\": \"#000000\", \"facecolor\": \"#FF0000\", \"edgewidth\": 0.3, \"pathcodes\": [\"M\", \"L\", \"L\", \"L\", \"Z\"], \"yindex\": 1, \"coordinates\": \"data\", \"dasharray\": \"10,0\", \"zorder\": 1, \"alpha\": 1, \"xindex\": 0, \"data\": \"data03\", \"id\": \"el11969140179944938256\"}, {\"edgecolor\": \"#000000\", \"facecolor\": \"#007F00\", \"edgewidth\": 0.3, \"pathcodes\": [\"M\", \"L\", \"L\", \"L\", \"Z\"], \"yindex\": 1, \"coordinates\": \"data\", \"dasharray\": \"10,0\", \"zorder\": 1, \"alpha\": 1, \"xindex\": 0, \"data\": \"data04\", \"id\": \"el11969140179944939344\"}, {\"edgecolor\": \"#000000\", \"facecolor\": \"#FF0000\", \"edgewidth\": 0.3, \"pathcodes\": [\"M\", \"L\", \"L\", \"L\", \"Z\"], \"yindex\": 1, \"coordinates\": \"axes\", \"dasharray\": \"10,0\", \"zorder\": 1000001.0, \"alpha\": 1, \"xindex\": 0, \"data\": \"data05\", \"id\": \"el11969140179944471888\"}, {\"edgecolor\": \"#000000\", \"facecolor\": \"#007F00\", \"edgewidth\": 0.3, \"pathcodes\": [\"M\", \"L\", \"L\", \"L\", \"Z\"], \"yindex\": 2, \"coordinates\": \"axes\", \"dasharray\": \"10,0\", \"zorder\": 1000001.0, \"alpha\": 1, \"xindex\": 0, \"data\": \"data05\", \"id\": \"el11969140179944534672\"}, {\"edgecolor\": \"#CCCCCC\", \"facecolor\": \"#FFFFFF\", \"edgewidth\": 0.3, \"pathcodes\": [\"M\", \"L\", \"L\", \"L\", \"Z\"], \"yindex\": 1, \"coordinates\": \"axes\", \"dasharray\": \"10,0\", \"zorder\": 1000001.0, \"alpha\": 0.8, \"xindex\": 0, \"data\": \"data06\", \"id\": \"el11969140179944937936\"}], \"sharey\": [], \"sharex\": [], \"axesbgalpha\": null, \"axes\": [{\"scale\": \"linear\", \"tickformat\": null, \"grid\": {\"color\": \"#CCCCCC\", \"alpha\": 1.0, \"dasharray\": \"10,0\", \"gridOn\": true}, \"fontsize\": 10.0, \"position\": \"bottom\", \"nticks\": 2, \"tickvalues\": [0, 1]}, {\"scale\": \"linear\", \"tickformat\": null, \"grid\": {\"color\": \"#CCCCCC\", \"alpha\": 1.0, \"dasharray\": \"10,0\", \"gridOn\": true}, \"fontsize\": 10.0, \"position\": \"left\", \"nticks\": 6, \"tickvalues\": null}], \"lines\": [], \"markers\": [], \"id\": \"el11969140179946203664\", \"ydomain\": [0.0, 500.0], \"collections\": [], \"xscale\": \"linear\", \"bbox\": [0.125, 0.125, 0.77500000000000002, 0.77500000000000002]}], \"height\": 480.0, \"width\": 640.0, \"plugins\": [{\"type\": \"reset\"}, {\"enabled\": false, \"button\": true, \"type\": \"zoom\"}, {\"enabled\": false, \"button\": true, \"type\": \"boxzoom\"}], \"data\": {\"data06\": [[0.7597166218637993, 0.8924731182795701], [0.9887992831541218, 0.8924731182795701], [0.9887992831541218, 0.9850657108721627], [0.7597166218637993, 0.9850657108721627]], \"data04\": [[1.0, 0.0], [1.4, 0.0], [1.4, 233.0], [1.0, 233.0]], \"data05\": [[0.7686771953405018, 0.9516129032258066, 0.9097968936678617], [0.8134800627240144, 0.9516129032258066, 0.9097968936678617], [0.8134800627240144, 0.9725209080047791, 0.9307048984468341], [0.7686771953405018, 0.9725209080047791, 0.9307048984468341]], \"data02\": [[0.0, 0.0], [0.4, 0.0], [0.4, 109.0], [0.0, 109.0]], \"data03\": [[0.6, 0.0], [1.0, 0.0], [1.0, 81.0], [0.6, 81.0]], \"data01\": [[-0.4, 0.0], [0.0, 0.0], [0.0, 468.0], [-0.4, 468.0]]}, \"id\": \"el11969140180753449552\"});\n",
       "      });\n",
       "    });\n",
       "}else{\n",
       "    // require.js not available: dynamically load d3 & mpld3\n",
       "    mpld3_load_lib(\"https://mpld3.github.io/js/d3.v3.min.js\", function(){\n",
       "         mpld3_load_lib(\"https://mpld3.github.io/js/mpld3.v0.2.js\", function(){\n",
       "                 \n",
       "                 mpld3.draw_figure(\"fig_el119691401807534495524223771194\", {\"axes\": [{\"xlim\": [-0.40000000000000002, 1.3999999999999999], \"yscale\": \"linear\", \"axesbg\": \"#FFFFFF\", \"texts\": [{\"v_baseline\": \"hanging\", \"h_anchor\": \"middle\", \"color\": \"#262626\", \"text\": \"Sex\", \"coordinates\": \"axes\", \"zorder\": 3, \"alpha\": 1, \"fontsize\": 18.0, \"position\": [0.5, -0.062724014336917558], \"rotation\": -0.0, \"id\": \"el11969140179946607824\"}, {\"v_baseline\": \"auto\", \"h_anchor\": \"middle\", \"color\": \"#262626\", \"text\": \"Number of Passengers\", \"coordinates\": \"axes\", \"zorder\": 3, \"alpha\": 1, \"fontsize\": 18.0, \"position\": [-0.063928091397849454, 0.5], \"rotation\": -90.0, \"id\": \"el11969140179944968400\"}, {\"v_baseline\": \"auto\", \"h_anchor\": \"middle\", \"color\": \"#262626\", \"text\": \"Passenger Survival Statistics With 'Sex' Feature\", \"coordinates\": \"axes\", \"zorder\": 3, \"alpha\": 1, \"fontsize\": 18.0, \"position\": [0.5, 1.0149342891278375], \"rotation\": -0.0, \"id\": \"el11969140179945138896\"}, {\"v_baseline\": \"auto\", \"h_anchor\": \"start\", \"color\": \"#262626\", \"text\": \"None\", \"coordinates\": \"axes\", \"zorder\": 1000003.0, \"alpha\": 1, \"fontsize\": 10.0, \"position\": [-0.16129032258064516, -0.16129032258064516], \"rotation\": -0.0, \"id\": \"el11969140179944535248\"}, {\"v_baseline\": \"auto\", \"h_anchor\": \"start\", \"color\": \"#262626\", \"text\": \"Did not survive\", \"coordinates\": \"axes\", \"zorder\": 1000003.0, \"alpha\": 1, \"fontsize\": 10.0, \"position\": [0.83140120967741937, 0.95161290322580661], \"rotation\": -0.0, \"id\": \"el11969140179944470992\"}, {\"v_baseline\": \"auto\", \"h_anchor\": \"start\", \"color\": \"#262626\", \"text\": \"Survived\", \"coordinates\": \"axes\", \"zorder\": 1000003.0, \"alpha\": 1, \"fontsize\": 10.0, \"position\": [0.83140120967741937, 0.90979689366786165], \"rotation\": -0.0, \"id\": \"el11969140179944472272\"}], \"zoomable\": true, \"images\": [], \"xdomain\": [-0.40000000000000002, 1.3999999999999999], \"ylim\": [0.0, 500.0], \"paths\": [{\"edgecolor\": \"#000000\", \"facecolor\": \"#FF0000\", \"edgewidth\": 0.3, \"pathcodes\": [\"M\", \"L\", \"L\", \"L\", \"Z\"], \"yindex\": 1, \"coordinates\": \"data\", \"dasharray\": \"10,0\", \"zorder\": 1, \"alpha\": 1, \"xindex\": 0, \"data\": \"data01\", \"id\": \"el11969140179944874128\"}, {\"edgecolor\": \"#000000\", \"facecolor\": \"#007F00\", \"edgewidth\": 0.3, \"pathcodes\": [\"M\", \"L\", \"L\", \"L\", \"Z\"], \"yindex\": 1, \"coordinates\": \"data\", \"dasharray\": \"10,0\", \"zorder\": 1, \"alpha\": 1, \"xindex\": 0, \"data\": \"data02\", \"id\": \"el11969140179944875728\"}, {\"edgecolor\": \"#000000\", \"facecolor\": \"#FF0000\", \"edgewidth\": 0.3, \"pathcodes\": [\"M\", \"L\", \"L\", \"L\", \"Z\"], \"yindex\": 1, \"coordinates\": \"data\", \"dasharray\": \"10,0\", \"zorder\": 1, \"alpha\": 1, \"xindex\": 0, \"data\": \"data03\", \"id\": \"el11969140179944938256\"}, {\"edgecolor\": \"#000000\", \"facecolor\": \"#007F00\", \"edgewidth\": 0.3, \"pathcodes\": [\"M\", \"L\", \"L\", \"L\", \"Z\"], \"yindex\": 1, \"coordinates\": \"data\", \"dasharray\": \"10,0\", \"zorder\": 1, \"alpha\": 1, \"xindex\": 0, \"data\": \"data04\", \"id\": \"el11969140179944939344\"}, {\"edgecolor\": \"#000000\", \"facecolor\": \"#FF0000\", \"edgewidth\": 0.3, \"pathcodes\": [\"M\", \"L\", \"L\", \"L\", \"Z\"], \"yindex\": 1, \"coordinates\": \"axes\", \"dasharray\": \"10,0\", \"zorder\": 1000001.0, \"alpha\": 1, \"xindex\": 0, \"data\": \"data05\", \"id\": \"el11969140179944471888\"}, {\"edgecolor\": \"#000000\", \"facecolor\": \"#007F00\", \"edgewidth\": 0.3, \"pathcodes\": [\"M\", \"L\", \"L\", \"L\", \"Z\"], \"yindex\": 2, \"coordinates\": \"axes\", \"dasharray\": \"10,0\", \"zorder\": 1000001.0, \"alpha\": 1, \"xindex\": 0, \"data\": \"data05\", \"id\": \"el11969140179944534672\"}, {\"edgecolor\": \"#CCCCCC\", \"facecolor\": \"#FFFFFF\", \"edgewidth\": 0.3, \"pathcodes\": [\"M\", \"L\", \"L\", \"L\", \"Z\"], \"yindex\": 1, \"coordinates\": \"axes\", \"dasharray\": \"10,0\", \"zorder\": 1000001.0, \"alpha\": 0.8, \"xindex\": 0, \"data\": \"data06\", \"id\": \"el11969140179944937936\"}], \"sharey\": [], \"sharex\": [], \"axesbgalpha\": null, \"axes\": [{\"scale\": \"linear\", \"tickformat\": null, \"grid\": {\"color\": \"#CCCCCC\", \"alpha\": 1.0, \"dasharray\": \"10,0\", \"gridOn\": true}, \"fontsize\": 10.0, \"position\": \"bottom\", \"nticks\": 2, \"tickvalues\": [0, 1]}, {\"scale\": \"linear\", \"tickformat\": null, \"grid\": {\"color\": \"#CCCCCC\", \"alpha\": 1.0, \"dasharray\": \"10,0\", \"gridOn\": true}, \"fontsize\": 10.0, \"position\": \"left\", \"nticks\": 6, \"tickvalues\": null}], \"lines\": [], \"markers\": [], \"id\": \"el11969140179946203664\", \"ydomain\": [0.0, 500.0], \"collections\": [], \"xscale\": \"linear\", \"bbox\": [0.125, 0.125, 0.77500000000000002, 0.77500000000000002]}], \"height\": 480.0, \"width\": 640.0, \"plugins\": [{\"type\": \"reset\"}, {\"enabled\": false, \"button\": true, \"type\": \"zoom\"}, {\"enabled\": false, \"button\": true, \"type\": \"boxzoom\"}], \"data\": {\"data06\": [[0.7597166218637993, 0.8924731182795701], [0.9887992831541218, 0.8924731182795701], [0.9887992831541218, 0.9850657108721627], [0.7597166218637993, 0.9850657108721627]], \"data04\": [[1.0, 0.0], [1.4, 0.0], [1.4, 233.0], [1.0, 233.0]], \"data05\": [[0.7686771953405018, 0.9516129032258066, 0.9097968936678617], [0.8134800627240144, 0.9516129032258066, 0.9097968936678617], [0.8134800627240144, 0.9725209080047791, 0.9307048984468341], [0.7686771953405018, 0.9725209080047791, 0.9307048984468341]], \"data02\": [[0.0, 0.0], [0.4, 0.0], [0.4, 109.0], [0.0, 109.0]], \"data03\": [[0.6, 0.0], [1.0, 0.0], [1.0, 81.0], [0.6, 81.0]], \"data01\": [[-0.4, 0.0], [0.0, 0.0], [0.0, 468.0], [-0.4, 468.0]]}, \"id\": \"el11969140180753449552\"});\n",
       "            })\n",
       "         });\n",
       "}\n",
       "</script>"
      ],
      "text/plain": [
       "<matplotlib.figure.Figure at 0x7f7e60038250>"
      ]
     },
     "metadata": {},
     "output_type": "display_data"
    }
   ],
   "source": [
    "survival_stats(data, outcomes, 'Sex')"
   ]
  },
  {
   "cell_type": "code",
   "execution_count": 16,
   "metadata": {
    "autoscroll": "json-false",
    "collapsed": false,
    "ein.tags": [
     "worksheet-0"
    ]
   },
   "outputs": [
    {
     "name": "stdout",
     "output_type": "stream",
     "text": [
      "lived_or_died  died  lived\n",
      "Sex                       \n",
      "female           81    233\n",
      "male            468    109\n"
     ]
    }
   ],
   "source": [
    "sex_lived_died = pandas.crosstab(full_data.Sex, full_data.lived_or_died)\n",
    "female_count = sex_lived_died.ix['female'].sum()\n",
    "male_count = sex_lived_died.ix['male'].sum()\n",
    "assert female_count + male_count == full_data.Sex.count()\n",
    "print(sex_lived_died)"
   ]
  },
  {
   "cell_type": "code",
   "execution_count": 17,
   "metadata": {
    "autoscroll": "json-false",
    "collapsed": false,
    "ein.tags": [
     "worksheet-0"
    ]
   },
   "outputs": [
    {
     "name": "stdout",
     "output_type": "stream",
     "text": [
      "+----------+----------+----------+\n",
      "| gender   |    lived |     died |\n",
      "|----------+----------+----------|\n",
      "| female   | 0.742038 | 0.257962 |\n",
      "| male     | 0.188908 | 0.811092 |\n",
      "+----------+----------+----------+\n"
     ]
    }
   ],
   "source": [
    "sex_counts = pandas.DataFrame({'lived': [female_count, male_count],\n",
    "                               'died': [female_count, male_count]},\n",
    "                              index=['female', 'male'])\n",
    "survival_by_sex_proportions = sex_lived_died/sex_counts\n",
    "print(tabulate({'gender': survival_by_sex_proportions.index,\n",
    "                \"died\": survival_by_sex_proportions.died,\n",
    "                'lived': survival_by_sex_proportions.lived}, headers='keys', tablefmt='psql'))\n"
   ]
  },
  {
   "cell_type": "code",
   "execution_count": 18,
   "metadata": {
    "autoscroll": "json-false",
    "collapsed": false,
    "ein.tags": [
     "worksheet-0"
    ]
   },
   "outputs": [
    {
     "data": {
      "image/png": "[encoded data removed]",
      "text/html": [
       "\n",
       "\n",
       "<style>\n",
       "\n",
       "</style>\n",
       "\n",
       "<div id=\"fig_el119691401799448246565621848245\"></div>\n",
       "<script>\n",
       "function mpld3_load_lib(url, callback){\n",
       "  var s = document.createElement('script');\n",
       "  s.src = url;\n",
       "  s.async = true;\n",
       "  s.onreadystatechange = s.onload = callback;\n",
       "  s.onerror = function(){console.warn(\"failed to load library \" + url);};\n",
       "  document.getElementsByTagName(\"head\")[0].appendChild(s);\n",
       "}\n",
       "\n",
       "if(typeof(mpld3) !== \"undefined\" && mpld3._mpld3IsLoaded){\n",
       "   // already loaded: just create the figure\n",
       "   !function(mpld3){\n",
       "       \n",
       "       mpld3.draw_figure(\"fig_el119691401799448246565621848245\", {\"axes\": [{\"xlim\": [-0.5, 1.5], \"yscale\": \"linear\", \"axesbg\": \"#FFFFFF\", \"texts\": [{\"v_baseline\": \"hanging\", \"h_anchor\": \"middle\", \"color\": \"#262626\", \"text\": \"Sex\", \"coordinates\": \"axes\", \"zorder\": 3, \"alpha\": 1, \"fontsize\": 18.0, \"position\": [0.5, -0.094170026881720423], \"rotation\": -0.0, \"id\": \"el11969140179945665360\"}, {\"v_baseline\": \"auto\", \"h_anchor\": \"middle\", \"color\": \"#262626\", \"text\": \"Survival Proportions by Gender\", \"coordinates\": \"axes\", \"zorder\": 3, \"alpha\": 1, \"fontsize\": 18.0, \"position\": [0.5, 1.0112007168458781], \"rotation\": -0.0, \"id\": \"el11969140179943490448\"}, {\"v_baseline\": \"auto\", \"h_anchor\": \"start\", \"color\": \"#262626\", \"text\": \"lived_or_died\", \"coordinates\": \"axes\", \"zorder\": 1000003.0, \"alpha\": 1, \"fontsize\": 10.0, \"position\": [0.87701612903225812, 0.96370967741935487], \"rotation\": -0.0, \"id\": \"el11969140179943309136\"}, {\"v_baseline\": \"auto\", \"h_anchor\": \"start\", \"color\": \"#262626\", \"text\": \"died\", \"coordinates\": \"axes\", \"zorder\": 1000003.0, \"alpha\": 1, \"fontsize\": 10.0, \"position\": [0.93708557347670263, 0.93234767025089604], \"rotation\": -0.0, \"id\": \"el11969140179943192784\"}, {\"v_baseline\": \"auto\", \"h_anchor\": \"start\", \"color\": \"#262626\", \"text\": \"lived\", \"coordinates\": \"axes\", \"zorder\": 1000003.0, \"alpha\": 1, \"fontsize\": 10.0, \"position\": [0.93708557347670263, 0.90098566308243744], \"rotation\": -0.0, \"id\": \"el11969140179943307664\"}], \"zoomable\": true, \"images\": [], \"xdomain\": [-0.5, 1.5], \"ylim\": [0.0, 0.90000000000000002], \"paths\": [{\"edgecolor\": \"#000000\", \"facecolor\": \"#0000FF\", \"edgewidth\": 0.3, \"pathcodes\": [\"M\", \"L\", \"L\", \"L\", \"Z\"], \"yindex\": 1, \"coordinates\": \"data\", \"dasharray\": \"10,0\", \"zorder\": 1, \"alpha\": 1, \"xindex\": 0, \"data\": \"data01\", \"id\": \"el11969140179943192976\"}, {\"edgecolor\": \"#000000\", \"facecolor\": \"#0000FF\", \"edgewidth\": 0.3, \"pathcodes\": [\"M\", \"L\", \"L\", \"L\", \"Z\"], \"yindex\": 1, \"coordinates\": \"data\", \"dasharray\": \"10,0\", \"zorder\": 1, \"alpha\": 1, \"xindex\": 0, \"data\": \"data02\", \"id\": \"el11969140179943194576\"}, {\"edgecolor\": \"#000000\", \"facecolor\": \"#007F00\", \"edgewidth\": 0.3, \"pathcodes\": [\"M\", \"L\", \"L\", \"L\", \"Z\"], \"yindex\": 1, \"coordinates\": \"data\", \"dasharray\": \"10,0\", \"zorder\": 1, \"alpha\": 1, \"xindex\": 0, \"data\": \"data03\", \"id\": \"el11969140179943254160\"}, {\"edgecolor\": \"#000000\", \"facecolor\": \"#007F00\", \"edgewidth\": 0.3, \"pathcodes\": [\"M\", \"L\", \"L\", \"L\", \"Z\"], \"yindex\": 1, \"coordinates\": \"data\", \"dasharray\": \"10,0\", \"zorder\": 1, \"alpha\": 1, \"xindex\": 0, \"data\": \"data04\", \"id\": \"el11969140179943255440\"}, {\"edgecolor\": \"#000000\", \"facecolor\": \"#0000FF\", \"edgewidth\": 0.3, \"pathcodes\": [\"M\", \"L\", \"L\", \"L\", \"Z\"], \"yindex\": 1, \"coordinates\": \"axes\", \"dasharray\": \"10,0\", \"zorder\": 1000001.0, \"alpha\": 1, \"xindex\": 0, \"data\": \"data05\", \"id\": \"el11969140179943307280\"}, {\"edgecolor\": \"#000000\", \"facecolor\": \"#007F00\", \"edgewidth\": 0.3, \"pathcodes\": [\"M\", \"L\", \"L\", \"L\", \"Z\"], \"yindex\": 2, \"coordinates\": \"axes\", \"dasharray\": \"10,0\", \"zorder\": 1000001.0, \"alpha\": 1, \"xindex\": 0, \"data\": \"data05\", \"id\": \"el11969140179943308560\"}, {\"edgecolor\": \"#CCCCCC\", \"facecolor\": \"#FFFFFF\", \"edgewidth\": 0.3, \"pathcodes\": [\"M\", \"L\", \"L\", \"L\", \"Z\"], \"yindex\": 1, \"coordinates\": \"axes\", \"dasharray\": \"10,0\", \"zorder\": 1000001.0, \"alpha\": 1, \"xindex\": 0, \"data\": \"data06\", \"id\": \"el11969140179943192528\"}], \"sharey\": [], \"sharex\": [], \"axesbgalpha\": null, \"axes\": [{\"scale\": \"linear\", \"tickformat\": null, \"grid\": {\"color\": \"#CCCCCC\", \"alpha\": 1.0, \"dasharray\": \"10,0\", \"gridOn\": true}, \"fontsize\": 10.0, \"position\": \"bottom\", \"nticks\": 2, \"tickvalues\": [0, 1]}, {\"scale\": \"linear\", \"tickformat\": null, \"grid\": {\"color\": \"#CCCCCC\", \"alpha\": 1.0, \"dasharray\": \"10,0\", \"gridOn\": true}, \"fontsize\": 10.0, \"position\": \"left\", \"nticks\": 10, \"tickvalues\": null}], \"lines\": [], \"markers\": [], \"id\": \"el11969140179945092432\", \"ydomain\": [0.0, 0.90000000000000002], \"collections\": [], \"xscale\": \"linear\", \"bbox\": [0.125, 0.125, 0.77500000000000002, 0.77500000000000002]}], \"height\": 640.0, \"width\": 800.0, \"plugins\": [{\"type\": \"reset\"}, {\"enabled\": false, \"button\": true, \"type\": \"zoom\"}, {\"enabled\": false, \"button\": true, \"type\": \"boxzoom\"}], \"data\": {\"data06\": [[0.869847670250896, 0.8879928315412188], [0.9910394265232975, 0.8879928315412188], [0.9910394265232975, 0.9887992831541218], [0.869847670250896, 0.9887992831541218]], \"data04\": [[1.0, 0.0], [1.25, 0.0], [1.25, 0.18890814558058924], [1.0, 0.18890814558058924]], \"data05\": [[0.8869063620071685, 0.932347670250896, 0.9009856630824374], [0.9227486559139786, 0.932347670250896, 0.9009856630824374], [0.9227486559139786, 0.9480286738351255, 0.9166666666666669], [0.8869063620071685, 0.9480286738351255, 0.9166666666666669]], \"data02\": [[0.75, 0.0], [1.0, 0.0], [1.0, 0.8110918544194108], [0.75, 0.8110918544194108]], \"data03\": [[0.0, 0.0], [0.25, 0.0], [0.25, 0.7420382165605095], [0.0, 0.7420382165605095]], \"data01\": [[-0.25, 0.0], [0.0, 0.0], [0.0, 0.25796178343949044], [-0.25, 0.25796178343949044]]}, \"id\": \"el11969140179944824656\"});\n",
       "   }(mpld3);\n",
       "}else if(typeof define === \"function\" && define.amd){\n",
       "   // require.js is available: use it to load d3/mpld3\n",
       "   require.config({paths: {d3: \"https://mpld3.github.io/js/d3.v3.min\"}});\n",
       "   require([\"d3\"], function(d3){\n",
       "      window.d3 = d3;\n",
       "      mpld3_load_lib(\"https://mpld3.github.io/js/mpld3.v0.2.js\", function(){\n",
       "         \n",
       "         mpld3.draw_figure(\"fig_el119691401799448246565621848245\", {\"axes\": [{\"xlim\": [-0.5, 1.5], \"yscale\": \"linear\", \"axesbg\": \"#FFFFFF\", \"texts\": [{\"v_baseline\": \"hanging\", \"h_anchor\": \"middle\", \"color\": \"#262626\", \"text\": \"Sex\", \"coordinates\": \"axes\", \"zorder\": 3, \"alpha\": 1, \"fontsize\": 18.0, \"position\": [0.5, -0.094170026881720423], \"rotation\": -0.0, \"id\": \"el11969140179945665360\"}, {\"v_baseline\": \"auto\", \"h_anchor\": \"middle\", \"color\": \"#262626\", \"text\": \"Survival Proportions by Gender\", \"coordinates\": \"axes\", \"zorder\": 3, \"alpha\": 1, \"fontsize\": 18.0, \"position\": [0.5, 1.0112007168458781], \"rotation\": -0.0, \"id\": \"el11969140179943490448\"}, {\"v_baseline\": \"auto\", \"h_anchor\": \"start\", \"color\": \"#262626\", \"text\": \"lived_or_died\", \"coordinates\": \"axes\", \"zorder\": 1000003.0, \"alpha\": 1, \"fontsize\": 10.0, \"position\": [0.87701612903225812, 0.96370967741935487], \"rotation\": -0.0, \"id\": \"el11969140179943309136\"}, {\"v_baseline\": \"auto\", \"h_anchor\": \"start\", \"color\": \"#262626\", \"text\": \"died\", \"coordinates\": \"axes\", \"zorder\": 1000003.0, \"alpha\": 1, \"fontsize\": 10.0, \"position\": [0.93708557347670263, 0.93234767025089604], \"rotation\": -0.0, \"id\": \"el11969140179943192784\"}, {\"v_baseline\": \"auto\", \"h_anchor\": \"start\", \"color\": \"#262626\", \"text\": \"lived\", \"coordinates\": \"axes\", \"zorder\": 1000003.0, \"alpha\": 1, \"fontsize\": 10.0, \"position\": [0.93708557347670263, 0.90098566308243744], \"rotation\": -0.0, \"id\": \"el11969140179943307664\"}], \"zoomable\": true, \"images\": [], \"xdomain\": [-0.5, 1.5], \"ylim\": [0.0, 0.90000000000000002], \"paths\": [{\"edgecolor\": \"#000000\", \"facecolor\": \"#0000FF\", \"edgewidth\": 0.3, \"pathcodes\": [\"M\", \"L\", \"L\", \"L\", \"Z\"], \"yindex\": 1, \"coordinates\": \"data\", \"dasharray\": \"10,0\", \"zorder\": 1, \"alpha\": 1, \"xindex\": 0, \"data\": \"data01\", \"id\": \"el11969140179943192976\"}, {\"edgecolor\": \"#000000\", \"facecolor\": \"#0000FF\", \"edgewidth\": 0.3, \"pathcodes\": [\"M\", \"L\", \"L\", \"L\", \"Z\"], \"yindex\": 1, \"coordinates\": \"data\", \"dasharray\": \"10,0\", \"zorder\": 1, \"alpha\": 1, \"xindex\": 0, \"data\": \"data02\", \"id\": \"el11969140179943194576\"}, {\"edgecolor\": \"#000000\", \"facecolor\": \"#007F00\", \"edgewidth\": 0.3, \"pathcodes\": [\"M\", \"L\", \"L\", \"L\", \"Z\"], \"yindex\": 1, \"coordinates\": \"data\", \"dasharray\": \"10,0\", \"zorder\": 1, \"alpha\": 1, \"xindex\": 0, \"data\": \"data03\", \"id\": \"el11969140179943254160\"}, {\"edgecolor\": \"#000000\", \"facecolor\": \"#007F00\", \"edgewidth\": 0.3, \"pathcodes\": [\"M\", \"L\", \"L\", \"L\", \"Z\"], \"yindex\": 1, \"coordinates\": \"data\", \"dasharray\": \"10,0\", \"zorder\": 1, \"alpha\": 1, \"xindex\": 0, \"data\": \"data04\", \"id\": \"el11969140179943255440\"}, {\"edgecolor\": \"#000000\", \"facecolor\": \"#0000FF\", \"edgewidth\": 0.3, \"pathcodes\": [\"M\", \"L\", \"L\", \"L\", \"Z\"], \"yindex\": 1, \"coordinates\": \"axes\", \"dasharray\": \"10,0\", \"zorder\": 1000001.0, \"alpha\": 1, \"xindex\": 0, \"data\": \"data05\", \"id\": \"el11969140179943307280\"}, {\"edgecolor\": \"#000000\", \"facecolor\": \"#007F00\", \"edgewidth\": 0.3, \"pathcodes\": [\"M\", \"L\", \"L\", \"L\", \"Z\"], \"yindex\": 2, \"coordinates\": \"axes\", \"dasharray\": \"10,0\", \"zorder\": 1000001.0, \"alpha\": 1, \"xindex\": 0, \"data\": \"data05\", \"id\": \"el11969140179943308560\"}, {\"edgecolor\": \"#CCCCCC\", \"facecolor\": \"#FFFFFF\", \"edgewidth\": 0.3, \"pathcodes\": [\"M\", \"L\", \"L\", \"L\", \"Z\"], \"yindex\": 1, \"coordinates\": \"axes\", \"dasharray\": \"10,0\", \"zorder\": 1000001.0, \"alpha\": 1, \"xindex\": 0, \"data\": \"data06\", \"id\": \"el11969140179943192528\"}], \"sharey\": [], \"sharex\": [], \"axesbgalpha\": null, \"axes\": [{\"scale\": \"linear\", \"tickformat\": null, \"grid\": {\"color\": \"#CCCCCC\", \"alpha\": 1.0, \"dasharray\": \"10,0\", \"gridOn\": true}, \"fontsize\": 10.0, \"position\": \"bottom\", \"nticks\": 2, \"tickvalues\": [0, 1]}, {\"scale\": \"linear\", \"tickformat\": null, \"grid\": {\"color\": \"#CCCCCC\", \"alpha\": 1.0, \"dasharray\": \"10,0\", \"gridOn\": true}, \"fontsize\": 10.0, \"position\": \"left\", \"nticks\": 10, \"tickvalues\": null}], \"lines\": [], \"markers\": [], \"id\": \"el11969140179945092432\", \"ydomain\": [0.0, 0.90000000000000002], \"collections\": [], \"xscale\": \"linear\", \"bbox\": [0.125, 0.125, 0.77500000000000002, 0.77500000000000002]}], \"height\": 640.0, \"width\": 800.0, \"plugins\": [{\"type\": \"reset\"}, {\"enabled\": false, \"button\": true, \"type\": \"zoom\"}, {\"enabled\": false, \"button\": true, \"type\": \"boxzoom\"}], \"data\": {\"data06\": [[0.869847670250896, 0.8879928315412188], [0.9910394265232975, 0.8879928315412188], [0.9910394265232975, 0.9887992831541218], [0.869847670250896, 0.9887992831541218]], \"data04\": [[1.0, 0.0], [1.25, 0.0], [1.25, 0.18890814558058924], [1.0, 0.18890814558058924]], \"data05\": [[0.8869063620071685, 0.932347670250896, 0.9009856630824374], [0.9227486559139786, 0.932347670250896, 0.9009856630824374], [0.9227486559139786, 0.9480286738351255, 0.9166666666666669], [0.8869063620071685, 0.9480286738351255, 0.9166666666666669]], \"data02\": [[0.75, 0.0], [1.0, 0.0], [1.0, 0.8110918544194108], [0.75, 0.8110918544194108]], \"data03\": [[0.0, 0.0], [0.25, 0.0], [0.25, 0.7420382165605095], [0.0, 0.7420382165605095]], \"data01\": [[-0.25, 0.0], [0.0, 0.0], [0.0, 0.25796178343949044], [-0.25, 0.25796178343949044]]}, \"id\": \"el11969140179944824656\"});\n",
       "      });\n",
       "    });\n",
       "}else{\n",
       "    // require.js not available: dynamically load d3 & mpld3\n",
       "    mpld3_load_lib(\"https://mpld3.github.io/js/d3.v3.min.js\", function(){\n",
       "         mpld3_load_lib(\"https://mpld3.github.io/js/mpld3.v0.2.js\", function(){\n",
       "                 \n",
       "                 mpld3.draw_figure(\"fig_el119691401799448246565621848245\", {\"axes\": [{\"xlim\": [-0.5, 1.5], \"yscale\": \"linear\", \"axesbg\": \"#FFFFFF\", \"texts\": [{\"v_baseline\": \"hanging\", \"h_anchor\": \"middle\", \"color\": \"#262626\", \"text\": \"Sex\", \"coordinates\": \"axes\", \"zorder\": 3, \"alpha\": 1, \"fontsize\": 18.0, \"position\": [0.5, -0.094170026881720423], \"rotation\": -0.0, \"id\": \"el11969140179945665360\"}, {\"v_baseline\": \"auto\", \"h_anchor\": \"middle\", \"color\": \"#262626\", \"text\": \"Survival Proportions by Gender\", \"coordinates\": \"axes\", \"zorder\": 3, \"alpha\": 1, \"fontsize\": 18.0, \"position\": [0.5, 1.0112007168458781], \"rotation\": -0.0, \"id\": \"el11969140179943490448\"}, {\"v_baseline\": \"auto\", \"h_anchor\": \"start\", \"color\": \"#262626\", \"text\": \"lived_or_died\", \"coordinates\": \"axes\", \"zorder\": 1000003.0, \"alpha\": 1, \"fontsize\": 10.0, \"position\": [0.87701612903225812, 0.96370967741935487], \"rotation\": -0.0, \"id\": \"el11969140179943309136\"}, {\"v_baseline\": \"auto\", \"h_anchor\": \"start\", \"color\": \"#262626\", \"text\": \"died\", \"coordinates\": \"axes\", \"zorder\": 1000003.0, \"alpha\": 1, \"fontsize\": 10.0, \"position\": [0.93708557347670263, 0.93234767025089604], \"rotation\": -0.0, \"id\": \"el11969140179943192784\"}, {\"v_baseline\": \"auto\", \"h_anchor\": \"start\", \"color\": \"#262626\", \"text\": \"lived\", \"coordinates\": \"axes\", \"zorder\": 1000003.0, \"alpha\": 1, \"fontsize\": 10.0, \"position\": [0.93708557347670263, 0.90098566308243744], \"rotation\": -0.0, \"id\": \"el11969140179943307664\"}], \"zoomable\": true, \"images\": [], \"xdomain\": [-0.5, 1.5], \"ylim\": [0.0, 0.90000000000000002], \"paths\": [{\"edgecolor\": \"#000000\", \"facecolor\": \"#0000FF\", \"edgewidth\": 0.3, \"pathcodes\": [\"M\", \"L\", \"L\", \"L\", \"Z\"], \"yindex\": 1, \"coordinates\": \"data\", \"dasharray\": \"10,0\", \"zorder\": 1, \"alpha\": 1, \"xindex\": 0, \"data\": \"data01\", \"id\": \"el11969140179943192976\"}, {\"edgecolor\": \"#000000\", \"facecolor\": \"#0000FF\", \"edgewidth\": 0.3, \"pathcodes\": [\"M\", \"L\", \"L\", \"L\", \"Z\"], \"yindex\": 1, \"coordinates\": \"data\", \"dasharray\": \"10,0\", \"zorder\": 1, \"alpha\": 1, \"xindex\": 0, \"data\": \"data02\", \"id\": \"el11969140179943194576\"}, {\"edgecolor\": \"#000000\", \"facecolor\": \"#007F00\", \"edgewidth\": 0.3, \"pathcodes\": [\"M\", \"L\", \"L\", \"L\", \"Z\"], \"yindex\": 1, \"coordinates\": \"data\", \"dasharray\": \"10,0\", \"zorder\": 1, \"alpha\": 1, \"xindex\": 0, \"data\": \"data03\", \"id\": \"el11969140179943254160\"}, {\"edgecolor\": \"#000000\", \"facecolor\": \"#007F00\", \"edgewidth\": 0.3, \"pathcodes\": [\"M\", \"L\", \"L\", \"L\", \"Z\"], \"yindex\": 1, \"coordinates\": \"data\", \"dasharray\": \"10,0\", \"zorder\": 1, \"alpha\": 1, \"xindex\": 0, \"data\": \"data04\", \"id\": \"el11969140179943255440\"}, {\"edgecolor\": \"#000000\", \"facecolor\": \"#0000FF\", \"edgewidth\": 0.3, \"pathcodes\": [\"M\", \"L\", \"L\", \"L\", \"Z\"], \"yindex\": 1, \"coordinates\": \"axes\", \"dasharray\": \"10,0\", \"zorder\": 1000001.0, \"alpha\": 1, \"xindex\": 0, \"data\": \"data05\", \"id\": \"el11969140179943307280\"}, {\"edgecolor\": \"#000000\", \"facecolor\": \"#007F00\", \"edgewidth\": 0.3, \"pathcodes\": [\"M\", \"L\", \"L\", \"L\", \"Z\"], \"yindex\": 2, \"coordinates\": \"axes\", \"dasharray\": \"10,0\", \"zorder\": 1000001.0, \"alpha\": 1, \"xindex\": 0, \"data\": \"data05\", \"id\": \"el11969140179943308560\"}, {\"edgecolor\": \"#CCCCCC\", \"facecolor\": \"#FFFFFF\", \"edgewidth\": 0.3, \"pathcodes\": [\"M\", \"L\", \"L\", \"L\", \"Z\"], \"yindex\": 1, \"coordinates\": \"axes\", \"dasharray\": \"10,0\", \"zorder\": 1000001.0, \"alpha\": 1, \"xindex\": 0, \"data\": \"data06\", \"id\": \"el11969140179943192528\"}], \"sharey\": [], \"sharex\": [], \"axesbgalpha\": null, \"axes\": [{\"scale\": \"linear\", \"tickformat\": null, \"grid\": {\"color\": \"#CCCCCC\", \"alpha\": 1.0, \"dasharray\": \"10,0\", \"gridOn\": true}, \"fontsize\": 10.0, \"position\": \"bottom\", \"nticks\": 2, \"tickvalues\": [0, 1]}, {\"scale\": \"linear\", \"tickformat\": null, \"grid\": {\"color\": \"#CCCCCC\", \"alpha\": 1.0, \"dasharray\": \"10,0\", \"gridOn\": true}, \"fontsize\": 10.0, \"position\": \"left\", \"nticks\": 10, \"tickvalues\": null}], \"lines\": [], \"markers\": [], \"id\": \"el11969140179945092432\", \"ydomain\": [0.0, 0.90000000000000002], \"collections\": [], \"xscale\": \"linear\", \"bbox\": [0.125, 0.125, 0.77500000000000002, 0.77500000000000002]}], \"height\": 640.0, \"width\": 800.0, \"plugins\": [{\"type\": \"reset\"}, {\"enabled\": false, \"button\": true, \"type\": \"zoom\"}, {\"enabled\": false, \"button\": true, \"type\": \"boxzoom\"}], \"data\": {\"data06\": [[0.869847670250896, 0.8879928315412188], [0.9910394265232975, 0.8879928315412188], [0.9910394265232975, 0.9887992831541218], [0.869847670250896, 0.9887992831541218]], \"data04\": [[1.0, 0.0], [1.25, 0.0], [1.25, 0.18890814558058924], [1.0, 0.18890814558058924]], \"data05\": [[0.8869063620071685, 0.932347670250896, 0.9009856630824374], [0.9227486559139786, 0.932347670250896, 0.9009856630824374], [0.9227486559139786, 0.9480286738351255, 0.9166666666666669], [0.8869063620071685, 0.9480286738351255, 0.9166666666666669]], \"data02\": [[0.75, 0.0], [1.0, 0.0], [1.0, 0.8110918544194108], [0.75, 0.8110918544194108]], \"data03\": [[0.0, 0.0], [0.25, 0.0], [0.25, 0.7420382165605095], [0.0, 0.7420382165605095]], \"data01\": [[-0.25, 0.0], [0.0, 0.0], [0.0, 0.25796178343949044], [-0.25, 0.25796178343949044]]}, \"id\": \"el11969140179944824656\"});\n",
       "            })\n",
       "         });\n",
       "}\n",
       "</script>"
      ],
      "text/plain": [
       "<matplotlib.figure.Figure at 0x7f7e2fd0df50>"
      ]
     },
     "metadata": {},
     "output_type": "display_data"
    }
   ],
   "source": [
    "figure = plot.figure()\n",
    "axe = figure.gca()\n",
    "axe = survival_by_sex_proportions.plot.bar(title='Survival Proportions by Gender', ax=axe)"
   ]
  },
  {
   "cell_type": "markdown",
   "metadata": {
    "ein.tags": [
     "worksheet-0"
    ]
   },
   "source": [
    "Examining the survival statistics, a large majority of males did not survive the ship sinking. However, a majority of females *did* survive the ship sinking. Let's build on our previous prediction: If a passenger was female, then we will predict that they survived. Otherwise, we will predict the passenger did not survive.  \n",
    "Fill in the missing code below so that the function will make this prediction.  \n",
    "**Hint:** You can access the values of each feature for a passenger like a dictionary. For example, `passenger['Sex']` is the sex of the passenger."
   ]
  },
  {
   "cell_type": "code",
   "execution_count": 19,
   "metadata": {
    "autoscroll": "json-false",
    "collapsed": false,
    "ein.tags": [
     "worksheet-0"
    ]
   },
   "outputs": [],
   "source": [
    "def predict_females_survive(data):\n",
    "    \"\"\" Model with one feature: \n",
    "            - Predict a passenger survived if they are female. \"\"\"\n",
    "    sex_map = {'female': 1,\n",
    "               'male': 0}\n",
    "    predictions = data.Sex.map(sex_map)\n",
    "    return predictions\n",
    "\n",
    "# Make the predictions\n",
    "predictions_females = predict_females_survive(data)"
   ]
  },
  {
   "cell_type": "markdown",
   "metadata": {
    "ein.tags": [
     "worksheet-0"
    ]
   },
   "source": [
    "### Question 2"
   ]
  },
  {
   "cell_type": "markdown",
   "metadata": {
    "ein.tags": [
     "worksheet-0"
    ]
   },
   "source": [
    "*How accurate would a prediction be that all female passengers survived and the remaining passengers did not survive?*  \n",
    "**Hint:** Run the code cell below to see the accuracy of this prediction."
   ]
  },
  {
   "cell_type": "code",
   "execution_count": 20,
   "metadata": {
    "autoscroll": "json-false",
    "collapsed": false,
    "ein.tags": [
     "worksheet-0"
    ]
   },
   "outputs": [
    {
     "name": "stdout",
     "output_type": "stream",
     "text": [
      "Predictions have an accuracy of 78.68%.\n"
     ]
    }
   ],
   "source": [
    "print accuracy_score(outcomes, predictions_females)"
   ]
  },
  {
   "cell_type": "markdown",
   "metadata": {
    "ein.tags": [
     "worksheet-0"
    ]
   },
   "source": [
    "**Answer**: Replace this text with the prediction accuracy you found above."
   ]
  },
  {
   "cell_type": "markdown",
   "metadata": {
    "ein.tags": [
     "worksheet-0"
    ]
   },
   "source": [
    "Using just the **Sex** feature for each passenger, we are able to increase the accuracy of our predictions by a significant margin. Now, let's consider using an additional feature to see if we can further improve our predictions. Consider, for example, all of the male passengers aboard the RMS Titanic: Can we find a subset of those passengers that had a higher rate of survival? Let's start by looking at the **Age** of each male, by again using the `survival_stats` function. This time, we'll use a fourth parameter to filter out the data so that only passengers with the **Sex** 'male' will be included.  \n",
    "Run the code cell below to plot the survival outcomes of male passengers based on their age."
   ]
  },
  {
   "cell_type": "code",
   "execution_count": 21,
   "metadata": {
    "autoscroll": "json-false",
    "collapsed": false,
    "ein.tags": [
     "worksheet-0"
    ]
   },
   "outputs": [
    {
     "ename": "ValueError",
     "evalue": "range parameter must be finite.",
     "output_type": "error",
     "traceback": [
      "\u001b[1;31m---------------------------------------------------------------------------\u001b[0m",
      "\u001b[1;31mValueError\u001b[0m                                Traceback (most recent call last)",
      "\u001b[1;32m<ipython-input-21-56a6dc4561f6>\u001b[0m in \u001b[0;36m<module>\u001b[1;34m()\u001b[0m\n\u001b[1;32m----> 1\u001b[1;33m \u001b[0msurvival_stats\u001b[0m\u001b[1;33m(\u001b[0m\u001b[0mdata\u001b[0m\u001b[1;33m,\u001b[0m \u001b[0moutcomes\u001b[0m\u001b[1;33m,\u001b[0m \u001b[1;34m'Age'\u001b[0m\u001b[1;33m,\u001b[0m \u001b[1;33m[\u001b[0m\u001b[1;34m\"Sex == 'male'\"\u001b[0m\u001b[1;33m]\u001b[0m\u001b[1;33m)\u001b[0m\u001b[1;33m\u001b[0m\u001b[0m\n\u001b[0m",
      "\u001b[1;32m/home/cronos/projects/machine_learning/machine_learning/udacity/project_0/titanic_visualizations.pyc\u001b[0m in \u001b[0;36msurvival_stats\u001b[1;34m(data, outcomes, key, filters)\u001b[0m\n\u001b[0;32m     88\u001b[0m         \u001b[0msurv_vals\u001b[0m \u001b[1;33m=\u001b[0m \u001b[0mall_data\u001b[0m\u001b[1;33m[\u001b[0m\u001b[0mall_data\u001b[0m\u001b[1;33m[\u001b[0m\u001b[1;34m'Survived'\u001b[0m\u001b[1;33m]\u001b[0m \u001b[1;33m==\u001b[0m \u001b[1;36m1\u001b[0m\u001b[1;33m]\u001b[0m\u001b[1;33m[\u001b[0m\u001b[0mkey\u001b[0m\u001b[1;33m]\u001b[0m\u001b[1;33m.\u001b[0m\u001b[0mreset_index\u001b[0m\u001b[1;33m(\u001b[0m\u001b[0mdrop\u001b[0m \u001b[1;33m=\u001b[0m \u001b[0mTrue\u001b[0m\u001b[1;33m)\u001b[0m\u001b[1;33m\u001b[0m\u001b[0m\n\u001b[0;32m     89\u001b[0m         plt.hist(nonsurv_vals, bins = bins, alpha = 0.6,\n\u001b[1;32m---> 90\u001b[1;33m                  color = 'red', label = 'Did not survive')\n\u001b[0m\u001b[0;32m     91\u001b[0m         plt.hist(surv_vals, bins = bins, alpha = 0.6,\n\u001b[0;32m     92\u001b[0m                  color = 'green', label = 'Survived')\n",
      "\u001b[1;32m/home/cronos/.virtualenvs/machinelearning/local/lib/python2.7/site-packages/matplotlib/pyplot.pyc\u001b[0m in \u001b[0;36mhist\u001b[1;34m(x, bins, range, normed, weights, cumulative, bottom, histtype, align, orientation, rwidth, log, color, label, stacked, hold, data, **kwargs)\u001b[0m\n\u001b[0;32m   2956\u001b[0m                       \u001b[0mhisttype\u001b[0m\u001b[1;33m=\u001b[0m\u001b[0mhisttype\u001b[0m\u001b[1;33m,\u001b[0m \u001b[0malign\u001b[0m\u001b[1;33m=\u001b[0m\u001b[0malign\u001b[0m\u001b[1;33m,\u001b[0m \u001b[0morientation\u001b[0m\u001b[1;33m=\u001b[0m\u001b[0morientation\u001b[0m\u001b[1;33m,\u001b[0m\u001b[1;33m\u001b[0m\u001b[0m\n\u001b[0;32m   2957\u001b[0m                       \u001b[0mrwidth\u001b[0m\u001b[1;33m=\u001b[0m\u001b[0mrwidth\u001b[0m\u001b[1;33m,\u001b[0m \u001b[0mlog\u001b[0m\u001b[1;33m=\u001b[0m\u001b[0mlog\u001b[0m\u001b[1;33m,\u001b[0m \u001b[0mcolor\u001b[0m\u001b[1;33m=\u001b[0m\u001b[0mcolor\u001b[0m\u001b[1;33m,\u001b[0m \u001b[0mlabel\u001b[0m\u001b[1;33m=\u001b[0m\u001b[0mlabel\u001b[0m\u001b[1;33m,\u001b[0m\u001b[1;33m\u001b[0m\u001b[0m\n\u001b[1;32m-> 2958\u001b[1;33m                       stacked=stacked, data=data, **kwargs)\n\u001b[0m\u001b[0;32m   2959\u001b[0m     \u001b[1;32mfinally\u001b[0m\u001b[1;33m:\u001b[0m\u001b[1;33m\u001b[0m\u001b[0m\n\u001b[0;32m   2960\u001b[0m         \u001b[0max\u001b[0m\u001b[1;33m.\u001b[0m\u001b[0mhold\u001b[0m\u001b[1;33m(\u001b[0m\u001b[0mwashold\u001b[0m\u001b[1;33m)\u001b[0m\u001b[1;33m\u001b[0m\u001b[0m\n",
      "\u001b[1;32m/home/cronos/.virtualenvs/machinelearning/local/lib/python2.7/site-packages/matplotlib/__init__.pyc\u001b[0m in \u001b[0;36minner\u001b[1;34m(ax, *args, **kwargs)\u001b[0m\n\u001b[0;32m   1810\u001b[0m                     warnings.warn(msg % (label_namer, func.__name__),\n\u001b[0;32m   1811\u001b[0m                                   RuntimeWarning, stacklevel=2)\n\u001b[1;32m-> 1812\u001b[1;33m             \u001b[1;32mreturn\u001b[0m \u001b[0mfunc\u001b[0m\u001b[1;33m(\u001b[0m\u001b[0max\u001b[0m\u001b[1;33m,\u001b[0m \u001b[1;33m*\u001b[0m\u001b[0margs\u001b[0m\u001b[1;33m,\u001b[0m \u001b[1;33m**\u001b[0m\u001b[0mkwargs\u001b[0m\u001b[1;33m)\u001b[0m\u001b[1;33m\u001b[0m\u001b[0m\n\u001b[0m\u001b[0;32m   1813\u001b[0m         \u001b[0mpre_doc\u001b[0m \u001b[1;33m=\u001b[0m \u001b[0minner\u001b[0m\u001b[1;33m.\u001b[0m\u001b[0m__doc__\u001b[0m\u001b[1;33m\u001b[0m\u001b[0m\n\u001b[0;32m   1814\u001b[0m         \u001b[1;32mif\u001b[0m \u001b[0mpre_doc\u001b[0m \u001b[1;32mis\u001b[0m \u001b[0mNone\u001b[0m\u001b[1;33m:\u001b[0m\u001b[1;33m\u001b[0m\u001b[0m\n",
      "\u001b[1;32m/home/cronos/.virtualenvs/machinelearning/local/lib/python2.7/site-packages/matplotlib/axes/_axes.pyc\u001b[0m in \u001b[0;36mhist\u001b[1;34m(self, x, bins, range, normed, weights, cumulative, bottom, histtype, align, orientation, rwidth, log, color, label, stacked, **kwargs)\u001b[0m\n\u001b[0;32m   6008\u001b[0m             \u001b[1;31m# this will automatically overwrite bins,\u001b[0m\u001b[1;33m\u001b[0m\u001b[1;33m\u001b[0m\u001b[0m\n\u001b[0;32m   6009\u001b[0m             \u001b[1;31m# so that each histogram uses the same bins\u001b[0m\u001b[1;33m\u001b[0m\u001b[1;33m\u001b[0m\u001b[0m\n\u001b[1;32m-> 6010\u001b[1;33m             \u001b[0mm\u001b[0m\u001b[1;33m,\u001b[0m \u001b[0mbins\u001b[0m \u001b[1;33m=\u001b[0m \u001b[0mnp\u001b[0m\u001b[1;33m.\u001b[0m\u001b[0mhistogram\u001b[0m\u001b[1;33m(\u001b[0m\u001b[0mx\u001b[0m\u001b[1;33m[\u001b[0m\u001b[0mi\u001b[0m\u001b[1;33m]\u001b[0m\u001b[1;33m,\u001b[0m \u001b[0mbins\u001b[0m\u001b[1;33m,\u001b[0m \u001b[0mweights\u001b[0m\u001b[1;33m=\u001b[0m\u001b[0mw\u001b[0m\u001b[1;33m[\u001b[0m\u001b[0mi\u001b[0m\u001b[1;33m]\u001b[0m\u001b[1;33m,\u001b[0m \u001b[1;33m**\u001b[0m\u001b[0mhist_kwargs\u001b[0m\u001b[1;33m)\u001b[0m\u001b[1;33m\u001b[0m\u001b[0m\n\u001b[0m\u001b[0;32m   6011\u001b[0m             \u001b[0mm\u001b[0m \u001b[1;33m=\u001b[0m \u001b[0mm\u001b[0m\u001b[1;33m.\u001b[0m\u001b[0mastype\u001b[0m\u001b[1;33m(\u001b[0m\u001b[0mfloat\u001b[0m\u001b[1;33m)\u001b[0m  \u001b[1;31m# causes problems later if it's an int\u001b[0m\u001b[1;33m\u001b[0m\u001b[0m\n\u001b[0;32m   6012\u001b[0m             \u001b[1;32mif\u001b[0m \u001b[0mmlast\u001b[0m \u001b[1;32mis\u001b[0m \u001b[0mNone\u001b[0m\u001b[1;33m:\u001b[0m\u001b[1;33m\u001b[0m\u001b[0m\n",
      "\u001b[1;32m/home/cronos/.virtualenvs/machinelearning/local/lib/python2.7/site-packages/numpy/lib/function_base.pyc\u001b[0m in \u001b[0;36mhistogram\u001b[1;34m(a, bins, range, normed, weights, density)\u001b[0m\n\u001b[0;32m    503\u001b[0m     \u001b[1;32mif\u001b[0m \u001b[1;32mnot\u001b[0m \u001b[0mnp\u001b[0m\u001b[1;33m.\u001b[0m\u001b[0mall\u001b[0m\u001b[1;33m(\u001b[0m\u001b[0mnp\u001b[0m\u001b[1;33m.\u001b[0m\u001b[0misfinite\u001b[0m\u001b[1;33m(\u001b[0m\u001b[1;33m[\u001b[0m\u001b[0mmn\u001b[0m\u001b[1;33m,\u001b[0m \u001b[0mmx\u001b[0m\u001b[1;33m]\u001b[0m\u001b[1;33m)\u001b[0m\u001b[1;33m)\u001b[0m\u001b[1;33m:\u001b[0m\u001b[1;33m\u001b[0m\u001b[0m\n\u001b[0;32m    504\u001b[0m         raise ValueError(\n\u001b[1;32m--> 505\u001b[1;33m             'range parameter must be finite.')\n\u001b[0m\u001b[0;32m    506\u001b[0m     \u001b[1;32mif\u001b[0m \u001b[0mmn\u001b[0m \u001b[1;33m==\u001b[0m \u001b[0mmx\u001b[0m\u001b[1;33m:\u001b[0m\u001b[1;33m\u001b[0m\u001b[0m\n\u001b[0;32m    507\u001b[0m         \u001b[0mmn\u001b[0m \u001b[1;33m-=\u001b[0m \u001b[1;36m0.5\u001b[0m\u001b[1;33m\u001b[0m\u001b[0m\n",
      "\u001b[1;31mValueError\u001b[0m: range parameter must be finite."
     ]
    },
    {
     "data": {
      "image/png": "[encoded data removed]",
      "text/html": [
       "\n",
       "\n",
       "<style>\n",
       "\n",
       "</style>\n",
       "\n",
       "<div id=\"fig_el119691401807534496806944551348\"></div>\n",
       "<script>\n",
       "function mpld3_load_lib(url, callback){\n",
       "  var s = document.createElement('script');\n",
       "  s.src = url;\n",
       "  s.async = true;\n",
       "  s.onreadystatechange = s.onload = callback;\n",
       "  s.onerror = function(){console.warn(\"failed to load library \" + url);};\n",
       "  document.getElementsByTagName(\"head\")[0].appendChild(s);\n",
       "}\n",
       "\n",
       "if(typeof(mpld3) !== \"undefined\" && mpld3._mpld3IsLoaded){\n",
       "   // already loaded: just create the figure\n",
       "   !function(mpld3){\n",
       "       \n",
       "       mpld3.draw_figure(\"fig_el119691401807534496806944551348\", {\"axes\": [{\"xlim\": [0.0, 1.0], \"yscale\": \"linear\", \"axesbg\": \"#FFFFFF\", \"texts\": [], \"zoomable\": true, \"images\": [], \"xdomain\": [0.0, 1.0], \"ylim\": [0.0, 1.0], \"paths\": [], \"sharey\": [], \"sharex\": [], \"axesbgalpha\": null, \"axes\": [{\"scale\": \"linear\", \"tickformat\": null, \"grid\": {\"color\": \"#CCCCCC\", \"alpha\": 1.0, \"dasharray\": \"10,0\", \"gridOn\": true}, \"fontsize\": 10.0, \"position\": \"bottom\", \"nticks\": 6, \"tickvalues\": null}, {\"scale\": \"linear\", \"tickformat\": null, \"grid\": {\"color\": \"#CCCCCC\", \"alpha\": 1.0, \"dasharray\": \"10,0\", \"gridOn\": true}, \"fontsize\": 10.0, \"position\": \"left\", \"nticks\": 6, \"tickvalues\": null}], \"lines\": [], \"markers\": [], \"id\": \"el11969140179942916880\", \"ydomain\": [0.0, 1.0], \"collections\": [], \"xscale\": \"linear\", \"bbox\": [0.125, 0.125, 0.77500000000000002, 0.77500000000000002]}], \"height\": 480.0, \"width\": 640.0, \"plugins\": [{\"type\": \"reset\"}, {\"enabled\": false, \"button\": true, \"type\": \"zoom\"}, {\"enabled\": false, \"button\": true, \"type\": \"boxzoom\"}], \"data\": {}, \"id\": \"el11969140180753449680\"});\n",
       "   }(mpld3);\n",
       "}else if(typeof define === \"function\" && define.amd){\n",
       "   // require.js is available: use it to load d3/mpld3\n",
       "   require.config({paths: {d3: \"https://mpld3.github.io/js/d3.v3.min\"}});\n",
       "   require([\"d3\"], function(d3){\n",
       "      window.d3 = d3;\n",
       "      mpld3_load_lib(\"https://mpld3.github.io/js/mpld3.v0.2.js\", function(){\n",
       "         \n",
       "         mpld3.draw_figure(\"fig_el119691401807534496806944551348\", {\"axes\": [{\"xlim\": [0.0, 1.0], \"yscale\": \"linear\", \"axesbg\": \"#FFFFFF\", \"texts\": [], \"zoomable\": true, \"images\": [], \"xdomain\": [0.0, 1.0], \"ylim\": [0.0, 1.0], \"paths\": [], \"sharey\": [], \"sharex\": [], \"axesbgalpha\": null, \"axes\": [{\"scale\": \"linear\", \"tickformat\": null, \"grid\": {\"color\": \"#CCCCCC\", \"alpha\": 1.0, \"dasharray\": \"10,0\", \"gridOn\": true}, \"fontsize\": 10.0, \"position\": \"bottom\", \"nticks\": 6, \"tickvalues\": null}, {\"scale\": \"linear\", \"tickformat\": null, \"grid\": {\"color\": \"#CCCCCC\", \"alpha\": 1.0, \"dasharray\": \"10,0\", \"gridOn\": true}, \"fontsize\": 10.0, \"position\": \"left\", \"nticks\": 6, \"tickvalues\": null}], \"lines\": [], \"markers\": [], \"id\": \"el11969140179942916880\", \"ydomain\": [0.0, 1.0], \"collections\": [], \"xscale\": \"linear\", \"bbox\": [0.125, 0.125, 0.77500000000000002, 0.77500000000000002]}], \"height\": 480.0, \"width\": 640.0, \"plugins\": [{\"type\": \"reset\"}, {\"enabled\": false, \"button\": true, \"type\": \"zoom\"}, {\"enabled\": false, \"button\": true, \"type\": \"boxzoom\"}], \"data\": {}, \"id\": \"el11969140180753449680\"});\n",
       "      });\n",
       "    });\n",
       "}else{\n",
       "    // require.js not available: dynamically load d3 & mpld3\n",
       "    mpld3_load_lib(\"https://mpld3.github.io/js/d3.v3.min.js\", function(){\n",
       "         mpld3_load_lib(\"https://mpld3.github.io/js/mpld3.v0.2.js\", function(){\n",
       "                 \n",
       "                 mpld3.draw_figure(\"fig_el119691401807534496806944551348\", {\"axes\": [{\"xlim\": [0.0, 1.0], \"yscale\": \"linear\", \"axesbg\": \"#FFFFFF\", \"texts\": [], \"zoomable\": true, \"images\": [], \"xdomain\": [0.0, 1.0], \"ylim\": [0.0, 1.0], \"paths\": [], \"sharey\": [], \"sharex\": [], \"axesbgalpha\": null, \"axes\": [{\"scale\": \"linear\", \"tickformat\": null, \"grid\": {\"color\": \"#CCCCCC\", \"alpha\": 1.0, \"dasharray\": \"10,0\", \"gridOn\": true}, \"fontsize\": 10.0, \"position\": \"bottom\", \"nticks\": 6, \"tickvalues\": null}, {\"scale\": \"linear\", \"tickformat\": null, \"grid\": {\"color\": \"#CCCCCC\", \"alpha\": 1.0, \"dasharray\": \"10,0\", \"gridOn\": true}, \"fontsize\": 10.0, \"position\": \"left\", \"nticks\": 6, \"tickvalues\": null}], \"lines\": [], \"markers\": [], \"id\": \"el11969140179942916880\", \"ydomain\": [0.0, 1.0], \"collections\": [], \"xscale\": \"linear\", \"bbox\": [0.125, 0.125, 0.77500000000000002, 0.77500000000000002]}], \"height\": 480.0, \"width\": 640.0, \"plugins\": [{\"type\": \"reset\"}, {\"enabled\": false, \"button\": true, \"type\": \"zoom\"}, {\"enabled\": false, \"button\": true, \"type\": \"boxzoom\"}], \"data\": {}, \"id\": \"el11969140180753449680\"});\n",
       "            })\n",
       "         });\n",
       "}\n",
       "</script>"
      ],
      "text/plain": [
       "<matplotlib.figure.Figure at 0x7f7e600382d0>"
      ]
     },
     "metadata": {},
     "output_type": "display_data"
    }
   ],
   "source": [
    "survival_stats(data, outcomes, 'Age', [\"Sex == 'male'\"])"
   ]
  },
  {
   "cell_type": "markdown",
   "metadata": {
    "ein.tags": [
     "worksheet-0"
    ]
   },
   "source": [
    "Examining the survival statistics, the majority of males younger then 10 survived the ship sinking, whereas most males age 10 or older *did not survive* the ship sinking. Let's continue to build on our previous prediction: If a passenger was female, then we will predict they survive. If a passenger was male and younger than 10, then we will also predict they survive. Otherwise, we will predict they do not survive.  \n",
    "Fill in the missing code below so that the function will make this prediction.  \n",
    "**Hint:** You can start your implementation of this function using the prediction code you wrote earlier from `predictions_1`."
   ]
  },
  {
   "cell_type": "code",
   "execution_count": 22,
   "metadata": {
    "autoscroll": "json-false",
    "collapsed": false,
    "ein.tags": [
     "worksheet-0"
    ]
   },
   "outputs": [
    {
     "name": "stdout",
     "output_type": "stream",
     "text": [
      "There are 177 missing Age data entries.\n",
      "Of the missing, 124 are male.\n"
     ]
    }
   ],
   "source": [
    "missing_ages = data[numpy.isnan(data.Age)]\n",
    "print(\"There are {0} missing Age data entries.\".format(len(missing_ages)))\n",
    "missing_ages_male = missing_ages[missing_ages.Sex == 'male']\n",
    "print('Of the missing, {0} are male.'.format(len(missing_ages_male)))"
   ]
  },
  {
   "cell_type": "markdown",
   "metadata": {
    "ein.tags": [
     "worksheet-0"
    ]
   },
   "source": [
    "First, pretend the data isn't missing."
   ]
  },
  {
   "cell_type": "code",
   "execution_count": 23,
   "metadata": {
    "autoscroll": "json-false",
    "collapsed": false,
    "ein.tags": [
     "worksheet-0"
    ]
   },
   "outputs": [
    {
     "data": {
      "text/plain": [
       "Index([u'PassengerId', u'Survived', u'Pclass', u'Name', u'Sex', u'Age',\n",
       "       u'SibSp', u'Parch', u'Ticket', u'Fare', u'Cabin', u'Embarked',\n",
       "       u'lived_or_died'],\n",
       "      dtype='object')"
      ]
     },
     "execution_count": 23,
     "metadata": {},
     "output_type": "execute_result"
    }
   ],
   "source": [
    "males.columns"
   ]
  },
  {
   "cell_type": "code",
   "execution_count": 24,
   "metadata": {
    "autoscroll": "json-false",
    "collapsed": false,
    "ein.tags": [
     "worksheet-0"
    ]
   },
   "outputs": [
    {
     "data": {
      "image/png": "[encoded data removed]",
      "text/html": [
       "\n",
       "\n",
       "<style>\n",
       "\n",
       "</style>\n",
       "\n",
       "<div id=\"fig_el119691401799452615209973682039\"></div>\n",
       "<script>\n",
       "function mpld3_load_lib(url, callback){\n",
       "  var s = document.createElement('script');\n",
       "  s.src = url;\n",
       "  s.async = true;\n",
       "  s.onreadystatechange = s.onload = callback;\n",
       "  s.onerror = function(){console.warn(\"failed to load library \" + url);};\n",
       "  document.getElementsByTagName(\"head\")[0].appendChild(s);\n",
       "}\n",
       "\n",
       "if(typeof(mpld3) !== \"undefined\" && mpld3._mpld3IsLoaded){\n",
       "   // already loaded: just create the figure\n",
       "   !function(mpld3){\n",
       "       \n",
       "       mpld3.draw_figure(\"fig_el119691401799452615209973682039\", {\"axes\": [{\"xlim\": [-10.0, 90.0], \"yscale\": \"linear\", \"axesbg\": \"#FFFFFF\", \"texts\": [{\"v_baseline\": \"hanging\", \"h_anchor\": \"middle\", \"color\": \"#262626\", \"text\": \"Age\", \"coordinates\": \"axes\", \"zorder\": 3, \"alpha\": 1, \"fontsize\": 18.0, \"position\": [0.5, -0.047043010752688158], \"rotation\": -0.0, \"id\": \"el11969140179940780624\"}, {\"v_baseline\": \"auto\", \"h_anchor\": \"start\", \"color\": \"#262626\", \"text\": \"None\", \"coordinates\": \"axes\", \"zorder\": 1000003.0, \"alpha\": 1, \"fontsize\": 10.0, \"position\": [-0.16129032258064516, -0.16129032258064516], \"rotation\": -0.0, \"id\": \"el11969140179939849744\"}, {\"v_baseline\": \"auto\", \"h_anchor\": \"start\", \"color\": \"#262626\", \"text\": \"Survived\", \"coordinates\": \"axes\", \"zorder\": 1000003.0, \"alpha\": 1, \"fontsize\": 10.0, \"position\": [0.91411290322580652, 0.96370967741935487], \"rotation\": -0.0, \"id\": \"el11969140179939774544\"}, {\"v_baseline\": \"auto\", \"h_anchor\": \"start\", \"color\": \"#262626\", \"text\": \"Died\", \"coordinates\": \"axes\", \"zorder\": 1000003.0, \"alpha\": 1, \"fontsize\": 10.0, \"position\": [0.91411290322580652, 0.93234767025089604], \"rotation\": -0.0, \"id\": \"el11969140179939777232\"}], \"zoomable\": true, \"images\": [], \"xdomain\": [-10.0, 90.0], \"ylim\": [0.0, 0.035000000000000003], \"paths\": [{\"edgecolor\": \"#CCCCCC\", \"facecolor\": \"#FFFFFF\", \"edgewidth\": 0.3, \"pathcodes\": [\"M\", \"L\", \"L\", \"L\", \"Z\"], \"yindex\": 1, \"coordinates\": \"axes\", \"dasharray\": \"10,0\", \"zorder\": 1000001.0, \"alpha\": 1, \"xindex\": 0, \"data\": \"data04\", \"id\": \"el11969140179939926224\"}], \"sharey\": [], \"sharex\": [], \"axesbgalpha\": null, \"axes\": [{\"scale\": \"linear\", \"tickformat\": null, \"grid\": {\"color\": \"#CCCCCC\", \"alpha\": 1.0, \"dasharray\": \"10,0\", \"gridOn\": true}, \"fontsize\": 10.0, \"position\": \"bottom\", \"nticks\": 7, \"tickvalues\": null}, {\"scale\": \"linear\", \"tickformat\": null, \"grid\": {\"color\": \"#CCCCCC\", \"alpha\": 1.0, \"dasharray\": \"10,0\", \"gridOn\": true}, \"fontsize\": 10.0, \"position\": \"left\", \"nticks\": 9, \"tickvalues\": null}], \"lines\": [{\"color\": \"#4C72B0\", \"yindex\": 1, \"coordinates\": \"data\", \"dasharray\": \"10,0\", \"zorder\": 2, \"alpha\": 1, \"xindex\": 0, \"linewidth\": 1.75, \"data\": \"data01\", \"id\": \"el11969140179939187472\"}, {\"color\": \"#55A868\", \"yindex\": 1, \"coordinates\": \"data\", \"dasharray\": \"10,0\", \"zorder\": 2, \"alpha\": 1, \"xindex\": 0, \"linewidth\": 1.75, \"data\": \"data02\", \"id\": \"el11969140179939927760\"}, {\"color\": \"#4C72B0\", \"yindex\": 1, \"coordinates\": \"axes\", \"dasharray\": \"10,0\", \"zorder\": 1000002.0, \"alpha\": 1, \"xindex\": 0, \"linewidth\": 1.75, \"data\": \"data03\", \"id\": \"el11969140179939775504\"}, {\"color\": \"#55A868\", \"yindex\": 2, \"coordinates\": \"axes\", \"dasharray\": \"10,0\", \"zorder\": 1000002.0, \"alpha\": 1, \"xindex\": 0, \"linewidth\": 1.75, \"data\": \"data03\", \"id\": \"el11969140179939778128\"}], \"markers\": [], \"id\": \"el11969140179940475408\", \"ydomain\": [0.0, 0.035000000000000003], \"collections\": [], \"xscale\": \"linear\", \"bbox\": [0.125, 0.125, 0.77500000000000002, 0.77500000000000002]}], \"height\": 640.0, \"width\": 800.0, \"plugins\": [{\"type\": \"reset\"}, {\"enabled\": false, \"button\": true, \"type\": \"zoom\"}, {\"enabled\": false, \"button\": true, \"type\": \"boxzoom\"}], \"data\": {\"data04\": [[0.8567652329749104, 0.9193548387096774], [0.9910394265232975, 0.9193548387096774], [0.9910394265232975, 0.9887992831541218], [0.8567652329749104, 0.9887992831541218]], \"data02\": [[0.07559825939014664, 0.0020046703956526995], [0.8316467794024669, 0.002251023092828858], [1.5876952994147873, 0.002481261035503081], [2.3437438194271074, 0.0026908924273879604], [3.0997923394394276, 0.0028789367145453243], [3.8558408594517477, 0.003048615680537774], [4.611889379464069, 0.003207782320549847], [5.367937899476389, 0.003369122722232153], [6.123986419488709, 0.0035501748294202015], [6.880034939501029, 0.003773172652958322], [7.636083459513349, 0.0040646567908146315], [8.392131979525669, 0.004454720164913514], [9.14818049953799, 0.004975717830490913], [9.904229019550309, 0.005660293013544142], [10.66027753956263, 0.006538672323872789], [11.41632605957495, 0.007635350319784658], [12.17237457958727, 0.008965481031983403], [12.928423099599591, 0.0105314688011135], [13.68447161961191, 0.012320348044045165], [14.440520139624232, 0.014302521110079338], [15.19656865963655, 0.01643227263979413], [15.952617179648872, 0.018650218371638366], [16.708665699661193, 0.02088752603179631], [17.464714219673514, 0.023071432861679494], [18.220762739685835, 0.025131345964132107], [18.976811259698156, 0.027004699251722934], [19.732859779710473, 0.02864177749488976], [20.488908299722794, 0.030008894458955555], [21.244956819735116, 0.03108959031713378], [22.001005339747437, 0.03188383668636364], [22.757053859759754, 0.032405543544963306], [23.513102379772075, 0.03267889622510987], [24.269150899784396, 0.03273417538993951], [25.025199419796717, 0.03260371432254996], [25.781247939809038, 0.03231853607939547], [26.537296459821356, 0.03190601916889366], [27.293344979833677, 0.03138870962346567], [28.049393499845998, 0.030784179435722977], [28.80544201985832, 0.03010566981615313], [29.561490539870636, 0.02936317977501067], [30.317539059882957, 0.02856467064036672], [31.07358757989528, 0.027717136852884513], [31.8296360999076, 0.026827407926877635], [32.58568461991992, 0.02590265645384428], [33.34173313993224, 0.024950661441262904], [34.09778165994456, 0.02397990183189042], [34.85383017995688, 0.022999538364244437], [35.6098786999692, 0.022019304105163076], [36.36592721998152, 0.02104929018018308], [37.12197573999384, 0.02009960206003178], [37.878024260006164, 0.01917987878583423], [38.63407278001848, 0.01829870495717081], [39.3901213000308, 0.01746298714584026], [40.14616982004312, 0.016677395776429765], [40.90221834005544, 0.015943979051918536], [41.65826686006776, 0.015262034344124686], [42.41431538008008, 0.014628279823200767], [43.170363900092404, 0.014037315491973974], [43.926412420104725, 0.01348231066291132], [44.682460940117046, 0.012955815687979485], [45.43850946012936, 0.012450577643003962], [46.19455798014168, 0.011960246158544898], [46.950606500154, 0.011479884533636794], [47.70665502016632, 0.011006245029397557], [48.462703540178644, 0.010537814303776595], [49.218752060190965, 0.010074673044946683], [49.974800580203286, 0.009618233786992897], [50.73084910021561, 0.009170919639354652], [51.48689762022793, 0.008735828445833684], [52.24294614024024, 0.008316401474205997], [52.99899466025256, 0.007916094626245965], [53.755043180264884, 0.007538042166921493], [54.511091700277206, 0.0071847109737220695], [55.26714022028953, 0.006857563377081581], [56.02318874030185, 0.006556769820457563], [56.77923726031417, 0.006281028288557704], [57.53528578032649, 0.0060275475191417845], [58.29133430033881, 0.005792232330630445], [59.047382820351125, 0.005570074895793261], [59.803431340363446, 0.005355713364347868], [60.55947986037577, 0.005144079299448623], [61.31552838038809, 0.004931028022342847], [62.07157690040041, 0.004713838503711818], [62.82762542041273, 0.004491485085402257], [63.58367394042505, 0.004264620629147998], [64.33972246043737, 0.004035263853231745], [65.09577098044969, 0.0038062431188041947], [65.85181950046201, 0.0035805027155110586], [66.60786802047433, 0.003360413097497053], [67.36391654048666, 0.0031472330418236163], [68.11996506049897, 0.0029408443366646603], [68.8760135805113, 0.0027398215745409703], [69.63206210052361, 0.002541823106840481], [70.38811062053593, 0.0023442130842091847], [71.14415914054825, 0.002144769198003728], [71.90020766056057, 0.0019423117895821312], [72.6562561805729, 0.0017371126957266706], [73.41230470058521, 0.001530999575038635], [74.16835322059754, 0.0013271465525322382], [74.92440174060985, 0.001129613623029517]], \"data03\": [[0.8639336917562724, 0.9715501792114696, 0.9401881720430108], [0.8997759856630825, 0.9715501792114696, 0.9401881720430108]], \"data01\": [[-0.7917824684208703, 0.010192343978651383], [0.036536369325005924, 0.010836136325274469], [0.8648552070708821, 0.011384531886706356], [1.6931740448167585, 0.011825840276944888], [2.521492882562635, 0.012153697068517632], [3.3498117203085105, 0.012367596918571627], [4.178130558054387, 0.01247303362997686], [5.006449395800263, 0.01248123941908271], [5.834768233546139, 0.012408552497219989], [6.663087071292016, 0.012275474033076892], [7.4914059090378915, 0.01210549908562471], [8.319724746783768, 0.011923819028067557], [9.148043584529645, 0.011755994781485219], [9.976362422275521, 0.0116266918343473], [10.804681260021397, 0.011558551745193725], [11.633000097767274, 0.011571253555489578], [12.46131893551315, 0.011680795445949042], [13.289637773259026, 0.011899004975922564], [14.117956611004903, 0.012233267680932448], [14.946275448750779, 0.012686450201347507], [15.774594286496654, 0.013256986154685768], [16.60291312424253, 0.013939090527657913], [17.431231961988406, 0.014723070673337463], [18.259550799734285, 0.01559570779400859], [19.08786963748016, 0.016540690529678565], [19.916188475226036, 0.0175390903367942], [20.744507312971912, 0.01856987523376115], [21.572826150717788, 0.019610463015501973], [22.401144988463663, 0.020637316456341284], [23.229463826209543, 0.021626581131243983], [24.057782663955418, 0.022554761653659487], [24.886101501701294, 0.023399425210104106], [25.71442033944717, 0.024139913465818355], [26.542739177193045, 0.02475803655729123], [27.37105801493892, 0.025238717223963918], [28.199376852684797, 0.025570550128190102], [29.027695690430676, 0.025746241623033777], [29.85601452817655, 0.025762898752563067], [30.684333365922427, 0.025622142803017806], [31.512652203668303, 0.0253300316627458], [32.34097104141418, 0.024896785831347093], [33.169289879160054, 0.024336324346416548], [33.99760871690593, 0.023665628420669084], [34.825927554651805, 0.022903961532942926], [35.65424639239768, 0.022071984486817138], [36.482565230143564, 0.021190811959047654], [37.31088406788944, 0.020281062720273184], [38.139202905635315, 0.019361958433392785], [38.96752174338119, 0.018450525178008947], [39.79584058112707, 0.017560947208572], [40.62415941887294, 0.01670411378144539], [41.45247825661882, 0.015887387402381905], [42.280797094364694, 0.015114606215509674], [43.10911593211057, 0.014386315600275586], [43.937434769856445, 0.013700205880241562], [44.76575360760232, 0.013051716146582688], [45.594072445348196, 0.012434750378999725], [46.42239128309407, 0.011842442938968663], [47.250710120839955, 0.011267907320527298], [48.07902895858583, 0.010704905352290165], [48.907347796331706, 0.010148383678353825], [49.73566663407758, 0.009594839350897586], [50.56398547182346, 0.00904249509046663], [51.39230430956933, 0.008491285049501255], [52.22062314731521, 0.007942671356631438], [53.048941985061084, 0.007399328021337954], [53.87726082280696, 0.0068647400534047505], [54.705579660552836, 0.006342770696410247], [55.53389849829871, 0.0058372481414700585], [56.36221733604459, 0.005351615523445984], [57.19053617379046, 0.004888675749292156], [58.018855011536346, 0.004450447682834016], [58.84717384928222, 0.004038134594335984], [59.6754926870281, 0.0036521916879899436], [60.50381152477397, 0.0032924686763547177], [61.33213036251985, 0.002958396896838436], [62.160449200265724, 0.002649188753214142], [62.9887680380116, 0.0023640199899108345], [63.817086875757475, 0.002102171552349133], [64.64540571350335, 0.001863116253936537], [65.47372455124922, 0.0016465447237970802], [66.3020433889951, 0.0014523338129850192], [67.13036222674097, 0.001280467741131863], [67.95868106448685, 0.0011309271167003205], [68.78699990223272, 0.0010035633303108], [69.6153187399786, 0.000897975841694575], [70.44363757772447, 0.0008134079659865361], [71.27195641547036, 0.0007486734684848429], [72.10027525321622, 0.0007021221799442362], [72.92859409096211, 0.0006716484666125866], [73.75691292870799, 0.0006547421404997981], [74.58523176645386, 0.0006485775677047984], [75.41355060419974, 0.0006501335209940225], [76.24186944194561, 0.0006563338594323483], [77.0701882796915, 0.0006641975028427737], [77.89850711743736, 0.0006709854852013455], [78.72682595518324, 0.0006743331790171279], [79.55514479292911, 0.0006723570971018349], [80.383463630675, 0.0006637279382260332], [81.21178246842086, 0.0006477045884165595]]}, \"id\": \"el11969140179945261520\"});\n",
       "   }(mpld3);\n",
       "}else if(typeof define === \"function\" && define.amd){\n",
       "   // require.js is available: use it to load d3/mpld3\n",
       "   require.config({paths: {d3: \"https://mpld3.github.io/js/d3.v3.min\"}});\n",
       "   require([\"d3\"], function(d3){\n",
       "      window.d3 = d3;\n",
       "      mpld3_load_lib(\"https://mpld3.github.io/js/mpld3.v0.2.js\", function(){\n",
       "         \n",
       "         mpld3.draw_figure(\"fig_el119691401799452615209973682039\", {\"axes\": [{\"xlim\": [-10.0, 90.0], \"yscale\": \"linear\", \"axesbg\": \"#FFFFFF\", \"texts\": [{\"v_baseline\": \"hanging\", \"h_anchor\": \"middle\", \"color\": \"#262626\", \"text\": \"Age\", \"coordinates\": \"axes\", \"zorder\": 3, \"alpha\": 1, \"fontsize\": 18.0, \"position\": [0.5, -0.047043010752688158], \"rotation\": -0.0, \"id\": \"el11969140179940780624\"}, {\"v_baseline\": \"auto\", \"h_anchor\": \"start\", \"color\": \"#262626\", \"text\": \"None\", \"coordinates\": \"axes\", \"zorder\": 1000003.0, \"alpha\": 1, \"fontsize\": 10.0, \"position\": [-0.16129032258064516, -0.16129032258064516], \"rotation\": -0.0, \"id\": \"el11969140179939849744\"}, {\"v_baseline\": \"auto\", \"h_anchor\": \"start\", \"color\": \"#262626\", \"text\": \"Survived\", \"coordinates\": \"axes\", \"zorder\": 1000003.0, \"alpha\": 1, \"fontsize\": 10.0, \"position\": [0.91411290322580652, 0.96370967741935487], \"rotation\": -0.0, \"id\": \"el11969140179939774544\"}, {\"v_baseline\": \"auto\", \"h_anchor\": \"start\", \"color\": \"#262626\", \"text\": \"Died\", \"coordinates\": \"axes\", \"zorder\": 1000003.0, \"alpha\": 1, \"fontsize\": 10.0, \"position\": [0.91411290322580652, 0.93234767025089604], \"rotation\": -0.0, \"id\": \"el11969140179939777232\"}], \"zoomable\": true, \"images\": [], \"xdomain\": [-10.0, 90.0], \"ylim\": [0.0, 0.035000000000000003], \"paths\": [{\"edgecolor\": \"#CCCCCC\", \"facecolor\": \"#FFFFFF\", \"edgewidth\": 0.3, \"pathcodes\": [\"M\", \"L\", \"L\", \"L\", \"Z\"], \"yindex\": 1, \"coordinates\": \"axes\", \"dasharray\": \"10,0\", \"zorder\": 1000001.0, \"alpha\": 1, \"xindex\": 0, \"data\": \"data04\", \"id\": \"el11969140179939926224\"}], \"sharey\": [], \"sharex\": [], \"axesbgalpha\": null, \"axes\": [{\"scale\": \"linear\", \"tickformat\": null, \"grid\": {\"color\": \"#CCCCCC\", \"alpha\": 1.0, \"dasharray\": \"10,0\", \"gridOn\": true}, \"fontsize\": 10.0, \"position\": \"bottom\", \"nticks\": 7, \"tickvalues\": null}, {\"scale\": \"linear\", \"tickformat\": null, \"grid\": {\"color\": \"#CCCCCC\", \"alpha\": 1.0, \"dasharray\": \"10,0\", \"gridOn\": true}, \"fontsize\": 10.0, \"position\": \"left\", \"nticks\": 9, \"tickvalues\": null}], \"lines\": [{\"color\": \"#4C72B0\", \"yindex\": 1, \"coordinates\": \"data\", \"dasharray\": \"10,0\", \"zorder\": 2, \"alpha\": 1, \"xindex\": 0, \"linewidth\": 1.75, \"data\": \"data01\", \"id\": \"el11969140179939187472\"}, {\"color\": \"#55A868\", \"yindex\": 1, \"coordinates\": \"data\", \"dasharray\": \"10,0\", \"zorder\": 2, \"alpha\": 1, \"xindex\": 0, \"linewidth\": 1.75, \"data\": \"data02\", \"id\": \"el11969140179939927760\"}, {\"color\": \"#4C72B0\", \"yindex\": 1, \"coordinates\": \"axes\", \"dasharray\": \"10,0\", \"zorder\": 1000002.0, \"alpha\": 1, \"xindex\": 0, \"linewidth\": 1.75, \"data\": \"data03\", \"id\": \"el11969140179939775504\"}, {\"color\": \"#55A868\", \"yindex\": 2, \"coordinates\": \"axes\", \"dasharray\": \"10,0\", \"zorder\": 1000002.0, \"alpha\": 1, \"xindex\": 0, \"linewidth\": 1.75, \"data\": \"data03\", \"id\": \"el11969140179939778128\"}], \"markers\": [], \"id\": \"el11969140179940475408\", \"ydomain\": [0.0, 0.035000000000000003], \"collections\": [], \"xscale\": \"linear\", \"bbox\": [0.125, 0.125, 0.77500000000000002, 0.77500000000000002]}], \"height\": 640.0, \"width\": 800.0, \"plugins\": [{\"type\": \"reset\"}, {\"enabled\": false, \"button\": true, \"type\": \"zoom\"}, {\"enabled\": false, \"button\": true, \"type\": \"boxzoom\"}], \"data\": {\"data04\": [[0.8567652329749104, 0.9193548387096774], [0.9910394265232975, 0.9193548387096774], [0.9910394265232975, 0.9887992831541218], [0.8567652329749104, 0.9887992831541218]], \"data02\": [[0.07559825939014664, 0.0020046703956526995], [0.8316467794024669, 0.002251023092828858], [1.5876952994147873, 0.002481261035503081], [2.3437438194271074, 0.0026908924273879604], [3.0997923394394276, 0.0028789367145453243], [3.8558408594517477, 0.003048615680537774], [4.611889379464069, 0.003207782320549847], [5.367937899476389, 0.003369122722232153], [6.123986419488709, 0.0035501748294202015], [6.880034939501029, 0.003773172652958322], [7.636083459513349, 0.0040646567908146315], [8.392131979525669, 0.004454720164913514], [9.14818049953799, 0.004975717830490913], [9.904229019550309, 0.005660293013544142], [10.66027753956263, 0.006538672323872789], [11.41632605957495, 0.007635350319784658], [12.17237457958727, 0.008965481031983403], [12.928423099599591, 0.0105314688011135], [13.68447161961191, 0.012320348044045165], [14.440520139624232, 0.014302521110079338], [15.19656865963655, 0.01643227263979413], [15.952617179648872, 0.018650218371638366], [16.708665699661193, 0.02088752603179631], [17.464714219673514, 0.023071432861679494], [18.220762739685835, 0.025131345964132107], [18.976811259698156, 0.027004699251722934], [19.732859779710473, 0.02864177749488976], [20.488908299722794, 0.030008894458955555], [21.244956819735116, 0.03108959031713378], [22.001005339747437, 0.03188383668636364], [22.757053859759754, 0.032405543544963306], [23.513102379772075, 0.03267889622510987], [24.269150899784396, 0.03273417538993951], [25.025199419796717, 0.03260371432254996], [25.781247939809038, 0.03231853607939547], [26.537296459821356, 0.03190601916889366], [27.293344979833677, 0.03138870962346567], [28.049393499845998, 0.030784179435722977], [28.80544201985832, 0.03010566981615313], [29.561490539870636, 0.02936317977501067], [30.317539059882957, 0.02856467064036672], [31.07358757989528, 0.027717136852884513], [31.8296360999076, 0.026827407926877635], [32.58568461991992, 0.02590265645384428], [33.34173313993224, 0.024950661441262904], [34.09778165994456, 0.02397990183189042], [34.85383017995688, 0.022999538364244437], [35.6098786999692, 0.022019304105163076], [36.36592721998152, 0.02104929018018308], [37.12197573999384, 0.02009960206003178], [37.878024260006164, 0.01917987878583423], [38.63407278001848, 0.01829870495717081], [39.3901213000308, 0.01746298714584026], [40.14616982004312, 0.016677395776429765], [40.90221834005544, 0.015943979051918536], [41.65826686006776, 0.015262034344124686], [42.41431538008008, 0.014628279823200767], [43.170363900092404, 0.014037315491973974], [43.926412420104725, 0.01348231066291132], [44.682460940117046, 0.012955815687979485], [45.43850946012936, 0.012450577643003962], [46.19455798014168, 0.011960246158544898], [46.950606500154, 0.011479884533636794], [47.70665502016632, 0.011006245029397557], [48.462703540178644, 0.010537814303776595], [49.218752060190965, 0.010074673044946683], [49.974800580203286, 0.009618233786992897], [50.73084910021561, 0.009170919639354652], [51.48689762022793, 0.008735828445833684], [52.24294614024024, 0.008316401474205997], [52.99899466025256, 0.007916094626245965], [53.755043180264884, 0.007538042166921493], [54.511091700277206, 0.0071847109737220695], [55.26714022028953, 0.006857563377081581], [56.02318874030185, 0.006556769820457563], [56.77923726031417, 0.006281028288557704], [57.53528578032649, 0.0060275475191417845], [58.29133430033881, 0.005792232330630445], [59.047382820351125, 0.005570074895793261], [59.803431340363446, 0.005355713364347868], [60.55947986037577, 0.005144079299448623], [61.31552838038809, 0.004931028022342847], [62.07157690040041, 0.004713838503711818], [62.82762542041273, 0.004491485085402257], [63.58367394042505, 0.004264620629147998], [64.33972246043737, 0.004035263853231745], [65.09577098044969, 0.0038062431188041947], [65.85181950046201, 0.0035805027155110586], [66.60786802047433, 0.003360413097497053], [67.36391654048666, 0.0031472330418236163], [68.11996506049897, 0.0029408443366646603], [68.8760135805113, 0.0027398215745409703], [69.63206210052361, 0.002541823106840481], [70.38811062053593, 0.0023442130842091847], [71.14415914054825, 0.002144769198003728], [71.90020766056057, 0.0019423117895821312], [72.6562561805729, 0.0017371126957266706], [73.41230470058521, 0.001530999575038635], [74.16835322059754, 0.0013271465525322382], [74.92440174060985, 0.001129613623029517]], \"data03\": [[0.8639336917562724, 0.9715501792114696, 0.9401881720430108], [0.8997759856630825, 0.9715501792114696, 0.9401881720430108]], \"data01\": [[-0.7917824684208703, 0.010192343978651383], [0.036536369325005924, 0.010836136325274469], [0.8648552070708821, 0.011384531886706356], [1.6931740448167585, 0.011825840276944888], [2.521492882562635, 0.012153697068517632], [3.3498117203085105, 0.012367596918571627], [4.178130558054387, 0.01247303362997686], [5.006449395800263, 0.01248123941908271], [5.834768233546139, 0.012408552497219989], [6.663087071292016, 0.012275474033076892], [7.4914059090378915, 0.01210549908562471], [8.319724746783768, 0.011923819028067557], [9.148043584529645, 0.011755994781485219], [9.976362422275521, 0.0116266918343473], [10.804681260021397, 0.011558551745193725], [11.633000097767274, 0.011571253555489578], [12.46131893551315, 0.011680795445949042], [13.289637773259026, 0.011899004975922564], [14.117956611004903, 0.012233267680932448], [14.946275448750779, 0.012686450201347507], [15.774594286496654, 0.013256986154685768], [16.60291312424253, 0.013939090527657913], [17.431231961988406, 0.014723070673337463], [18.259550799734285, 0.01559570779400859], [19.08786963748016, 0.016540690529678565], [19.916188475226036, 0.0175390903367942], [20.744507312971912, 0.01856987523376115], [21.572826150717788, 0.019610463015501973], [22.401144988463663, 0.020637316456341284], [23.229463826209543, 0.021626581131243983], [24.057782663955418, 0.022554761653659487], [24.886101501701294, 0.023399425210104106], [25.71442033944717, 0.024139913465818355], [26.542739177193045, 0.02475803655729123], [27.37105801493892, 0.025238717223963918], [28.199376852684797, 0.025570550128190102], [29.027695690430676, 0.025746241623033777], [29.85601452817655, 0.025762898752563067], [30.684333365922427, 0.025622142803017806], [31.512652203668303, 0.0253300316627458], [32.34097104141418, 0.024896785831347093], [33.169289879160054, 0.024336324346416548], [33.99760871690593, 0.023665628420669084], [34.825927554651805, 0.022903961532942926], [35.65424639239768, 0.022071984486817138], [36.482565230143564, 0.021190811959047654], [37.31088406788944, 0.020281062720273184], [38.139202905635315, 0.019361958433392785], [38.96752174338119, 0.018450525178008947], [39.79584058112707, 0.017560947208572], [40.62415941887294, 0.01670411378144539], [41.45247825661882, 0.015887387402381905], [42.280797094364694, 0.015114606215509674], [43.10911593211057, 0.014386315600275586], [43.937434769856445, 0.013700205880241562], [44.76575360760232, 0.013051716146582688], [45.594072445348196, 0.012434750378999725], [46.42239128309407, 0.011842442938968663], [47.250710120839955, 0.011267907320527298], [48.07902895858583, 0.010704905352290165], [48.907347796331706, 0.010148383678353825], [49.73566663407758, 0.009594839350897586], [50.56398547182346, 0.00904249509046663], [51.39230430956933, 0.008491285049501255], [52.22062314731521, 0.007942671356631438], [53.048941985061084, 0.007399328021337954], [53.87726082280696, 0.0068647400534047505], [54.705579660552836, 0.006342770696410247], [55.53389849829871, 0.0058372481414700585], [56.36221733604459, 0.005351615523445984], [57.19053617379046, 0.004888675749292156], [58.018855011536346, 0.004450447682834016], [58.84717384928222, 0.004038134594335984], [59.6754926870281, 0.0036521916879899436], [60.50381152477397, 0.0032924686763547177], [61.33213036251985, 0.002958396896838436], [62.160449200265724, 0.002649188753214142], [62.9887680380116, 0.0023640199899108345], [63.817086875757475, 0.002102171552349133], [64.64540571350335, 0.001863116253936537], [65.47372455124922, 0.0016465447237970802], [66.3020433889951, 0.0014523338129850192], [67.13036222674097, 0.001280467741131863], [67.95868106448685, 0.0011309271167003205], [68.78699990223272, 0.0010035633303108], [69.6153187399786, 0.000897975841694575], [70.44363757772447, 0.0008134079659865361], [71.27195641547036, 0.0007486734684848429], [72.10027525321622, 0.0007021221799442362], [72.92859409096211, 0.0006716484666125866], [73.75691292870799, 0.0006547421404997981], [74.58523176645386, 0.0006485775677047984], [75.41355060419974, 0.0006501335209940225], [76.24186944194561, 0.0006563338594323483], [77.0701882796915, 0.0006641975028427737], [77.89850711743736, 0.0006709854852013455], [78.72682595518324, 0.0006743331790171279], [79.55514479292911, 0.0006723570971018349], [80.383463630675, 0.0006637279382260332], [81.21178246842086, 0.0006477045884165595]]}, \"id\": \"el11969140179945261520\"});\n",
       "      });\n",
       "    });\n",
       "}else{\n",
       "    // require.js not available: dynamically load d3 & mpld3\n",
       "    mpld3_load_lib(\"https://mpld3.github.io/js/d3.v3.min.js\", function(){\n",
       "         mpld3_load_lib(\"https://mpld3.github.io/js/mpld3.v0.2.js\", function(){\n",
       "                 \n",
       "                 mpld3.draw_figure(\"fig_el119691401799452615209973682039\", {\"axes\": [{\"xlim\": [-10.0, 90.0], \"yscale\": \"linear\", \"axesbg\": \"#FFFFFF\", \"texts\": [{\"v_baseline\": \"hanging\", \"h_anchor\": \"middle\", \"color\": \"#262626\", \"text\": \"Age\", \"coordinates\": \"axes\", \"zorder\": 3, \"alpha\": 1, \"fontsize\": 18.0, \"position\": [0.5, -0.047043010752688158], \"rotation\": -0.0, \"id\": \"el11969140179940780624\"}, {\"v_baseline\": \"auto\", \"h_anchor\": \"start\", \"color\": \"#262626\", \"text\": \"None\", \"coordinates\": \"axes\", \"zorder\": 1000003.0, \"alpha\": 1, \"fontsize\": 10.0, \"position\": [-0.16129032258064516, -0.16129032258064516], \"rotation\": -0.0, \"id\": \"el11969140179939849744\"}, {\"v_baseline\": \"auto\", \"h_anchor\": \"start\", \"color\": \"#262626\", \"text\": \"Survived\", \"coordinates\": \"axes\", \"zorder\": 1000003.0, \"alpha\": 1, \"fontsize\": 10.0, \"position\": [0.91411290322580652, 0.96370967741935487], \"rotation\": -0.0, \"id\": \"el11969140179939774544\"}, {\"v_baseline\": \"auto\", \"h_anchor\": \"start\", \"color\": \"#262626\", \"text\": \"Died\", \"coordinates\": \"axes\", \"zorder\": 1000003.0, \"alpha\": 1, \"fontsize\": 10.0, \"position\": [0.91411290322580652, 0.93234767025089604], \"rotation\": -0.0, \"id\": \"el11969140179939777232\"}], \"zoomable\": true, \"images\": [], \"xdomain\": [-10.0, 90.0], \"ylim\": [0.0, 0.035000000000000003], \"paths\": [{\"edgecolor\": \"#CCCCCC\", \"facecolor\": \"#FFFFFF\", \"edgewidth\": 0.3, \"pathcodes\": [\"M\", \"L\", \"L\", \"L\", \"Z\"], \"yindex\": 1, \"coordinates\": \"axes\", \"dasharray\": \"10,0\", \"zorder\": 1000001.0, \"alpha\": 1, \"xindex\": 0, \"data\": \"data04\", \"id\": \"el11969140179939926224\"}], \"sharey\": [], \"sharex\": [], \"axesbgalpha\": null, \"axes\": [{\"scale\": \"linear\", \"tickformat\": null, \"grid\": {\"color\": \"#CCCCCC\", \"alpha\": 1.0, \"dasharray\": \"10,0\", \"gridOn\": true}, \"fontsize\": 10.0, \"position\": \"bottom\", \"nticks\": 7, \"tickvalues\": null}, {\"scale\": \"linear\", \"tickformat\": null, \"grid\": {\"color\": \"#CCCCCC\", \"alpha\": 1.0, \"dasharray\": \"10,0\", \"gridOn\": true}, \"fontsize\": 10.0, \"position\": \"left\", \"nticks\": 9, \"tickvalues\": null}], \"lines\": [{\"color\": \"#4C72B0\", \"yindex\": 1, \"coordinates\": \"data\", \"dasharray\": \"10,0\", \"zorder\": 2, \"alpha\": 1, \"xindex\": 0, \"linewidth\": 1.75, \"data\": \"data01\", \"id\": \"el11969140179939187472\"}, {\"color\": \"#55A868\", \"yindex\": 1, \"coordinates\": \"data\", \"dasharray\": \"10,0\", \"zorder\": 2, \"alpha\": 1, \"xindex\": 0, \"linewidth\": 1.75, \"data\": \"data02\", \"id\": \"el11969140179939927760\"}, {\"color\": \"#4C72B0\", \"yindex\": 1, \"coordinates\": \"axes\", \"dasharray\": \"10,0\", \"zorder\": 1000002.0, \"alpha\": 1, \"xindex\": 0, \"linewidth\": 1.75, \"data\": \"data03\", \"id\": \"el11969140179939775504\"}, {\"color\": \"#55A868\", \"yindex\": 2, \"coordinates\": \"axes\", \"dasharray\": \"10,0\", \"zorder\": 1000002.0, \"alpha\": 1, \"xindex\": 0, \"linewidth\": 1.75, \"data\": \"data03\", \"id\": \"el11969140179939778128\"}], \"markers\": [], \"id\": \"el11969140179940475408\", \"ydomain\": [0.0, 0.035000000000000003], \"collections\": [], \"xscale\": \"linear\", \"bbox\": [0.125, 0.125, 0.77500000000000002, 0.77500000000000002]}], \"height\": 640.0, \"width\": 800.0, \"plugins\": [{\"type\": \"reset\"}, {\"enabled\": false, \"button\": true, \"type\": \"zoom\"}, {\"enabled\": false, \"button\": true, \"type\": \"boxzoom\"}], \"data\": {\"data04\": [[0.8567652329749104, 0.9193548387096774], [0.9910394265232975, 0.9193548387096774], [0.9910394265232975, 0.9887992831541218], [0.8567652329749104, 0.9887992831541218]], \"data02\": [[0.07559825939014664, 0.0020046703956526995], [0.8316467794024669, 0.002251023092828858], [1.5876952994147873, 0.002481261035503081], [2.3437438194271074, 0.0026908924273879604], [3.0997923394394276, 0.0028789367145453243], [3.8558408594517477, 0.003048615680537774], [4.611889379464069, 0.003207782320549847], [5.367937899476389, 0.003369122722232153], [6.123986419488709, 0.0035501748294202015], [6.880034939501029, 0.003773172652958322], [7.636083459513349, 0.0040646567908146315], [8.392131979525669, 0.004454720164913514], [9.14818049953799, 0.004975717830490913], [9.904229019550309, 0.005660293013544142], [10.66027753956263, 0.006538672323872789], [11.41632605957495, 0.007635350319784658], [12.17237457958727, 0.008965481031983403], [12.928423099599591, 0.0105314688011135], [13.68447161961191, 0.012320348044045165], [14.440520139624232, 0.014302521110079338], [15.19656865963655, 0.01643227263979413], [15.952617179648872, 0.018650218371638366], [16.708665699661193, 0.02088752603179631], [17.464714219673514, 0.023071432861679494], [18.220762739685835, 0.025131345964132107], [18.976811259698156, 0.027004699251722934], [19.732859779710473, 0.02864177749488976], [20.488908299722794, 0.030008894458955555], [21.244956819735116, 0.03108959031713378], [22.001005339747437, 0.03188383668636364], [22.757053859759754, 0.032405543544963306], [23.513102379772075, 0.03267889622510987], [24.269150899784396, 0.03273417538993951], [25.025199419796717, 0.03260371432254996], [25.781247939809038, 0.03231853607939547], [26.537296459821356, 0.03190601916889366], [27.293344979833677, 0.03138870962346567], [28.049393499845998, 0.030784179435722977], [28.80544201985832, 0.03010566981615313], [29.561490539870636, 0.02936317977501067], [30.317539059882957, 0.02856467064036672], [31.07358757989528, 0.027717136852884513], [31.8296360999076, 0.026827407926877635], [32.58568461991992, 0.02590265645384428], [33.34173313993224, 0.024950661441262904], [34.09778165994456, 0.02397990183189042], [34.85383017995688, 0.022999538364244437], [35.6098786999692, 0.022019304105163076], [36.36592721998152, 0.02104929018018308], [37.12197573999384, 0.02009960206003178], [37.878024260006164, 0.01917987878583423], [38.63407278001848, 0.01829870495717081], [39.3901213000308, 0.01746298714584026], [40.14616982004312, 0.016677395776429765], [40.90221834005544, 0.015943979051918536], [41.65826686006776, 0.015262034344124686], [42.41431538008008, 0.014628279823200767], [43.170363900092404, 0.014037315491973974], [43.926412420104725, 0.01348231066291132], [44.682460940117046, 0.012955815687979485], [45.43850946012936, 0.012450577643003962], [46.19455798014168, 0.011960246158544898], [46.950606500154, 0.011479884533636794], [47.70665502016632, 0.011006245029397557], [48.462703540178644, 0.010537814303776595], [49.218752060190965, 0.010074673044946683], [49.974800580203286, 0.009618233786992897], [50.73084910021561, 0.009170919639354652], [51.48689762022793, 0.008735828445833684], [52.24294614024024, 0.008316401474205997], [52.99899466025256, 0.007916094626245965], [53.755043180264884, 0.007538042166921493], [54.511091700277206, 0.0071847109737220695], [55.26714022028953, 0.006857563377081581], [56.02318874030185, 0.006556769820457563], [56.77923726031417, 0.006281028288557704], [57.53528578032649, 0.0060275475191417845], [58.29133430033881, 0.005792232330630445], [59.047382820351125, 0.005570074895793261], [59.803431340363446, 0.005355713364347868], [60.55947986037577, 0.005144079299448623], [61.31552838038809, 0.004931028022342847], [62.07157690040041, 0.004713838503711818], [62.82762542041273, 0.004491485085402257], [63.58367394042505, 0.004264620629147998], [64.33972246043737, 0.004035263853231745], [65.09577098044969, 0.0038062431188041947], [65.85181950046201, 0.0035805027155110586], [66.60786802047433, 0.003360413097497053], [67.36391654048666, 0.0031472330418236163], [68.11996506049897, 0.0029408443366646603], [68.8760135805113, 0.0027398215745409703], [69.63206210052361, 0.002541823106840481], [70.38811062053593, 0.0023442130842091847], [71.14415914054825, 0.002144769198003728], [71.90020766056057, 0.0019423117895821312], [72.6562561805729, 0.0017371126957266706], [73.41230470058521, 0.001530999575038635], [74.16835322059754, 0.0013271465525322382], [74.92440174060985, 0.001129613623029517]], \"data03\": [[0.8639336917562724, 0.9715501792114696, 0.9401881720430108], [0.8997759856630825, 0.9715501792114696, 0.9401881720430108]], \"data01\": [[-0.7917824684208703, 0.010192343978651383], [0.036536369325005924, 0.010836136325274469], [0.8648552070708821, 0.011384531886706356], [1.6931740448167585, 0.011825840276944888], [2.521492882562635, 0.012153697068517632], [3.3498117203085105, 0.012367596918571627], [4.178130558054387, 0.01247303362997686], [5.006449395800263, 0.01248123941908271], [5.834768233546139, 0.012408552497219989], [6.663087071292016, 0.012275474033076892], [7.4914059090378915, 0.01210549908562471], [8.319724746783768, 0.011923819028067557], [9.148043584529645, 0.011755994781485219], [9.976362422275521, 0.0116266918343473], [10.804681260021397, 0.011558551745193725], [11.633000097767274, 0.011571253555489578], [12.46131893551315, 0.011680795445949042], [13.289637773259026, 0.011899004975922564], [14.117956611004903, 0.012233267680932448], [14.946275448750779, 0.012686450201347507], [15.774594286496654, 0.013256986154685768], [16.60291312424253, 0.013939090527657913], [17.431231961988406, 0.014723070673337463], [18.259550799734285, 0.01559570779400859], [19.08786963748016, 0.016540690529678565], [19.916188475226036, 0.0175390903367942], [20.744507312971912, 0.01856987523376115], [21.572826150717788, 0.019610463015501973], [22.401144988463663, 0.020637316456341284], [23.229463826209543, 0.021626581131243983], [24.057782663955418, 0.022554761653659487], [24.886101501701294, 0.023399425210104106], [25.71442033944717, 0.024139913465818355], [26.542739177193045, 0.02475803655729123], [27.37105801493892, 0.025238717223963918], [28.199376852684797, 0.025570550128190102], [29.027695690430676, 0.025746241623033777], [29.85601452817655, 0.025762898752563067], [30.684333365922427, 0.025622142803017806], [31.512652203668303, 0.0253300316627458], [32.34097104141418, 0.024896785831347093], [33.169289879160054, 0.024336324346416548], [33.99760871690593, 0.023665628420669084], [34.825927554651805, 0.022903961532942926], [35.65424639239768, 0.022071984486817138], [36.482565230143564, 0.021190811959047654], [37.31088406788944, 0.020281062720273184], [38.139202905635315, 0.019361958433392785], [38.96752174338119, 0.018450525178008947], [39.79584058112707, 0.017560947208572], [40.62415941887294, 0.01670411378144539], [41.45247825661882, 0.015887387402381905], [42.280797094364694, 0.015114606215509674], [43.10911593211057, 0.014386315600275586], [43.937434769856445, 0.013700205880241562], [44.76575360760232, 0.013051716146582688], [45.594072445348196, 0.012434750378999725], [46.42239128309407, 0.011842442938968663], [47.250710120839955, 0.011267907320527298], [48.07902895858583, 0.010704905352290165], [48.907347796331706, 0.010148383678353825], [49.73566663407758, 0.009594839350897586], [50.56398547182346, 0.00904249509046663], [51.39230430956933, 0.008491285049501255], [52.22062314731521, 0.007942671356631438], [53.048941985061084, 0.007399328021337954], [53.87726082280696, 0.0068647400534047505], [54.705579660552836, 0.006342770696410247], [55.53389849829871, 0.0058372481414700585], [56.36221733604459, 0.005351615523445984], [57.19053617379046, 0.004888675749292156], [58.018855011536346, 0.004450447682834016], [58.84717384928222, 0.004038134594335984], [59.6754926870281, 0.0036521916879899436], [60.50381152477397, 0.0032924686763547177], [61.33213036251985, 0.002958396896838436], [62.160449200265724, 0.002649188753214142], [62.9887680380116, 0.0023640199899108345], [63.817086875757475, 0.002102171552349133], [64.64540571350335, 0.001863116253936537], [65.47372455124922, 0.0016465447237970802], [66.3020433889951, 0.0014523338129850192], [67.13036222674097, 0.001280467741131863], [67.95868106448685, 0.0011309271167003205], [68.78699990223272, 0.0010035633303108], [69.6153187399786, 0.000897975841694575], [70.44363757772447, 0.0008134079659865361], [71.27195641547036, 0.0007486734684848429], [72.10027525321622, 0.0007021221799442362], [72.92859409096211, 0.0006716484666125866], [73.75691292870799, 0.0006547421404997981], [74.58523176645386, 0.0006485775677047984], [75.41355060419974, 0.0006501335209940225], [76.24186944194561, 0.0006563338594323483], [77.0701882796915, 0.0006641975028427737], [77.89850711743736, 0.0006709854852013455], [78.72682595518324, 0.0006743331790171279], [79.55514479292911, 0.0006723570971018349], [80.383463630675, 0.0006637279382260332], [81.21178246842086, 0.0006477045884165595]]}, \"id\": \"el11969140179945261520\"});\n",
       "            })\n",
       "         });\n",
       "}\n",
       "</script>"
      ],
      "text/plain": [
       "<matplotlib.figure.Figure at 0x7f7e2fd789d0>"
      ]
     },
     "metadata": {},
     "output_type": "display_data"
    }
   ],
   "source": [
    "males_cleaned = males.dropna(subset=['Age'])\n",
    "males_cleaned_survived = males_cleaned[males_cleaned.lived_or_died == 'lived']\n",
    "males_cleaned_died = males_cleaned[males_cleaned.lived_or_died == 'died']\n",
    "axe = seaborn.distplot(males_cleaned_survived.Age, hist=False, label=\"Survived\")\n",
    "axe = seaborn.distplot(males_cleaned_died.Age, hist=False, label='Died')"
   ]
  },
  {
   "cell_type": "markdown",
   "metadata": {
    "ein.tags": [
     "worksheet-0"
    ]
   },
   "source": [
    "Looking at the KDEs, it looks like there are two points where the likelihood of surviving vs dying cross over. Sometime under 20 and around 80. There was only one passenger over 70 so that might not be significant."
   ]
  },
  {
   "cell_type": "code",
   "execution_count": 25,
   "metadata": {
    "autoscroll": "json-false",
    "collapsed": false,
    "ein.tags": [
     "worksheet-0"
    ]
   },
   "outputs": [
    {
     "data": {
      "text/plain": [
       "(0.34, 5.394]         0.161290\n",
       "(5.394, 10.367]       0.043011\n",
       "(10.367, 15.341]      0.021505\n",
       "(15.341, 20.315]      0.086022\n",
       "(20.315, 25.289]      0.086022\n",
       "(25.289, 30.263]      0.161290\n",
       "(30.263, 35.236]      0.161290\n",
       "(35.236, 40.21]       0.086022\n",
       "(40.21, 45.184]       0.064516\n",
       "(45.184, 50.157]      0.064516\n",
       "(50.157, 55.131]      0.021505\n",
       "(55.131, 60.105]      0.021505\n",
       "(60.105, 65.0787]     0.010753\n",
       "(65.0787, 70.0525]    0.000000\n",
       "(70.0525, 75.0263]    0.000000\n",
       "(75.0263, 80]         0.010753\n",
       "dtype: float64"
      ]
     },
     "execution_count": 25,
     "metadata": {},
     "output_type": "execute_result"
    }
   ],
   "source": [
    "lived_bins = pandas.cut(males_cleaned_survived.Age, 16)\n",
    "lived_bins.value_counts(normalize=True).sort_index()"
   ]
  },
  {
   "cell_type": "code",
   "execution_count": 26,
   "metadata": {
    "autoscroll": "json-false",
    "collapsed": false,
    "ein.tags": [
     "worksheet-0"
    ]
   },
   "outputs": [
    {
     "data": {
      "text/plain": [
       "(0.927, 5.562]       0.022222\n",
       "(5.562, 10.125]      0.016667\n",
       "(10.125, 14.688]     0.011111\n",
       "(14.688, 19.25]      0.125000\n",
       "(19.25, 23.812]      0.141667\n",
       "(23.812, 28.375]     0.166667\n",
       "(28.375, 32.938]     0.116667\n",
       "(32.938, 37.5]       0.116667\n",
       "(37.5, 42.0625]      0.080556\n",
       "(42.0625, 46.625]    0.047222\n",
       "(46.625, 51.188]     0.055556\n",
       "(51.188, 55.75]      0.027778\n",
       "(55.75, 60.312]      0.025000\n",
       "(60.312, 64.875]     0.019444\n",
       "(64.875, 69.438]     0.011111\n",
       "(69.438, 74]         0.016667\n",
       "dtype: float64"
      ]
     },
     "execution_count": 26,
     "metadata": {},
     "output_type": "execute_result"
    }
   ],
   "source": [
    "died_bins = pandas.cut(males_cleaned_died.Age, 16)\n",
    "died_bins.value_counts(normalize=True).sort_index()"
   ]
  },
  {
   "cell_type": "markdown",
   "metadata": {
    "ein.tags": [
     "worksheet-0"
    ]
   },
   "source": [
    "Looking at the two tables, all the ages below 15 have higher survival rates than death rates. The course suggests 10 as a cutoff so I'll try that first."
   ]
  },
  {
   "cell_type": "code",
   "execution_count": 27,
   "metadata": {
    "autoscroll": "json-false",
    "collapsed": false,
    "ein.tags": [
     "worksheet-0"
    ]
   },
   "outputs": [],
   "source": [
    "\n",
    "def predict_women_and_ten_year_olds(data, max_age=10):\n",
    "    \"\"\" Model with two features: \n",
    "            - Predict a passenger survived if they are female.\n",
    "            - Predict a passenger survived if they are male and younger than max_age. \"\"\"\n",
    "    def map_women_ten_year_olds(passenger):\n",
    "        return 1 if passenger.Sex == 'female' or passenger.Age < max_age else 0\n",
    "\n",
    "    return data.apply(map_women_ten_year_olds, axis=1)\n",
    "\n",
    "# Make the predictions\n",
    "predictions_women_ten_year_olds = predict_women_and_ten_year_olds(data)"
   ]
  },
  {
   "cell_type": "markdown",
   "metadata": {
    "ein.tags": [
     "worksheet-0"
    ]
   },
   "source": [
    "### Question 3"
   ]
  },
  {
   "cell_type": "markdown",
   "metadata": {
    "ein.tags": [
     "worksheet-0"
    ]
   },
   "source": [
    "*How accurate would a prediction be that all female passengers and all male passengers younger than 10 survived?*  \n",
    "**Hint:** Run the code cell below to see the accuracy of this prediction."
   ]
  },
  {
   "cell_type": "code",
   "execution_count": 28,
   "metadata": {
    "autoscroll": "json-false",
    "collapsed": false,
    "ein.tags": [
     "worksheet-0"
    ]
   },
   "outputs": [
    {
     "name": "stdout",
     "output_type": "stream",
     "text": [
      "Predictions have an accuracy of 79.35%.\n"
     ]
    }
   ],
   "source": [
    "print accuracy_score(outcomes, predictions_women_ten_year_olds)"
   ]
  },
  {
   "cell_type": "code",
   "execution_count": 29,
   "metadata": {
    "autoscroll": "json-false",
    "collapsed": false,
    "ein.tags": [
     "worksheet-0"
    ]
   },
   "outputs": [
    {
     "name": "stdout",
     "output_type": "stream",
     "text": [
      "Predictions have an accuracy of 79.01%.\n"
     ]
    }
   ],
   "source": [
    "predictions_women_15_year_olds = predict_women_and_ten_year_olds(data, max_age=15)\n",
    "print accuracy_score(outcomes, predictions_women_15_year_olds)"
   ]
  },
  {
   "cell_type": "markdown",
   "metadata": {
    "ein.tags": [
     "worksheet-0"
    ]
   },
   "source": [
    "No, ten seems to be a magic number."
   ]
  },
  {
   "cell_type": "markdown",
   "metadata": {
    "ein.tags": [
     "worksheet-0"
    ]
   },
   "source": [
    "Adding the feature **Age** as a condition in conjunction with **Sex** improves the accuracy by a small margin more than with simply using the feature **Sex** alone. Now it's your turn: Find a series of features and conditions to split the data on to obtain an outcome prediction accuracy of at least 80%. This may require multiple features and multiple levels of conditional statements to succeed. You can use the same feature multiple times with different conditions.   \n",
    "**Pclass**, **Sex**, **Age**, **SibSp**, and **Parch** are some suggested features to try.\n",
    "\n",
    "Use the `survival_stats` function below to to examine various survival statistics.  \n",
    "**Hint:** To use mulitple filter conditions, put each condition in the list passed as the last argument. Example: `[\"Sex == 'male'\", \"Age < 18\"]`"
   ]
  },
  {
   "cell_type": "markdown",
   "metadata": {
    "ein.tags": [
     "worksheet-0"
    ]
   },
   "source": [
    "## Impute the data"
   ]
  },
  {
   "cell_type": "markdown",
   "metadata": {
    "ein.tags": [
     "worksheet-0"
    ]
   },
   "source": [
    "What if the missing data is used?"
   ]
  },
  {
   "cell_type": "code",
   "execution_count": 31,
   "metadata": {
    "autoscroll": "json-false",
    "collapsed": false,
    "ein.tags": [
     "worksheet-0"
    ]
   },
   "outputs": [
    {
     "name": "stdout",
     "output_type": "stream",
     "text": [
      "[MICE] Completing matrix with shape (577, 1)\n",
      "[MICE] Starting imputation round 1/110, elapsed time 0.000\n",
      "[MICE] Starting imputation round 2/110, elapsed time 0.001\n",
      "[MICE] Starting imputation round 3/110, elapsed time 0.001\n",
      "[MICE] Starting imputation round 4/110, elapsed time 0.002\n",
      "[MICE] Starting imputation round 5/110, elapsed time 0.002\n",
      "[MICE] Starting imputation round 6/110, elapsed time 0.002\n",
      "[MICE] Starting imputation round 7/110, elapsed time 0.002\n",
      "[MICE] Starting imputation round 8/110, elapsed time 0.003\n",
      "[MICE] Starting imputation round 9/110, elapsed time 0.003\n",
      "[MICE] Starting imputation round 10/110, elapsed time 0.005\n",
      "[MICE] Starting imputation round 11/110, elapsed time 0.005\n",
      "[MICE] Starting imputation round 12/110, elapsed time 0.005\n",
      "[MICE] Starting imputation round 13/110, elapsed time 0.005\n",
      "[MICE] Starting imputation round 14/110, elapsed time 0.006\n",
      "[MICE] Starting imputation round 15/110, elapsed time 0.006\n",
      "[MICE] Starting imputation round 16/110, elapsed time 0.008\n",
      "[MICE] Starting imputation round 17/110, elapsed time 0.009\n",
      "[MICE] Starting imputation round 18/110, elapsed time 0.010\n",
      "[MICE] Starting imputation round 19/110, elapsed time 0.014\n",
      "[MICE] Starting imputation round 20/110, elapsed time 0.014\n",
      "[MICE] Starting imputation round 21/110, elapsed time 0.014\n",
      "[MICE] Starting imputation round 22/110, elapsed time 0.014\n",
      "[MICE] Starting imputation round 23/110, elapsed time 0.015\n",
      "[MICE] Starting imputation round 24/110, elapsed time 0.015\n",
      "[MICE] Starting imputation round 25/110, elapsed time 0.015\n",
      "[MICE] Starting imputation round 26/110, elapsed time 0.015\n",
      "[MICE] Starting imputation round 27/110, elapsed time 0.015\n",
      "[MICE] Starting imputation round 28/110, elapsed time 0.019\n",
      "[MICE] Starting imputation round 29/110, elapsed time 0.020\n",
      "[MICE] Starting imputation round 30/110, elapsed time 0.020\n",
      "[MICE] Starting imputation round 31/110, elapsed time 0.020\n",
      "[MICE] Starting imputation round 32/110, elapsed time 0.020\n",
      "[MICE] Starting imputation round 33/110, elapsed time 0.020\n",
      "[MICE] Starting imputation round 34/110, elapsed time 0.021\n",
      "[MICE] Starting imputation round 35/110, elapsed time 0.021\n",
      "[MICE] Starting imputation round 36/110, elapsed time 0.021\n",
      "[MICE] Starting imputation round 37/110, elapsed time 0.021\n",
      "[MICE] Starting imputation round 38/110, elapsed time 0.021\n",
      "[MICE] Starting imputation round 39/110, elapsed time 0.022\n",
      "[MICE] Starting imputation round 40/110, elapsed time 0.022\n",
      "[MICE] Starting imputation round 41/110, elapsed time 0.022\n",
      "[MICE] Starting imputation round 42/110, elapsed time 0.022\n",
      "[MICE] Starting imputation round 43/110, elapsed time 0.022\n",
      "[MICE] Starting imputation round 44/110, elapsed time 0.022\n",
      "[MICE] Starting imputation round 45/110, elapsed time 0.023\n",
      "[MICE] Starting imputation round 46/110, elapsed time 0.023\n",
      "[MICE] Starting imputation round 47/110, elapsed time 0.023\n",
      "[MICE] Starting imputation round 48/110, elapsed time 0.023\n",
      "[MICE] Starting imputation round 49/110, elapsed time 0.023\n",
      "[MICE] Starting imputation round 50/110, elapsed time 0.024\n",
      "[MICE] Starting imputation round 51/110, elapsed time 0.024\n",
      "[MICE] Starting imputation round 52/110, elapsed time 0.024\n",
      "[MICE] Starting imputation round 53/110, elapsed time 0.024\n",
      "[MICE] Starting imputation round 54/110, elapsed time 0.024\n",
      "[MICE] Starting imputation round 55/110, elapsed time 0.024\n",
      "[MICE] Starting imputation round 56/110, elapsed time 0.025\n",
      "[MICE] Starting imputation round 57/110, elapsed time 0.025\n",
      "[MICE] Starting imputation round 58/110, elapsed time 0.025\n",
      "[MICE] Starting imputation round 59/110, elapsed time 0.025\n",
      "[MICE] Starting imputation round 60/110, elapsed time 0.025\n",
      "[MICE] Starting imputation round 61/110, elapsed time 0.026\n",
      "[MICE] Starting imputation round 62/110, elapsed time 0.026\n",
      "[MICE] Starting imputation round 63/110, elapsed time 0.026\n",
      "[MICE] Starting imputation round 64/110, elapsed time 0.026\n",
      "[MICE] Starting imputation round 65/110, elapsed time 0.026\n",
      "[MICE] Starting imputation round 66/110, elapsed time 0.026\n",
      "[MICE] Starting imputation round 67/110, elapsed time 0.027\n",
      "[MICE] Starting imputation round 68/110, elapsed time 0.027\n",
      "[MICE] Starting imputation round 69/110, elapsed time 0.027\n",
      "[MICE] Starting imputation round 70/110, elapsed time 0.027\n",
      "[MICE] Starting imputation round 71/110, elapsed time 0.027\n",
      "[MICE] Starting imputation round 72/110, elapsed time 0.028\n",
      "[MICE] Starting imputation round 73/110, elapsed time 0.028\n",
      "[MICE] Starting imputation round 74/110, elapsed time 0.028\n",
      "[MICE] Starting imputation round 75/110, elapsed time 0.028\n",
      "[MICE] Starting imputation round 76/110, elapsed time 0.028\n",
      "[MICE] Starting imputation round 77/110, elapsed time 0.028\n",
      "[MICE] Starting imputation round 78/110, elapsed time 0.029\n",
      "[MICE] Starting imputation round 79/110, elapsed time 0.029\n",
      "[MICE] Starting imputation round 80/110, elapsed time 0.029\n",
      "[MICE] Starting imputation round 81/110, elapsed time 0.029\n",
      "[MICE] Starting imputation round 82/110, elapsed time 0.029\n",
      "[MICE] Starting imputation round 83/110, elapsed time 0.030\n",
      "[MICE] Starting imputation round 84/110, elapsed time 0.030\n",
      "[MICE] Starting imputation round 85/110, elapsed time 0.030\n",
      "[MICE] Starting imputation round 86/110, elapsed time 0.030\n",
      "[MICE] Starting imputation round 87/110, elapsed time 0.030\n",
      "[MICE] Starting imputation round 88/110, elapsed time 0.030\n",
      "[MICE] Starting imputation round 89/110, elapsed time 0.031\n",
      "[MICE] Starting imputation round 90/110, elapsed time 0.031\n",
      "[MICE] Starting imputation round 91/110, elapsed time 0.031\n",
      "[MICE] Starting imputation round 92/110, elapsed time 0.031\n",
      "[MICE] Starting imputation round 93/110, elapsed time 0.031\n",
      "[MICE] Starting imputation round 94/110, elapsed time 0.032\n",
      "[MICE] Starting imputation round 95/110, elapsed time 0.032\n",
      "[MICE] Starting imputation round 96/110, elapsed time 0.032\n",
      "[MICE] Starting imputation round 97/110, elapsed time 0.032\n",
      "[MICE] Starting imputation round 98/110, elapsed time 0.032\n",
      "[MICE] Starting imputation round 99/110, elapsed time 0.032\n",
      "[MICE] Starting imputation round 100/110, elapsed time 0.033\n",
      "[MICE] Starting imputation round 101/110, elapsed time 0.033\n",
      "[MICE] Starting imputation round 102/110, elapsed time 0.033\n",
      "[MICE] Starting imputation round 103/110, elapsed time 0.033\n",
      "[MICE] Starting imputation round 104/110, elapsed time 0.033\n",
      "[MICE] Starting imputation round 105/110, elapsed time 0.034\n",
      "[MICE] Starting imputation round 106/110, elapsed time 0.034\n",
      "[MICE] Starting imputation round 107/110, elapsed time 0.034\n",
      "[MICE] Starting imputation round 108/110, elapsed time 0.034\n",
      "[MICE] Starting imputation round 109/110, elapsed time 0.034\n",
      "[MICE] Starting imputation round 110/110, elapsed time 0.034\n"
     ]
    }
   ],
   "source": [
    "male_ages_imputed = MICE().complete(males.Age.reshape(-1, 1))"
   ]
  },
  {
   "cell_type": "code",
   "execution_count": null,
   "metadata": {
    "collapsed": true
   },
   "outputs": [],
   "source": []
  },
  {
   "cell_type": "code",
   "execution_count": null,
   "metadata": {
    "autoscroll": "json-false",
    "collapsed": false,
    "ein.tags": [
     "worksheet-0"
    ]
   },
   "outputs": [],
   "source": [
    "full_data.Pclass.unique()"
   ]
  },
  {
   "cell_type": "code",
   "execution_count": null,
   "metadata": {
    "autoscroll": "json-false",
    "collapsed": false,
    "ein.tags": [
     "worksheet-0"
    ]
   },
   "outputs": [],
   "source": [
    "survival_stats(data, outcomes, 'Parch')"
   ]
  },
  {
   "cell_type": "markdown",
   "metadata": {
    "ein.tags": [
     "worksheet-0"
    ]
   },
   "source": [
    "After exploring the survival statistics visualization, fill in the missing code below so that the function will make your prediction.  \n",
    "Make sure to keep track of the various features and conditions you tried before arriving at your final prediction model.  \n",
    "**Hint:** You can start your implementation of this function using the prediction code you wrote earlier from `predictions_2`."
   ]
  },
  {
   "cell_type": "code",
   "execution_count": null,
   "metadata": {
    "autoscroll": "json-false",
    "collapsed": false,
    "ein.tags": [
     "worksheet-0"
    ]
   },
   "outputs": [],
   "source": [
    "def predictions_3(data):\n",
    "    \"\"\" Model with multiple features. Makes a prediction with an accuracy of at least 80%. \"\"\"\n",
    "    \n",
    "    predictions = []\n",
    "    for _, passenger in data.iterrows():\n",
    "        \n",
    "        # Remove the 'pass' statement below \n",
    "        # and write your prediction conditions here\n",
    "        predictions.append(1 if passenger.Sex == 'female' or passenger.Age < 10 and passenger.Pclass > 1 and passenger.SibSp == 1 else 0)\n",
    "    \n",
    "    # Return our predictions\n",
    "    return pd.Series(predictions)\n",
    "\n",
    "# Make the predictions\n",
    "predictions = predictions_3(data)"
   ]
  },
  {
   "cell_type": "markdown",
   "metadata": {
    "ein.tags": [
     "worksheet-0"
    ]
   },
   "source": [
    "### Question 4"
   ]
  },
  {
   "cell_type": "markdown",
   "metadata": {
    "ein.tags": [
     "worksheet-0"
    ]
   },
   "source": [
    "*Describe the steps you took to implement the final prediction model so that it got an accuracy of at least 80%. What features did you look at? Were certain features more informative than others? Which conditions did you use to split the survival outcomes in the data? How accurate are your predictions?*  \n",
    "**Hint:** Run the code cell below to see the accuracy of your predictions."
   ]
  },
  {
   "cell_type": "code",
   "execution_count": null,
   "metadata": {
    "autoscroll": "json-false",
    "collapsed": false,
    "ein.tags": [
     "worksheet-0"
    ]
   },
   "outputs": [],
   "source": [
    "print accuracy_score(outcomes, predictions)"
   ]
  },
  {
   "cell_type": "markdown",
   "metadata": {
    "ein.tags": [
     "worksheet-0"
    ]
   },
   "source": [
    "**Answer**: Replace this text with your answer to the question above."
   ]
  },
  {
   "cell_type": "markdown",
   "metadata": {
    "ein.tags": [
     "worksheet-0"
    ]
   },
   "source": [
    "# Conclusion\n",
    "\n",
    "Congratulations on what you've accomplished here! You should now have an algorithm for predicting whether or not a person survived the Titanic disaster, based on their features. In fact, what you have done here is a manual implementation of a simple machine learning model, the _decision tree_. In a decision tree, we split the data into smaller groups, one feature at a time. Each of these splits will result in groups that are more homogeneous than the original group, so that our predictions become more accurate. The advantage of having a computer do things for us is that it will be more exhaustive and more precise than our manual exploration above. [This link](http://www.r2d3.us/visual-intro-to-machine-learning-part-1/) provides another introduction into machine learning using a decision tree.\n",
    "\n",
    "A decision tree is just one of many algorithms that fall into the category of _supervised learning_. In this Nanodegree, you'll learn about supervised learning techniques first. In supervised learning, we concern ourselves with using features of data to predict or model things with objective outcome labels. That is, each of our datapoints has a true outcome value, whether that be a category label like survival in the Titanic dataset, or a continuous value like predicting the price of a house.\n",
    "\n",
    "### Question 5\n",
    "*Can you think of an example of where supervised learning can be applied?*  \n",
    "**Hint:** Be sure to note the outcome variable to be predicted and at least two features that might be useful for making the predictions."
   ]
  },
  {
   "cell_type": "markdown",
   "metadata": {
    "ein.tags": [
     "worksheet-0"
    ]
   },
   "source": [
    "**Answer**: Replace this text with your answer to the question above."
   ]
  },
  {
   "cell_type": "markdown",
   "metadata": {
    "ein.tags": [
     "worksheet-0"
    ]
   },
   "source": [
    "> **Tip:** If we want to share the results of our analysis with others, we aren't limited to giving them a copy of the iPython Notebook (.ipynb) file. We can also export the Notebook output in a form that can be opened even for those without Python installed. From the **File** menu in the upper left, go to the **Download as** submenu. You can then choose a different format that can be viewed more generally, such as HTML (.html) or  \n",
    "PDF (.pdf). You may need additional packages or software to perform these exports."
   ]
  }
 ],
 "metadata": {
  "kernelspec": {
   "display_name": "Python 2",
   "language": "python",
   "name": "python2"
  },
  "language_info": {
   "codemirror_mode": {
    "name": "ipython",
    "version": 2
   },
   "file_extension": ".py",
   "mimetype": "text/x-python",
   "name": "python",
   "nbconvert_exporter": "python",
   "pygments_lexer": "ipython2",
   "version": "2.7.9"
  },
  "name": "Titanic_Survival_Exploration.ipynb"
 },
 "nbformat": 4,
 "nbformat_minor": 0
}
